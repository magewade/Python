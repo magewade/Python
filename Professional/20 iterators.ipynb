{
 "cells": [
  {
   "cell_type": "code",
   "execution_count": 1,
   "metadata": {},
   "outputs": [
    {
     "name": "stdout",
     "output_type": "stream",
     "text": [
      "False\n",
      "True\n"
     ]
    }
   ],
   "source": [
    "beegeek = 'beegeek'\n",
    "iterator = iter(beegeek)\n",
    "\n",
    "print(beegeek == iterator)\n",
    "print(iterator == iter(iterator))"
   ]
  },
  {
   "cell_type": "code",
   "execution_count": 2,
   "metadata": {},
   "outputs": [
    {
     "name": "stdout",
     "output_type": "stream",
     "text": [
      "True\n",
      "False\n",
      "True\n"
     ]
    }
   ],
   "source": [
    "def is_iterable(obj):\n",
    "    if '__iter__' in dir(obj):\n",
    "        return True\n",
    "    else:\n",
    "        return False\n",
    "    \n",
    "objects = [(1, 13), 7.0004, [1, 2, 3]]\n",
    "\n",
    "for obj in objects:\n",
    "    print(is_iterable(obj))\n"
   ]
  },
  {
   "cell_type": "code",
   "execution_count": null,
   "metadata": {},
   "outputs": [],
   "source": [
    "def is_iterator(obj):\n",
    "    if '__next__' in dir(obj):\n",
    "        return True \n",
    "    else:\n",
    "        return False"
   ]
  },
  {
   "cell_type": "code",
   "execution_count": 3,
   "metadata": {},
   "outputs": [
    {
     "name": "stdout",
     "output_type": "stream",
     "text": [
      "5\n"
     ]
    }
   ],
   "source": [
    "numbers = [1, 2, 3, 4, 5]\n",
    "\n",
    "iterator = iter(numbers)\n",
    "\n",
    "next(iterator)\n",
    "next(iterator)\n",
    "\n",
    "del numbers[0]\n",
    "del numbers[1]\n",
    "\n",
    "print(next(iterator))"
   ]
  },
  {
   "cell_type": "code",
   "execution_count": 4,
   "metadata": {},
   "outputs": [
    {
     "name": "stdout",
     "output_type": "stream",
     "text": [
      "geek\n",
      "geek\n",
      "geek\n"
     ]
    }
   ],
   "source": [
    "class Repeater:\n",
    "    def __init__(self, obj):\n",
    "        self.obj = obj\n",
    "\n",
    "    def __iter__(self):\n",
    "        return self\n",
    "\n",
    "    def __next__(self):\n",
    "        return self.obj\n",
    "    \n",
    "    \n",
    "geek = Repeater('geek')\n",
    "\n",
    "print(next(geek))\n",
    "print(next(geek))\n",
    "print(next(geek))"
   ]
  },
  {
   "cell_type": "code",
   "execution_count": 5,
   "metadata": {},
   "outputs": [
    {
     "name": "stdout",
     "output_type": "stream",
     "text": [
      "geek\n",
      "geek\n",
      "geek\n",
      "Error\n"
     ]
    }
   ],
   "source": [
    "class BoundedRepeater:\n",
    "    def __init__(self, obj, times):\n",
    "        self.obj = obj\n",
    "        self.times = times\n",
    "        self.count = 0\n",
    "\n",
    "    def __iter__(self):\n",
    "        return self\n",
    "\n",
    "    def __next__(self):\n",
    "        if self.count < self.times:\n",
    "            self.count += 1\n",
    "            return self.obj\n",
    "        else:\n",
    "            raise StopIteration\n",
    "        \n",
    "        \n",
    "        \n",
    "geek = BoundedRepeater('geek', 3)\n",
    "\n",
    "print(next(geek))\n",
    "print(next(geek))\n",
    "print(next(geek))\n",
    "\n",
    "try:\n",
    "    print(next(geek))\n",
    "except StopIteration:\n",
    "    print('Error')"
   ]
  },
  {
   "cell_type": "code",
   "execution_count": 7,
   "metadata": {},
   "outputs": [
    {
     "name": "stdout",
     "output_type": "stream",
     "text": [
      "1\n",
      "4\n"
     ]
    }
   ],
   "source": [
    "class Square:\n",
    "    def __init__(self, n):\n",
    "        self.n = n\n",
    "        self.current = 1\n",
    "        self.count = 0\n",
    "\n",
    "    def __iter__(self):\n",
    "        return self\n",
    "\n",
    "    def __next__(self):\n",
    "        if self.count < self.n:\n",
    "            result = self.current ** 2\n",
    "            self.current += 1\n",
    "            self.count += 1\n",
    "            return result\n",
    "        else:\n",
    "            raise StopIteration\n",
    "        \n",
    "squares = Square(2)\n",
    "\n",
    "print(next(squares))\n",
    "print(next(squares))"
   ]
  },
  {
   "cell_type": "code",
   "execution_count": 8,
   "metadata": {},
   "outputs": [
    {
     "name": "stdout",
     "output_type": "stream",
     "text": [
      "1\n",
      "1\n",
      "1\n",
      "2\n",
      "3\n"
     ]
    }
   ],
   "source": [
    "class Fibonacci:\n",
    "    def __init__(self):\n",
    "        self.prev, self.current = 0, 1\n",
    "\n",
    "    def __iter__(self):\n",
    "        return self\n",
    "\n",
    "    def __next__(self):\n",
    "        result = self.current\n",
    "        self.prev, self.current = self.current, self.prev + self.current\n",
    "        return result\n",
    "\n",
    "# Примеры использования:\n",
    "\n",
    "# Пример 1\n",
    "fibonacci1 = Fibonacci()\n",
    "print(next(fibonacci1))\n",
    "\n",
    "# Пример 2\n",
    "fibonacci2 = Fibonacci()\n",
    "print(next(fibonacci2))\n",
    "print(next(fibonacci2))\n",
    "print(next(fibonacci2))\n",
    "print(next(fibonacci2))\n"
   ]
  },
  {
   "cell_type": "code",
   "execution_count": 9,
   "metadata": {},
   "outputs": [
    {
     "name": "stdout",
     "output_type": "stream",
     "text": [
      "1\n",
      "2\n",
      "4\n",
      "8\n"
     ]
    }
   ],
   "source": [
    "class PowerOf:\n",
    "    def __init__(self, number):\n",
    "        self.number = number\n",
    "        self.current_power = 0\n",
    "\n",
    "    def __iter__(self):\n",
    "        return self\n",
    "\n",
    "    def __next__(self):\n",
    "        result = self.number ** self.current_power\n",
    "        self.current_power += 1\n",
    "        return result\n",
    "\n",
    "# Пример использования:\n",
    "\n",
    "power_of_two = PowerOf(2)\n",
    "print(next(power_of_two))\n",
    "print(next(power_of_two))\n",
    "print(next(power_of_two))\n",
    "print(next(power_of_two))\n"
   ]
  },
  {
   "cell_type": "code",
   "execution_count": null,
   "metadata": {},
   "outputs": [],
   "source": []
  }
 ],
 "metadata": {
  "kernelspec": {
   "display_name": ".venv",
   "language": "python",
   "name": "python3"
  },
  "language_info": {
   "codemirror_mode": {
    "name": "ipython",
    "version": 3
   },
   "file_extension": ".py",
   "mimetype": "text/x-python",
   "name": "python",
   "nbconvert_exporter": "python",
   "pygments_lexer": "ipython3",
   "version": "3.11.2"
  }
 },
 "nbformat": 4,
 "nbformat_minor": 2
}
