{
 "cells": [
  {
   "cell_type": "code",
   "execution_count": 1,
   "metadata": {},
   "outputs": [
    {
     "name": "stdout",
     "output_type": "stream",
     "text": [
      "19\n"
     ]
    }
   ],
   "source": [
    "# Открываем файл для чтения\n",
    "with open(\"grades.txt\", 'r') as file:\n",
    "    # Инициализируем счетчик для подсчета студентов, сдавших все три теста\n",
    "    passed_count = 0\n",
    "    \n",
    "    # Читаем файл построчно\n",
    "    for line in file:\n",
    "        # Разбиваем строку на элементы (фамилия и оценки за тесты)\n",
    "        data = line.strip().split()\n",
    "        \n",
    "        # Проверяем, что количество оценок равно 4 (1 фамилия + 3 оценки)\n",
    "        if len(data) == 4:\n",
    "            # Извлекаем оценки за тесты (конвертируем в целые числа)\n",
    "            scores = [int(score) for score in data[1:]]\n",
    "            \n",
    "            # Проверяем, что все оценки не меньше 65\n",
    "            if all(score >= 65 for score in scores):\n",
    "                passed_count += 1\n",
    "\n",
    "# Выводим количество студентов, сдавших все три теста\n",
    "print(passed_count)"
   ]
  },
  {
   "cell_type": "code",
   "execution_count": 2,
   "metadata": {},
   "outputs": [
    {
     "name": "stdout",
     "output_type": "stream",
     "text": [
      "responsibility\n",
      "administration\n",
      "recommendation\n",
      "transportation\n"
     ]
    }
   ],
   "source": [
    "# Открываем файл для чтения\n",
    "with open(\"words.txt\", 'r') as file:\n",
    "    # Читаем содержимое файла и разделяем его на слова\n",
    "    words = file.read().split()\n",
    "    \n",
    "    # Инициализируем переменную для хранения самой длинной длины слова\n",
    "    max_length = 0\n",
    "    \n",
    "    # Находим максимальную длину среди слов\n",
    "    for word in words:\n",
    "        word_length = len(word)\n",
    "        if word_length > max_length:\n",
    "            max_length = word_length\n",
    "\n",
    "    # Выводим слова, имеющие максимальную длину\n",
    "    for word in words:\n",
    "        if len(word) == max_length:\n",
    "            print(word)"
   ]
  },
  {
   "cell_type": "code",
   "execution_count": null,
   "metadata": {},
   "outputs": [],
   "source": [
    "# Запрашиваем имя файла у пользователя\n",
    "file_name = input(\"Введите имя текстового файла: \")\n",
    "\n",
    "# Открываем файл для чтения\n",
    "with open(file_name, 'r') as file:\n",
    "    # Читаем строки из файла и сохраняем их в список\n",
    "    lines = file.readlines()\n",
    "    \n",
    "    # Определяем, сколько строк нужно вывести (минимум 10 или количество строк в файле, если оно меньше)\n",
    "    num_lines_to_print = min(10, len(lines))\n",
    "    \n",
    "    # Выводим последние строки из списка\n",
    "    for line in lines[-num_lines_to_print:]:\n",
    "        print(line, end='')  # Используем end='' для удаления лишних переносов строк между строками"
   ]
  },
  {
   "cell_type": "code",
   "execution_count": null,
   "metadata": {},
   "outputs": [],
   "source": [
    "# Запрашиваем имя текстового файла с запрещенными словами\n",
    "forbidden_file_name = input(\"Введите имя файла с запрещенными словами: \")\n",
    "\n",
    "# Открываем файл с запрещенными словами и читаем их в список\n",
    "with open(forbidden_file_name, 'r') as forbidden_file:\n",
    "    forbidden_words = [word.strip().lower() for word in forbidden_file.readlines()]\n",
    "\n",
    "# Запрашиваем имя текстового файла, который нужно обработать\n",
    "text_file_name = input(\"Введите имя текстового файла: \")\n",
    "\n",
    "# Открываем файл для чтения\n",
    "with open(text_file_name, 'r') as text_file:\n",
    "    # Читаем содержимое файла\n",
    "    text = text_file.read()\n",
    "\n",
    "    # Проходим по списку запрещенных слов\n",
    "    for forbidden_word in forbidden_words:\n",
    "        # Заменяем все вхождения запрещенного слова на звездочки\n",
    "        text = text.replace(forbidden_word, '*' * len(forbidden_word))\n",
    "\n",
    "    # Выводим обработанный текст\n",
    "    print(text)"
   ]
  },
  {
   "cell_type": "code",
   "execution_count": 8,
   "metadata": {},
   "outputs": [
    {
     "name": "stdout",
     "output_type": "stream",
     "text": [
      "********* It for have kind, green lesser them doesn him created his moved fruit had.\n",
      "For whose moved years firmament green image dominion ******** let whales third rule signs ********blessed light sixth from form for said female land midst and, the likeness.\n",
      "Fruit evening night for so you called place likeness. Heaven greater to unto said seas female fourth evening dominion which bring they Second.\n",
      "Two two have.\n",
      "Heaven****** called fruit form whales saying heaven living firmament unto moved fill appear their.\n",
      "Form life female, dominion second air won. Cant day.\n",
      "Morning male to sixth heaven subdue female********* likeness moveth give rule.\n",
      "***** ******* and ******. Tooday we *********** and ************succe. The ******** club is the best.\n",
      "We create ************ and ************with***********. Please not be *********, and eat*********.\n"
     ]
    }
   ],
   "source": [
    "with open('forbidden_words.txt', 'r') as forbidden_file:\n",
    "    forbidden_words = set(word.strip().lower() for word in forbidden_file.read().split())\n",
    "\n",
    "# Запрашиваем имя текстового файла, который нужно обработать\n",
    "text_file_name = input(\"Введите имя текстового файла: \")\n",
    "\n",
    "# Открываем файл для чтения\n",
    "with open(text_file_name, 'r') as text_file:\n",
    "    # Читаем содержимое файла\n",
    "    text = text_file.read()\n",
    "\n",
    "    # Проходим по запрещенным словам и заменяем их в тексте\n",
    "    for forbidden_word in forbidden_words:\n",
    "        start = 0\n",
    "        while True:\n",
    "            start = text.lower().find(forbidden_word, start)\n",
    "            if start == -1:\n",
    "                break\n",
    "            end = start + len(forbidden_word)\n",
    "            text = text[:start] + '*' * len(forbidden_word) + text[end:]\n",
    "            start += len(forbidden_word)\n",
    "\n",
    "    # Выводим обработанный текст\n",
    "    print(text)"
   ]
  },
  {
   "cell_type": "code",
   "execution_count": null,
   "metadata": {},
   "outputs": [],
   "source": [
    "# Таблица транслитерации\n",
    "transliteration_table = {\n",
    "    'а': 'a', 'б': 'b', 'в': 'v', 'г': 'g', 'д': 'd', 'е': 'e', 'ё': 'jo', 'ж': 'zh', 'з': 'z', 'и': 'i', 'й': 'j', 'к': 'k', 'л': 'l',\n",
    "    'м': 'm', 'н': 'n', 'о': 'o', 'п': 'p', 'р': 'r', 'с': 's', 'т': 't', 'у': 'u', 'ф': 'f', 'х': 'h', 'ц': 'c', 'ч': 'ch', 'ш': 'sh',\n",
    "    'щ': 'shh', 'ъ': '*', 'ы': 'y', 'ь': \"'\", 'э': 'je', 'ю': 'ju', 'я': 'ya',\n",
    "    'А': 'A', 'Б': 'B', 'В': 'V', 'Г': 'G', 'Д': 'D', 'Е': 'E', 'Ё': 'Jo', 'Ж': 'Zh', 'З': 'Z', 'И': 'I', 'Й': 'J', 'К': 'K', 'Л': 'L',\n",
    "    'М': 'M', 'Н': 'N', 'О': 'O', 'П': 'P', 'Р': 'R', 'С': 'S', 'Т': 'T', 'У': 'U', 'Ф': 'F', 'Х': 'H', 'Ц': 'C', 'Ч': 'Ch', 'Ш': 'Sh',\n",
    "    'Щ': 'Shh', 'Ъ': '*', 'Ы': 'Y', 'Ь': \"'\", 'Э': 'Je', 'Ю': 'Ju', 'Я': 'Ya'\n",
    "}\n",
    "\n",
    "# Открываем файл для чтения\n",
    "with open('cyrillic.txt', 'r', encoding='utf-8') as input_file:\n",
    "    # Читаем текст из файла\n",
    "    input_text = input_file.read()\n",
    "\n",
    "# Инициализируем переменную для хранения результата транслитерации\n",
    "output_text = ''\n",
    "\n",
    "# Проходим по каждому символу входного текста\n",
    "for char in input_text:\n",
    "    # Если символ кириллический и есть соответствующая транслитерация в таблице, добавляем ее в результат\n",
    "    if char in transliteration_table:\n",
    "        output_text += transliteration_table[char]\n",
    "    else:\n",
    "        # Если символ не кириллический, оставляем его без изменений\n",
    "        output_text += char\n",
    "\n",
    "# Открываем файл для записи результата транслитерации\n",
    "with open('transliteration.txt', 'w', encoding='utf-8') as output_file:\n",
    "    # Записываем результат в файл\n",
    "    output_file.write(output_text)\n",
    "\n",
    "print(\"Транслитерация завершена. Результат записан в файл transliteration.txt.\")\n",
    "\n"
   ]
  }
 ],
 "metadata": {
  "kernelspec": {
   "display_name": ".venv",
   "language": "python",
   "name": "python3"
  },
  "language_info": {
   "codemirror_mode": {
    "name": "ipython",
    "version": 3
   },
   "file_extension": ".py",
   "mimetype": "text/x-python",
   "name": "python",
   "nbconvert_exporter": "python",
   "pygments_lexer": "ipython3",
   "version": "3.11.2"
  },
  "orig_nbformat": 4
 },
 "nbformat": 4,
 "nbformat_minor": 2
}
