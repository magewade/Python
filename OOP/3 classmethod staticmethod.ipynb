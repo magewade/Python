{
 "cells": [
  {
   "cell_type": "code",
   "execution_count": 4,
   "metadata": {},
   "outputs": [
    {
     "name": "stdout",
     "output_type": "stream",
     "text": [
      "5\n",
      "5.0\n"
     ]
    }
   ],
   "source": [
    "class Circle:\n",
    "    def __init__(self, radius):\n",
    "        self.radius = radius\n",
    "\n",
    "    @classmethod\n",
    "    def from_diameter(cls, diameter):\n",
    "        return cls(diameter / 2)\n",
    "    \n",
    "\n",
    "circle = Circle(5)\n",
    "\n",
    "print(circle.radius)\n",
    "\n",
    "circle = Circle.from_diameter(10)\n",
    "\n",
    "print(circle.radius)"
   ]
  },
  {
   "cell_type": "code",
   "execution_count": 1,
   "metadata": {},
   "outputs": [
    {
     "name": "stdout",
     "output_type": "stream",
     "text": [
      "1\n",
      "-5\n",
      "6\n",
      "2\n",
      "13\n",
      "-1\n",
      "-1.5\n",
      "4.0\n",
      "14.8\n",
      "17.3\n"
     ]
    }
   ],
   "source": [
    "class QuadraticPolynomial:\n",
    "    def __init__(self, a, b, c):\n",
    "        self.a = a\n",
    "        self.b = b\n",
    "        self.c = c\n",
    "\n",
    "    @classmethod\n",
    "    def from_iterable(cls, iterable):\n",
    "        return cls(*iterable)\n",
    "\n",
    "    @classmethod\n",
    "    def from_str(cls, input_str):\n",
    "        coefficients = [float(x) for x in input_str.split()]\n",
    "        return cls(*coefficients)\n",
    "\n",
    "# Примеры использования:\n",
    "\n",
    "# Пример 1\n",
    "polynom1 = QuadraticPolynomial(1, -5, 6)\n",
    "print(polynom1.a)  # 1\n",
    "print(polynom1.b)  # -5\n",
    "print(polynom1.c)  # 6\n",
    "\n",
    "# Пример 2\n",
    "polynom2 = QuadraticPolynomial.from_iterable([2, 13, -1])\n",
    "print(polynom2.a)  # 2\n",
    "print(polynom2.b)  # 13\n",
    "print(polynom2.c)  # -1\n",
    "\n",
    "# Пример 3\n",
    "polynom3 = QuadraticPolynomial.from_str('-1.5 4 14.8')\n",
    "print(polynom3.a)  # -1.5\n",
    "print(polynom3.b)  # 4.0\n",
    "print(polynom3.c)  # 14.8\n",
    "print(polynom3.a + polynom3.b + polynom3.c)  # 17.3\n"
   ]
  },
  {
   "cell_type": "code",
   "execution_count": 9,
   "metadata": {},
   "outputs": [
    {
     "name": "stdout",
     "output_type": "stream",
     "text": [
      "None\n",
      "None\n",
      "0\n"
     ]
    }
   ],
   "source": [
    "class Pet:\n",
    "    pets = []\n",
    "\n",
    "    def __init__(self, name):\n",
    "        self.name = name\n",
    "        Pet.pets.append(self)\n",
    "\n",
    "    @classmethod\n",
    "    def first_pet(cls):\n",
    "        return cls.pets[0] if cls.pets else None\n",
    "\n",
    "    @classmethod\n",
    "    def last_pet(cls):\n",
    "        return cls.pets[-1] if cls.pets else None\n",
    "\n",
    "    @classmethod\n",
    "    def num_of_pets(cls):\n",
    "        return len(cls.pets)\n",
    "        \n",
    "print(Pet.first_pet())\n",
    "print(Pet.last_pet())\n",
    "print(Pet.num_of_pets())"
   ]
  },
  {
   "cell_type": "code",
   "execution_count": 10,
   "metadata": {},
   "outputs": [
    {
     "name": "stdout",
     "output_type": "stream",
     "text": [
      "Pthn\n",
      "Stpk\n",
      "Python\n",
      "Stepik\n",
      "-y-ho-\n",
      "S#epi#\n"
     ]
    }
   ],
   "source": [
    "import re\n",
    "\n",
    "class StrExtension:\n",
    "    @staticmethod\n",
    "    def remove_vowels(input_str):\n",
    "        return re.sub(r'[aeiouyAEIOUY]', '', input_str)\n",
    "\n",
    "    @staticmethod\n",
    "    def leave_alpha(input_str):\n",
    "        return re.sub(r'[^a-zA-Z]', '', input_str)\n",
    "\n",
    "    @staticmethod\n",
    "    def replace_all(string, chars, char):\n",
    "        for c in chars:\n",
    "            string = re.sub(re.escape(c), char, string)\n",
    "        return string\n",
    "\n",
    "# Тесты\n",
    "print(StrExtension.remove_vowels('Python'))  # Pthn\n",
    "print(StrExtension.remove_vowels('Stepik'))  # Stpk\n",
    "\n",
    "print(StrExtension.leave_alpha('Python111'))  # Python\n",
    "print(StrExtension.leave_alpha('__Stepik__()'))  # Stepik\n",
    "\n",
    "print(StrExtension.replace_all('Python', 'Ptn', '-'))  # -y-ho-\n",
    "print(StrExtension.replace_all('Stepik', 'stk', '#'))  # S#epi#\n"
   ]
  },
  {
   "cell_type": "code",
   "execution_count": 11,
   "metadata": {},
   "outputs": [
    {
     "name": "stdout",
     "output_type": "stream",
     "text": [
      "True\n",
      "True\n",
      "False\n",
      "False\n",
      "False\n",
      "False\n",
      "True\n",
      "True\n",
      "beegeek\n",
      "bee_geek\n",
      "Beegeek\n",
      "BeeGeek\n"
     ]
    }
   ],
   "source": [
    "import re\n",
    "\n",
    "class CaseHelper:\n",
    "    @staticmethod\n",
    "    def is_snake(input_str):\n",
    "        return bool(re.match(r'^[a-z]+(_[a-z]+)*$', input_str))\n",
    "\n",
    "    @staticmethod\n",
    "    def is_upper_camel(input_str):\n",
    "        return bool(re.match(r'^[A-Z][a-zA-Z]*$', input_str))\n",
    "\n",
    "    @staticmethod\n",
    "    def to_snake(input_str):\n",
    "        return re.sub(r'([a-z0-9])([A-Z])', r'\\1_\\2', input_str).lower()\n",
    "\n",
    "    @staticmethod\n",
    "    def to_upper_camel(input_str):\n",
    "        return ''.join(word.capitalize() for word in re.split(r'[_\\s]+', input_str))\n",
    "\n",
    "# Тесты\n",
    "print(CaseHelper.is_snake('beegeek'))  # True\n",
    "print(CaseHelper.is_snake('bee_geek'))  # True\n",
    "print(CaseHelper.is_snake('Beegeek'))  # False\n",
    "print(CaseHelper.is_snake('BeeGeek'))  # False\n",
    "\n",
    "print(CaseHelper.is_upper_camel('beegeek'))  # False\n",
    "print(CaseHelper.is_upper_camel('bee_geek'))  # False\n",
    "print(CaseHelper.is_upper_camel('Beegeek'))  # True\n",
    "print(CaseHelper.is_upper_camel('BeeGeek'))  # True\n",
    "\n",
    "print(CaseHelper.to_snake('Beegeek'))  # beegeek\n",
    "print(CaseHelper.to_snake('BeeGeek'))  # bee_geek\n",
    "\n",
    "print(CaseHelper.to_upper_camel('beegeek'))  # Beegeek\n",
    "print(CaseHelper.to_upper_camel('bee_geek'))  # BeeGeek\n"
   ]
  },
  {
   "cell_type": "code",
   "execution_count": null,
   "metadata": {},
   "outputs": [],
   "source": []
  }
 ],
 "metadata": {
  "kernelspec": {
   "display_name": ".venv",
   "language": "python",
   "name": "python3"
  },
  "language_info": {
   "codemirror_mode": {
    "name": "ipython",
    "version": 3
   },
   "file_extension": ".py",
   "mimetype": "text/x-python",
   "name": "python",
   "nbconvert_exporter": "python",
   "pygments_lexer": "ipython3",
   "version": "3.11.2"
  }
 },
 "nbformat": 4,
 "nbformat_minor": 2
}
