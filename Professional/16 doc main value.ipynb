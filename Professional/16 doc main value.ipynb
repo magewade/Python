{
 "cells": [
  {
   "cell_type": "code",
   "execution_count": 15,
   "metadata": {},
   "outputs": [],
   "source": [
    "def numbers_sum(elems):\n",
    "    '''Принимает список и возвращает сумму его чисел (int, float),\n",
    "игнорируя нечисловые объекты. 0 - если в списке чисел нет.'''\n",
    "    return sum(list(filter(lambda x: type(x) == int or type(x) == float, elems)))"
   ]
  },
  {
   "cell_type": "code",
   "execution_count": 19,
   "metadata": {},
   "outputs": [
    {
     "name": "stdout",
     "output_type": "stream",
     "text": [
      "8\n",
      "0\n",
      "Принимает список и возвращает сумму его чисел (int, float),\n",
      "игнорируя нечисловые объекты. 0 - если в списке чисел нет.\n"
     ]
    }
   ],
   "source": [
    "print(numbers_sum([1, '2', 3, 4, 'five']))\n",
    "print(numbers_sum(['beegeek', 'stepik', '100']))\n",
    "print(numbers_sum.__doc__)\n"
   ]
  },
  {
   "cell_type": "code",
   "execution_count": null,
   "metadata": {},
   "outputs": [],
   "source": [
    "# ПЕРЕОПРЕДЕЛЕНИЕ ФУНКЦИИ\n",
    "\n",
    "old_print = print\n",
    "\n",
    "def custom_print(*args, **kwargs):\n",
    "    caps = tuple(c.upper() if isinstance(c, str) else c for c in args)\n",
    "\n",
    "    if not kwargs:\n",
    "        return old_print(*caps)\n",
    "    else:\n",
    "        modified_sep = kwargs.get('sep', ' ').upper()\n",
    "        modified_end = kwargs.get('end', '\\n').upper()\n",
    "        return old_print(*caps, sep=modified_sep, end=modified_end)\n",
    "\n",
    "# Переопределяем print\n",
    "print = custom_print"
   ]
  },
  {
   "cell_type": "code",
   "execution_count": 17,
   "metadata": {},
   "outputs": [],
   "source": [
    "def polynom(x):\n",
    "    polynom.values.add(x**2 + 1)\n",
    "    result = x**2 + 1\n",
    "    return result\n",
    "\n",
    "polynom.values = set()"
   ]
  },
  {
   "cell_type": "code",
   "execution_count": 18,
   "metadata": {},
   "outputs": [
    {
     "name": "stdout",
     "output_type": "stream",
     "text": [
      "2 5 10\n"
     ]
    }
   ],
   "source": [
    "polynom(1)\n",
    "polynom(2)\n",
    "polynom(3)\n",
    "\n",
    "print(*sorted(polynom.values))"
   ]
  },
  {
   "cell_type": "code",
   "execution_count": 32,
   "metadata": {},
   "outputs": [
    {
     "name": "stdout",
     "output_type": "stream",
     "text": [
      "Are you listening? Meet my family! There are my parents, my brother and me\n",
      "Are you listening? Meet my family! There are my parents my brother and me.\n",
      "Are you listening? Meet my family There are my parents, my brother and me.\n",
      "Are you listening Meet my family! There are my parents, my brother and me.\n",
      "4\n"
     ]
    }
   ],
   "source": [
    "def remove_marks(text, marks):\n",
    "    marks = list(marks)\n",
    "    remove_marks.count += 1\n",
    "    new_text = text\n",
    "    for mark in marks:\n",
    "        new_text = new_text.replace(mark, '')\n",
    "    return new_text\n",
    "    \n",
    "remove_marks.count = 0\n",
    "\n",
    "    \n",
    "\n",
    "marks = '.,!?'\n",
    "text = 'Are you listening? Meet my family! There are my parents, my brother and me.'\n",
    "\n",
    "for mark in marks:\n",
    "    print(remove_marks(text, mark))\n",
    "    \n",
    "print(remove_marks.count)"
   ]
  },
  {
   "cell_type": "code",
   "execution_count": null,
   "metadata": {},
   "outputs": [],
   "source": []
  }
 ],
 "metadata": {
  "kernelspec": {
   "display_name": ".venv",
   "language": "python",
   "name": "python3"
  },
  "language_info": {
   "codemirror_mode": {
    "name": "ipython",
    "version": 3
   },
   "file_extension": ".py",
   "mimetype": "text/x-python",
   "name": "python",
   "nbconvert_exporter": "python",
   "pygments_lexer": "ipython3",
   "version": "3.11.2"
  }
 },
 "nbformat": 4,
 "nbformat_minor": 2
}
