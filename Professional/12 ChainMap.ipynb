{
 "cells": [
  {
   "cell_type": "code",
   "execution_count": null,
   "metadata": {},
   "outputs": [],
   "source": [
    "from collections import ChainMap\n",
    "\n",
    "fruits = ChainMap({'apple': 10, 'banana': 20},\n",
    "                  {'lemon': 10, 'pineapple': 15},\n",
    "                  {'kiwi': 15, 'lime': 5})\n",
    "\n",
    "print(*fruits)"
   ]
  },
  {
   "cell_type": "code",
   "execution_count": null,
   "metadata": {},
   "outputs": [],
   "source": [
    "from collections import ChainMap\n",
    "def get_all_values(chainmap, key):\n",
    "    result = set()\n",
    "    for dictionary in chainmap.maps:\n",
    "        if key in dictionary:\n",
    "            result.add(dictionary[key])\n",
    "    return result\n",
    "\n",
    "\n",
    "chainmap = ChainMap({'name': 'Arthur'}, {'name': 'Timur'})\n",
    "result = get_all_values(chainmap, 'name')\n",
    "\n",
    "print(*sorted(result))"
   ]
  },
  {
   "cell_type": "code",
   "execution_count": null,
   "metadata": {},
   "outputs": [],
   "source": [
    "import sys\n",
    "\n",
    "total_sum = 0\n",
    "non_numeric_count = 0\n",
    "\n",
    "for line in sys.stdin:\n",
    "    line = line.strip()\n",
    "    try:\n",
    "        num = line\n",
    "        total_sum += int(num)\n",
    "    except ValueError:\n",
    "        try:\n",
    "            total_sum += float(num)\n",
    "        except ValueError:\n",
    "            non_numeric_count += 1\n",
    "\n",
    "print(total_sum)\n",
    "print(non_numeric_count)\n"
   ]
  },
  {
   "cell_type": "code",
   "execution_count": 10,
   "metadata": {},
   "outputs": [
    {
     "name": "stdout",
     "output_type": "stream",
     "text": [
      "['1', '2', '4', '5']\n"
     ]
    }
   ],
   "source": [
    "numbers = list(filter(int, ['1', '2', '0', '4', '5']))\n",
    "print(numbers)"
   ]
  },
  {
   "cell_type": "code",
   "execution_count": null,
   "metadata": {},
   "outputs": [],
   "source": []
  }
 ],
 "metadata": {
  "kernelspec": {
   "display_name": ".venv",
   "language": "python",
   "name": "python3"
  },
  "language_info": {
   "codemirror_mode": {
    "name": "ipython",
    "version": 3
   },
   "file_extension": ".py",
   "mimetype": "text/x-python",
   "name": "python",
   "nbconvert_exporter": "python",
   "pygments_lexer": "ipython3",
   "version": "3.11.2"
  }
 },
 "nbformat": 4,
 "nbformat_minor": 2
}
