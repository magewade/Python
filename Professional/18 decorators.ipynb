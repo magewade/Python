{
 "cells": [
  {
   "cell_type": "code",
   "execution_count": null,
   "metadata": {},
   "outputs": [],
   "source": [
    "import time\n",
    "\n",
    "def test_time(func):\n",
    "    def wraper(*args, **kwargs):\n",
    "        st = time.time()\n",
    "        result = func(*args, **kwargs)\n",
    "        et = time.time()\n",
    "        dt = et - st\n",
    "        print(f\"time: {dt} sek\")\n",
    "        return result\n",
    "\n",
    "    return wraper\n",
    "\n",
    "\n",
    "@test_time\n",
    "def get_nod_fast(a, b):\n",
    "    while b > 0: \n",
    "        a, b = b, a % b\n",
    "    return a\n",
    "\n",
    "\n",
    "@test_time\n",
    "def get_nod_slow(a, b):\n",
    "    while a != b:\n",
    "        if a > b: \n",
    "            a -= b\n",
    "        else: \n",
    "            b -= a\n",
    "    return a\n",
    "\n",
    "    \n",
    "#get_nod_slow = test_time(get_nod_slow)\n",
    "#get_nod_fast = test_time(get_nod_fast)\n",
    "\n",
    "res1 = get_nod_slow(2, 100000000)\n",
    "res2 = get_nod_fast(2, 100000000)\n",
    "print(res1, res2)"
   ]
  },
  {
   "cell_type": "code",
   "execution_count": null,
   "metadata": {},
   "outputs": [],
   "source": [
    "def double(func):\n",
    "    def wrapper(*args, **kwargs):\n",
    "        doubled_result = func(*args, **kwargs) * 2\n",
    "        return doubled_result\n",
    "    return wrapper\n",
    "\n",
    "@double\n",
    "def get_color_code(color):\n",
    "    color_codes = {'black': '#000000', 'white': '#FFFFFF'}\n",
    "    return color_codes[color]\n",
    "\n",
    "print(get_color_code('white'))"
   ]
  },
  {
   "cell_type": "code",
   "execution_count": null,
   "metadata": {},
   "outputs": [],
   "source": [
    "def sandwich(func):\n",
    "    def wrapper(*args, **kwargs):\n",
    "        print(\"---- Верхний ломтик хлеба ----\")\n",
    "        result = func(*args, **kwargs)\n",
    "        print(\"---- Нижний ломтик хлеба ----\")\n",
    "        return result\n",
    "    return wrapper\n",
    "\n",
    "\n",
    "@sandwich\n",
    "def add_ingredients(ingredients):\n",
    "    print(' | '.join(ingredients))\n",
    "\n",
    "add_ingredients(['томат', 'салат', 'сыр', 'бекон'])\n",
    "\n",
    "\n",
    "@sandwich\n",
    "def beegeek():\n",
    "    return 'beegeek'\n",
    "    \n",
    "print(beegeek())"
   ]
  },
  {
   "cell_type": "code",
   "execution_count": 42,
   "metadata": {},
   "outputs": [
    {
     "name": "stdout",
     "output_type": "stream",
     "text": [
      "beegeek\n",
      "beegeek\n",
      "beegeek\n",
      "beegeek\n",
      "None\n"
     ]
    }
   ],
   "source": [
    "def do_twice(func):\n",
    "    def wrapper(*args, **kwargs):\n",
    "        function_wrapper = func(*args, **kwargs)\n",
    "        function_wrapper = func(*args, **kwargs)\n",
    "        return function_wrapper\n",
    "    return wrapper\n",
    "\n",
    "@do_twice\n",
    "def beegeek():\n",
    "    print('beegeek')\n",
    "    \n",
    "beegeek()\n",
    "\n",
    "@do_twice\n",
    "def beegeek():\n",
    "    print('beegeek')\n",
    "    \n",
    "print(beegeek())"
   ]
  },
  {
   "cell_type": "code",
   "execution_count": 51,
   "metadata": {},
   "outputs": [
    {
     "name": "stdout",
     "output_type": "stream",
     "text": [
      "meloncherryapple\n",
      "9\n"
     ]
    }
   ],
   "source": [
    "def reverse_args(func):\n",
    "    def wrapper(*args, **kwargs):\n",
    "        args = tuple(reversed(args))\n",
    "        kwargs = {key: value for key, value in reversed(kwargs.items())}\n",
    "        return func(*args, **kwargs)\n",
    "    return wrapper\n",
    "    \n",
    "@reverse_args\n",
    "def concat(a, b, c):\n",
    "    return a + b + c\n",
    "    \n",
    "print(concat('apple', 'cherry', 'melon'))\n",
    "    \n",
    "@reverse_args\n",
    "def power(a, n):\n",
    "    return a ** n\n",
    "    \n",
    "print(power(2, 3))"
   ]
  },
  {
   "cell_type": "code",
   "execution_count": 55,
   "metadata": {},
   "outputs": [
    {
     "name": "stdout",
     "output_type": "stream",
     "text": [
      "(64, 'Функция выполнилась без ошибок')\n",
      "(None, 'При вызове функции произошла ошибка')\n"
     ]
    }
   ],
   "source": [
    "def exception_decorator(func):\n",
    "    def wrapper(*args, **kwargs):\n",
    "        try:\n",
    "            result = func(*args, **kwargs)\n",
    "            return (result, 'Функция выполнилась без ошибок')\n",
    "        except Exception:\n",
    "            return (None, 'При вызове функции произошла ошибка')\n",
    "    return wrapper\n",
    "        \n",
    "        \n",
    "@exception_decorator\n",
    "def f(x):\n",
    "    return x**2 + 2*x + 1\n",
    "    \n",
    "print(f(7))\n",
    "\n",
    "sum = exception_decorator(sum)\n",
    "\n",
    "print(sum(['199', '1', 187]))"
   ]
  },
  {
   "cell_type": "code",
   "execution_count": 61,
   "metadata": {},
   "outputs": [
    {
     "name": "stdout",
     "output_type": "stream",
     "text": [
      "<class 'ValueError'>\n"
     ]
    }
   ],
   "source": [
    "def takes_positive(func):\n",
    "    def wrapper(*args, **kwargs):\n",
    "        for arg in args:\n",
    "            if not isinstance(arg, int):\n",
    "                raise TypeError\n",
    "            elif arg <= 0:\n",
    "                raise ValueError\n",
    "\n",
    "        for value in kwargs.values():\n",
    "            if not isinstance(value, int):\n",
    "                raise TypeError\n",
    "            elif value <= 0:\n",
    "                raise ValueError\n",
    "\n",
    "        result = func(*args, **kwargs)\n",
    "        return result\n",
    "\n",
    "    return wrapper\n",
    "\n",
    "@takes_positive\n",
    "def positive_sum(*args, **kwargs):\n",
    "    return sum(args) + sum(kwargs.values())\n",
    "    \n",
    "try:\n",
    "    print(positive_sum(1, 2, 3, 4, 5, 6, 7, 8, 9, 10, par1=1, sep=-40))\n",
    "except Exception as err:\n",
    "    print(type(err))\n"
   ]
  },
  {
   "cell_type": "code",
   "execution_count": 62,
   "metadata": {},
   "outputs": [
    {
     "name": "stdout",
     "output_type": "stream",
     "text": [
      "beegeek\n",
      "documentation\n"
     ]
    }
   ],
   "source": [
    "import functools\n",
    "\n",
    "def make_capitalize(func):\n",
    "    @functools.wraps(func)\n",
    "    def wrapper():\n",
    "        return func().capitalize()\n",
    "    return wrapper\n",
    "\n",
    "@make_capitalize\n",
    "def beegeek():\n",
    "    '''documentation'''\n",
    "    return 'beegeek'\n",
    "\n",
    "print(beegeek.__name__)\n",
    "print(beegeek.__doc__)"
   ]
  },
  {
   "cell_type": "code",
   "execution_count": 63,
   "metadata": {},
   "outputs": [
    {
     "name": "stdout",
     "output_type": "stream",
     "text": [
      "100\n"
     ]
    }
   ],
   "source": [
    "import functools\n",
    "\n",
    "def square(func):\n",
    "    @functools.wraps(func)\n",
    "    def wrapper(*args, **kwargs):\n",
    "        result = func(*args, **kwargs) ** 2\n",
    "        return result\n",
    "    return wrapper\n",
    "\n",
    "@square\n",
    "def add(a, b):\n",
    "    return a + b\n",
    "\n",
    "print(add(3, 7))"
   ]
  },
  {
   "cell_type": "code",
   "execution_count": 73,
   "metadata": {},
   "outputs": [
    {
     "name": "stdout",
     "output_type": "stream",
     "text": [
      "beegeek\n"
     ]
    }
   ],
   "source": [
    "import functools\n",
    "\n",
    "def returns_string(func):\n",
    "    @functools.wraps(func)\n",
    "    def wrapper(*args, **kwargs):\n",
    "        result = func(*args, **kwargs)\n",
    "        if not isinstance(result, str):\n",
    "            raise TypeError\n",
    "        else:\n",
    "            return(result)\n",
    "    return wrapper\n",
    "    \n",
    "    \n",
    "@returns_string\n",
    "def beegeek():\n",
    "    return 'beegeek'\n",
    "    \n",
    "print(beegeek())\n"
   ]
  },
  {
   "cell_type": "code",
   "execution_count": 74,
   "metadata": {},
   "outputs": [
    {
     "name": "stdout",
     "output_type": "stream",
     "text": [
      "€2000\n",
      "2000$$$\n"
     ]
    }
   ],
   "source": [
    "import functools\n",
    "\n",
    "def prefix(string, to_the_end=False):\n",
    "    def decorator(func):\n",
    "        @functools.wraps(func)\n",
    "        def wrapper(*args, **kwargs):\n",
    "            result = func(*args, **kwargs)\n",
    "            if to_the_end:\n",
    "                result = result + string\n",
    "            else:\n",
    "                result = string + result\n",
    "            return result\n",
    "        return wrapper\n",
    "    return decorator\n",
    "\n",
    "@prefix('€')\n",
    "def get_bonus():\n",
    "    return '2000'\n",
    "\n",
    "print(get_bonus())\n",
    "\n",
    "@prefix('$$$', to_the_end=True)\n",
    "def get_bonus():\n",
    "    return '2000'\n",
    "\n",
    "print(get_bonus())\n"
   ]
  },
  {
   "cell_type": "code",
   "execution_count": 75,
   "metadata": {},
   "outputs": [
    {
     "name": "stdout",
     "output_type": "stream",
     "text": [
      "<del>Python</del>\n"
     ]
    }
   ],
   "source": [
    "import functools\n",
    "\n",
    "def make_html(tag):\n",
    "    def decorator(func):\n",
    "        @functools.wraps(func)\n",
    "        def wrapper(*args, **kwargs):\n",
    "            result = f'<{tag}>{func(*args, **kwargs)}</{tag}>'\n",
    "            return result\n",
    "        return wrapper\n",
    "    return decorator\n",
    "\n",
    "@make_html('del')\n",
    "def get_text(text):\n",
    "    return text\n",
    "    \n",
    "print(get_text('Python'))\n"
   ]
  },
  {
   "cell_type": "code",
   "execution_count": 88,
   "metadata": {},
   "outputs": [
    {
     "name": "stdout",
     "output_type": "stream",
     "text": [
      "beegeek\n",
      "beegeek\n",
      "beegeek\n",
      "say_beegeek\n",
      "documentation\n"
     ]
    }
   ],
   "source": [
    "import functools\n",
    "\n",
    "def repeat(times):\n",
    "    def decorator(func):\n",
    "        @functools.wraps(func)\n",
    "        def wrapper(*args, **kwargs):\n",
    "            result = None\n",
    "            for _ in range(times):\n",
    "                result = func(*args, **kwargs)\n",
    "            return result\n",
    "        return wrapper\n",
    "    return decorator\n",
    "\n",
    "@repeat(3)\n",
    "def say_beegeek():\n",
    "    '''documentation'''\n",
    "    print('beegeek')\n",
    "    \n",
    "say_beegeek()\n",
    "\n",
    "\n",
    "\n",
    "@repeat(4)\n",
    "def say_beegeek():\n",
    "    '''documentation'''\n",
    "    print('beegeek')\n",
    "    \n",
    "print(say_beegeek.__name__)\n",
    "print(say_beegeek.__doc__)"
   ]
  },
  {
   "cell_type": "code",
   "execution_count": 92,
   "metadata": {},
   "outputs": [
    {
     "name": "stdout",
     "output_type": "stream",
     "text": [
      "bee..ek\n"
     ]
    }
   ],
   "source": [
    "def strip_range(start, end, char='.'):\n",
    "    def decorator(func):\n",
    "        @functools.wraps(func)\n",
    "        def wrapper(*args, **kwargs):\n",
    "            result = func(*args, **kwargs)\n",
    "            return result[:start] + char * (end - start) + result[end:]\n",
    "        return wrapper\n",
    "    return decorator\n",
    "\n",
    "@strip_range(3, 5)\n",
    "def beegeek():\n",
    "    return 'beegeek'\n",
    "    \n",
    "print(beegeek())"
   ]
  },
  {
   "cell_type": "code",
   "execution_count": 94,
   "metadata": {},
   "outputs": [
    {
     "name": "stdout",
     "output_type": "stream",
     "text": [
      "15\n"
     ]
    }
   ],
   "source": [
    "def returns(datatype):\n",
    "    def decorator(func):\n",
    "        @functools.wraps(func)\n",
    "        def wrapper(*args, **kwargs):\n",
    "            result = func(*args, **kwargs)\n",
    "            if type(result) != datatype:\n",
    "                raise TypeError\n",
    "            return result\n",
    "        return wrapper\n",
    "    return decorator\n",
    "\n",
    "@returns(int)\n",
    "def add(a, b):\n",
    "    return a + b\n",
    "\n",
    "print(add(10, 5))\n",
    "    "
   ]
  },
  {
   "cell_type": "code",
   "execution_count": 101,
   "metadata": {},
   "outputs": [
    {
     "name": "stdout",
     "output_type": "stream",
     "text": [
      "append_this\n",
      "append_this docs\n",
      "<class 'TypeError'>\n"
     ]
    }
   ],
   "source": [
    "import functools\n",
    "\n",
    "def takes(*types):\n",
    "    def decorator(func):\n",
    "        @functools.wraps(func)\n",
    "        def wrapper(*args, **kwargs):\n",
    "            result = []\n",
    "            for arg in args:\n",
    "                result.append(type(arg))\n",
    "            for kwarg in kwargs.values(): \n",
    "                result.append(type(kwarg))\n",
    "            if not set(types).issuperset(set(result)):\n",
    "                raise TypeError\n",
    "            return func(*args, **kwargs)\n",
    "        return wrapper\n",
    "    return decorator\n",
    "\n",
    "@takes(list)\n",
    "def append_this(li, elem):\n",
    "    '''append_this docs'''\n",
    "    return li + [elem]\n",
    "\n",
    "print(append_this.__name__)\n",
    "print(append_this.__doc__)\n",
    "\n",
    "try:\n",
    "    print(append_this([1, 2], 3))\n",
    "except TypeError as e:\n",
    "    print(type(e))"
   ]
  },
  {
   "cell_type": "code",
   "execution_count": 102,
   "metadata": {},
   "outputs": [
    {
     "name": "stdout",
     "output_type": "stream",
     "text": [
      "bee\n",
      "geek\n"
     ]
    }
   ],
   "source": [
    "def add_attrs(**kwargs):\n",
    "    def decorator(func):\n",
    "        for key, value in kwargs.items():\n",
    "            setattr(func, key, value)\n",
    "        func.__name__ = func.__name__\n",
    "        func.__doc__ = func.__doc__\n",
    "        return func\n",
    "    return decorator\n",
    "\n",
    "\n",
    "@add_attrs(attr1='bee', attr2='geek')\n",
    "def beegeek():\n",
    "    return 'beegeek'\n",
    "    \n",
    "print(beegeek.attr1)\n",
    "print(beegeek.attr2)"
   ]
  },
  {
   "cell_type": "code",
   "execution_count": 103,
   "metadata": {},
   "outputs": [],
   "source": [
    "import functools\n",
    "\n",
    "class MaxRetriesException(Exception):\n",
    "    pass\n",
    "\n",
    "def retry(times):\n",
    "    def decorator(func):\n",
    "        @functools.wraps(func)\n",
    "        def wrapper(*args, **kwargs):\n",
    "            for _ in range(times):\n",
    "                try:\n",
    "                    return func(*args, **kwargs)\n",
    "                except Exception as e:\n",
    "                    print(f\"Попытка {times - _} неудачна: {type(e).__name__}\")\n",
    "            raise MaxRetriesException\n",
    "\n",
    "        return wrapper\n",
    "    return decorator\n"
   ]
  },
  {
   "cell_type": "code",
   "execution_count": 104,
   "metadata": {},
   "outputs": [
    {
     "name": "stdout",
     "output_type": "stream",
     "text": [
      "10\n",
      "20\n"
     ]
    }
   ],
   "source": []
  },
  {
   "cell_type": "code",
   "execution_count": null,
   "metadata": {},
   "outputs": [],
   "source": []
  }
 ],
 "metadata": {
  "kernelspec": {
   "display_name": ".venv",
   "language": "python",
   "name": "python3"
  },
  "language_info": {
   "codemirror_mode": {
    "name": "ipython",
    "version": 3
   },
   "file_extension": ".py",
   "mimetype": "text/x-python",
   "name": "python",
   "nbconvert_exporter": "python",
   "pygments_lexer": "ipython3",
   "version": "3.11.2"
  }
 },
 "nbformat": 4,
 "nbformat_minor": 2
}
