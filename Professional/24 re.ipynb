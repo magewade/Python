{
 "cells": [
  {
   "cell_type": "code",
   "execution_count": null,
   "metadata": {},
   "outputs": [],
   "source": [
    "import re\n",
    "\n",
    "def find_phone_numbers(text):\n",
    "    pattern = re.compile(r'(7-\\d{3}-\\d{3}-\\d{2}-\\d{2}|8-\\d{3}-\\d{4}-\\d{4})')\n",
    "\n",
    "    matches = re.findall(pattern, text)\n",
    "\n",
    "    for match in matches:\n",
    "        print(match)\n",
    "\n",
    "find_phone_numbers(input())"
   ]
  },
  {
   "cell_type": "code",
   "execution_count": null,
   "metadata": {},
   "outputs": [],
   "source": []
  }
 ],
 "metadata": {
  "language_info": {
   "name": "python"
  }
 },
 "nbformat": 4,
 "nbformat_minor": 2
}
