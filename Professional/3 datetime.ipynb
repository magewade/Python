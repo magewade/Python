{
 "cells": [
  {
   "cell_type": "code",
   "execution_count": 1,
   "metadata": {},
   "outputs": [
    {
     "name": "stdout",
     "output_type": "stream",
     "text": [
      "2020-06-17\n"
     ]
    }
   ],
   "source": [
    "from datetime import date\n",
    "\n",
    "my_date = date(2020, 6, 17)\n",
    "\n",
    "my_date.replace(month=9, day=29)\n",
    "\n",
    "print(my_date)"
   ]
  },
  {
   "cell_type": "code",
   "execution_count": 2,
   "metadata": {},
   "outputs": [
    {
     "name": "stdout",
     "output_type": "stream",
     "text": [
      "2010-Q3\n",
      "2017-Q1\n",
      "2009-Q4\n",
      "2010-Q1\n",
      "2021-Q4\n",
      "2020-Q1\n",
      "2000-Q3\n",
      "1999-Q2\n",
      "1789-Q4\n",
      "2013-Q3\n",
      "1666-Q2\n",
      "1968-Q2\n"
     ]
    }
   ],
   "source": [
    "from datetime import date\n",
    "\n",
    "dates = [date(2010, 9, 28), date(2017, 1, 13), date(2009, 12, 25), date(2010, 2, 27), date(2021, 10, 11), date(2020, 3, 13), date(2000, 7, 7), date(1999, 4, 14), date(1789, 11, 19), date(2013, 8, 21), date(1666, 6, 6), date(1968, 5, 26)]\n",
    "\n",
    "for date in dates:\n",
    "    year = date.year\n",
    "    month = date.month\n",
    "    \n",
    "    if 1 <= month <= 3:\n",
    "        quarter = 1\n",
    "    elif 4 <= month <= 6:\n",
    "        quarter = 2\n",
    "    elif 7 <= month <= 9:\n",
    "        quarter = 3\n",
    "    else:\n",
    "        quarter = 4\n",
    "    \n",
    "    print(f\"{year}-Q{quarter}\")"
   ]
  },
  {
   "cell_type": "code",
   "execution_count": 3,
   "metadata": {},
   "outputs": [
    {
     "name": "stdout",
     "output_type": "stream",
     "text": [
      "(datetime.date(1992, 6, 10), datetime.date(2021, 10, 5))\n",
      "()\n"
     ]
    }
   ],
   "source": [
    "from datetime import date\n",
    "def get_min_max(dates):\n",
    "    if dates:\n",
    "        return (min(dates), max(dates))\n",
    "    else:\n",
    "        return ()\n",
    "    \n",
    "dates = [date(2021, 10, 5), date(1992, 6, 10), date(2012, 2, 23), date(1995, 10, 12)]\n",
    "\n",
    "print(get_min_max(dates))\n",
    "\n",
    "print(get_min_max([]))"
   ]
  },
  {
   "cell_type": "code",
   "execution_count": 4,
   "metadata": {},
   "outputs": [
    {
     "name": "stdout",
     "output_type": "stream",
     "text": [
      "2021-10-01\n",
      "2021-10-02\n",
      "2021-10-03\n",
      "2021-10-04\n",
      "2021-10-05\n"
     ]
    }
   ],
   "source": [
    "from datetime import date\n",
    "def get_date_range(start, end):\n",
    "    result = []\n",
    "    for i in range(date.toordinal(start), date.toordinal(end) + 1):\n",
    "        result.append(date.fromordinal(i))\n",
    "    return result\n",
    "    \n",
    "date1 = date(2021, 10, 1)\n",
    "date2 = date(2021, 10, 5)\n",
    "\n",
    "print(*get_date_range(date1, date2), sep='\\n')\n"
   ]
  },
  {
   "cell_type": "code",
   "execution_count": 5,
   "metadata": {},
   "outputs": [
    {
     "name": "stdout",
     "output_type": "stream",
     "text": [
      "3\n",
      "4\n"
     ]
    }
   ],
   "source": [
    "from datetime import date\n",
    "def saturdays_between_two_dates(start, end):\n",
    "    saturdays = 0\n",
    "    if date.toordinal(start) > date.toordinal(end):\n",
    "        start, end = end, start\n",
    "    for i in range(date.toordinal(start), date.toordinal(end) + 1):\n",
    "        if date.weekday(date.fromordinal(i)) == 5:\n",
    "            saturdays += 1\n",
    "    return saturdays\n",
    " \n",
    "date1 = date(2021, 11, 1)\n",
    "date2 = date(2021, 11, 22)\n",
    "\n",
    "print(saturdays_between_two_dates(date1, date2))\n",
    "\n",
    "date1 = date(2020, 7, 26)\n",
    "date2 = date(2020, 7, 2)\n",
    "\n",
    "print(saturdays_between_two_dates(date1, date2))\n",
    "   "
   ]
  },
  {
   "cell_type": "code",
   "execution_count": 14,
   "metadata": {},
   "outputs": [
    {
     "name": "stdout",
     "output_type": "stream",
     "text": [
      "Часы: 07\n",
      "Минуты: 30\n",
      "Секунды: 25\n"
     ]
    }
   ],
   "source": [
    "from datetime import time\n",
    "\n",
    "alarm = time(7, 30, 25)\n",
    "\n",
    "print('Часы:', alarm.strftime('%H'))\n",
    "print('Минуты:', alarm.strftime('%M'))\n",
    "print('Секунды:', alarm.strftime('%S'))"
   ]
  },
  {
   "cell_type": "code",
   "execution_count": 13,
   "metadata": {},
   "outputs": [
    {
     "name": "stdout",
     "output_type": "stream",
     "text": [
      "04-05 (2021)\n"
     ]
    }
   ],
   "source": [
    "from datetime import date\n",
    "\n",
    "year1, month1, day1 = map(int, input().split('-'))\n",
    "year2, month2, day2 = map(int, input().split('-'))\n",
    "date1 = date(year1, month1, day1)\n",
    "date2 = date(year2, month2, day2)\n",
    "print((min(date1, date2)).strftime('%d-%m (%Y)'))\n"
   ]
  },
  {
   "cell_type": "code",
   "execution_count": 15,
   "metadata": {},
   "outputs": [
    {
     "name": "stdout",
     "output_type": "stream",
     "text": [
      "02/02/2020\n"
     ]
    }
   ],
   "source": [
    "from datetime import date\n",
    "n = int(input())\n",
    "dates = [input() for _ in range(n)]\n",
    "dates = sorted(dates, reverse=True)\n",
    "result = []\n",
    "for i in dates:\n",
    "    result.append(date(*list(map(int, i.split('-')))))\n",
    "for j in result:\n",
    "    print(j.strftime('%d/%m/%Y'))\n",
    "    \n",
    "    \n",
    "    \n",
    "dates = [date.fromisoformat(input()) for _ in range(int(input()))]\n",
    "\n",
    "for d in sorted(dates):\n",
    "    print(d.strftime('%d/%m/%Y'))"
   ]
  },
  {
   "cell_type": "code",
   "execution_count": 24,
   "metadata": {},
   "outputs": [
    {
     "name": "stdout",
     "output_type": "stream",
     "text": [
      "July 22, 1992\n",
      "August 21, 1992\n",
      "September 20, 1992\n",
      "October 19, 1992\n"
     ]
    }
   ],
   "source": [
    "from datetime import date\n",
    "def print_good_dates(dates):\n",
    "    result = []\n",
    "    for d in sorted(dates):\n",
    "        if d.year == 1992 and d.month + d.day == 29:\n",
    "            result.append(d.strftime('%B %d, %Y'))\n",
    "    print(*result, sep='\\n')\n",
    "            \n",
    "dates = [date(1992, 9, 20), date(1992, 8, 21), date(1992, 7, 22), date(1992, 10, 19)]\n",
    "print_good_dates(dates)\n",
    "            "
   ]
  },
  {
   "cell_type": "code",
   "execution_count": 25,
   "metadata": {},
   "outputs": [],
   "source": [
    "from datetime import date\n",
    "def is_correct(day, month, year):\n",
    "    try:\n",
    "        date(year, month, day)\n",
    "        return True\n",
    "    except ValueError:\n",
    "        return False"
   ]
  },
  {
   "cell_type": "code",
   "execution_count": 29,
   "metadata": {},
   "outputs": [
    {
     "name": "stdout",
     "output_type": "stream",
     "text": [
      "Некорректная\n",
      "Некорректная\n",
      "Корректная\n"
     ]
    }
   ],
   "source": [
    "from datetime import date\n",
    "def is_correct(day, month, year):\n",
    "    try:\n",
    "        date(year, month, day)\n",
    "        return True\n",
    "    except ValueError:\n",
    "        return False\n",
    "\n",
    "counter = 0\n",
    "user_input = input()\n",
    "while user_input != 'end':\n",
    "    if is_correct(*(list(map(int, user_input.split('.'))))):\n",
    "        print('Корректная')\n",
    "        counter += 1\n",
    "    else:\n",
    "        print('Некорректная')\n",
    "    user_input = input()\n",
    "print(counter)"
   ]
  },
  {
   "cell_type": "code",
   "execution_count": 30,
   "metadata": {},
   "outputs": [
    {
     "name": "stdout",
     "output_type": "stream",
     "text": [
      "1992-10-06 09:48:17\n"
     ]
    }
   ],
   "source": [
    "from datetime import datetime\n",
    "\n",
    "birthday = datetime(1992, 10, 6, 9, 48, 17)\n",
    "\n",
    "birthday.replace(year=9999, month=11)\n",
    "\n",
    "print(birthday)"
   ]
  },
  {
   "cell_type": "code",
   "execution_count": 34,
   "metadata": {},
   "outputs": [
    {
     "name": "stdout",
     "output_type": "stream",
     "text": [
      "2021-02-11 18:09:00\n"
     ]
    }
   ],
   "source": [
    "from datetime import datetime\n",
    "\n",
    "text = 'Дорогой дневник, 11.02.2021 произошло нечто невероятное. На часах было 18:09..'\n",
    "pattern = 'Дорогой дневник, %d.%m.%Y произошло нечто невероятное. На часах было %H:%M..'\n",
    "\n",
    "dt = datetime.strptime(text, pattern)\n",
    "\n",
    "print(dt)"
   ]
  },
  {
   "cell_type": "code",
   "execution_count": 4,
   "metadata": {},
   "outputs": [
    {
     "name": "stdout",
     "output_type": "stream",
     "text": [
      "До полудня\n"
     ]
    }
   ],
   "source": [
    "from datetime import datetime\n",
    "\n",
    "times_of_purchases = [datetime(2017, 10, 1, 12, 23, 25), datetime(2017, 10, 1, 15, 26, 26), \n",
    "                      datetime(2017, 10, 1, 15, 42, 57), datetime(2017, 10, 1, 17, 49, 59), \n",
    "                      datetime(2017, 10, 2, 6, 37, 10), datetime(2017, 10, 2, 6, 42, 53), \n",
    "                      datetime(2017, 10, 2, 8, 56, 45), datetime(2017, 10, 2, 9, 18, 3), \n",
    "                      datetime(2017, 10, 2, 12, 23, 48), datetime(2017, 10, 2, 12, 45, 5), \n",
    "                      datetime(2017, 10, 2, 12, 48, 8), datetime(2017, 10, 2, 12, 10, 54), \n",
    "                      datetime(2017, 10, 2, 19, 18, 10), datetime(2017, 10, 2, 12, 31, 45), \n",
    "                      datetime(2017, 10, 3, 20, 57, 10), datetime(2017, 10, 4, 7, 4, 57), \n",
    "                      datetime(2017, 10, 4, 7, 13, 31), datetime(2017, 10, 4, 7, 13, 42), \n",
    "                      datetime(2017, 10, 4, 7, 21, 54), datetime(2017, 10, 4, 14, 22, 12), \n",
    "                      datetime(2017, 10, 4, 14, 50), datetime(2017, 10, 4, 15, 7, 27), \n",
    "                      datetime(2017, 10, 4, 12, 44, 49), datetime(2017, 10, 4, 12, 46, 41), \n",
    "                      datetime(2017, 10, 4, 16, 32, 33), datetime(2017, 10, 4, 16, 34, 44), \n",
    "                      datetime(2017, 10, 4, 16, 46, 59), datetime(2017, 10, 4, 12, 26, 6)]\n",
    "\n",
    "for dt in times_of_purchases:\n",
    "    counter_before = 0\n",
    "    if (dt.hour < 12):\n",
    "        counter_before += 1\n",
    "if counter_before > (0.5 * len(times_of_purchases)):\n",
    "    print('После полудня')\n",
    "else:\n",
    "    print('До полудня')"
   ]
  },
  {
   "cell_type": "code",
   "execution_count": 21,
   "metadata": {},
   "outputs": [
    {
     "name": "stdout",
     "output_type": "stream",
     "text": [
      " 1239-02-05 11:47:01\n",
      " 0229-01-24 09:40:02\n",
      " 0167-04-16 17:47:09\n",
      " 0479-09-06 09:14:09\n",
      " 1410-03-11 21:02:10\n",
      " 1957-07-14 17:27:10\n",
      " 1793-08-23 07:33:27\n",
      " 0197-08-24 17:55:40\n",
      " 0804-11-12 17:20:47\n",
      " 0295-01-23 12:42:56\n",
      " 0327-08-24 15:09:57\n",
      " 0632-06-04 20:08:59\n"
     ]
    }
   ],
   "source": [
    "from datetime import date, time, datetime\n",
    "\n",
    "dates = [date(1793, 8, 23), date(1410, 3, 11), date(804, 11, 12), date(632, 6, 4),\n",
    "         date(295, 1, 23), date(327, 8, 24), date(167, 4, 16), date(229, 1, 24), \n",
    "         date(1239, 2, 5), date(1957, 7, 14), date(197, 8, 24), date(479, 9, 6)]\n",
    "\n",
    "times = [time(7, 33, 27), time(21, 2, 10), time(17, 20, 47), time(20, 8, 59), \n",
    "         time(12, 42, 56), time(15, 9, 57), time(17, 47, 9), time(9, 40, 2), \n",
    "         time(11, 47, 1), time(17, 27, 10), time(17, 55, 40), time(9, 14, 9)]\n",
    "\n",
    "dt_zip = list(zip(dates, times))\n",
    "\n",
    "dt = []\n",
    "for item in dt_zip:\n",
    "    new_item = datetime.combine(item[0], item[1])\n",
    "    dt.append(new_item)\n",
    "    \n",
    "dt = sorted(dt, key=lambda x: (x.second, x))\n",
    "    \n",
    "for item in dt:\n",
    "    print(f'{item: %Y-%m-%d %H:%M:%S}')"
   ]
  },
  {
   "cell_type": "code",
   "execution_count": 25,
   "metadata": {},
   "outputs": [
    {
     "name": "stdout",
     "output_type": "stream",
     "text": [
      "Ученик 'Егор' потратил минимальное время: 0:32:21\n"
     ]
    }
   ],
   "source": [
    "from datetime import datetime\n",
    "\n",
    "data = {'Дима': ('03.11.2021 09:31:18', '03.11.2021 11:41:28'), \n",
    "        'Геор': ('01.11.2021 09:03:04', '01.11.2021 12:40:35'), \n",
    "        'Анна': ('02.11.2021 04:41:54', '02.11.2021 05:39:40'), \n",
    "        'Илина': ('02.11.2021 01:36:40', '02.11.2021 04:48:27'), \n",
    "        'Герман': ('04.11.2021 07:51:19', '04.11.2021 09:53:53'), \n",
    "        'Руслан': ('01.11.2021 11:26:06', '01.11.2021 12:56:24'), \n",
    "        'Лера': ('03.11.2021 11:09:41', '03.11.2021 14:37:41'), \n",
    "        'Егор': ('03.11.2021 05:29:38', '03.11.2021 06:01:59'), \n",
    "        'Максим': ('05.11.2021 13:05:03', '05.11.2021 14:27:41'), \n",
    "        'Саша': ('03.11.2021 04:14:26', '03.11.2021 05:10:58'), \n",
    "        'Марина': ('05.11.2021 15:21:06', '05.11.2021 18:33:46')}\n",
    "\n",
    "min_duration = None\n",
    "min_student = None\n",
    "\n",
    "for student, (start_time, end_time) in data.items():\n",
    "    start_time = datetime.strptime(start_time, '%d.%m.%Y %H:%M:%S')\n",
    "    end_time = datetime.strptime(end_time, '%d.%m.%Y %H:%M:%S')\n",
    "    duration = end_time - start_time\n",
    "    if min_duration is None or duration < min_duration:\n",
    "        min_duration = duration\n",
    "        min_student = student\n",
    "\n",
    "print(f\"Ученик '{min_student}' потратил минимальное время: {min_duration}\")"
   ]
  },
  {
   "cell_type": "code",
   "execution_count": 26,
   "metadata": {},
   "outputs": [
    {
     "name": "stdout",
     "output_type": "stream",
     "text": [
      "26.02.2008; 18:55\n",
      "I can't believe I've been up here for 3 weeks already. It's been overwhelming in so many ways.\n",
      "\n",
      "27.02.2008; 19:51\n",
      "The past three weeks have been a blur of new sensations, out-of-this-world experiences, and hard work.\n",
      "\n",
      "01.03.2008; 18:01\n",
      "The launch was amazing - very smooth - it could have been a ride at an amusement park.\n",
      "For those of us on the middeck (without windows), it was just a little shaking and rumbling, surprisingly benign.\n",
      "Of course, the G's picked up, dropped off as we pass through the maximum dynamic pressure phase (for those who know what I'm talking about), and then ramped back up again to 3 G's.\n",
      "Having recently spent some time in the Russian centrifuge to practice emergency Soyuz descents, which can hit 8 G's for up to around 40 seconds, 3 G's is easy.\n",
      "The fact that it is sustained for a few minutes makes it a little uncomfortable, but it was little more than confirmation that we're getting somewhere.\n",
      "\n",
      "02.03.2008; 17:43\n",
      "It was a great ride up. I couldn't believe that a lifetime of wishing for this was suddenly happening all in that moment.\n",
      "It was an unforgettable 8 1/2 minutes.\n",
      "\n",
      "04.03.2008; 21:59\n",
      "Adapting to zero-G has been a lot of fun.\n",
      "We had many hours of busy work to do immediately 'post insertion,' as we call it.\n",
      "Of course, as soon as I possibly could I went up to the flight deck to see the view, and wow, it was incredible.\n",
      "The first sensation of looking out the window was very disorienting. Everything seemed to be floating - me, the shuttle, and the Earth, and all in different orientations.\n",
      "\n",
      "08.03.2008; 22:03\n",
      "That next day was very busy getting the shuttle ready for the work we were going to do on the station - preparing equipment and supplies for transfer, checking out the EVA suits, maneuvering the shuttle, and learning how to do everything in zero-G.\n",
      "The best part of the initial flight was approaching the space station.\n",
      "When we first caught sight of it, the view was straight out of a science fiction movie, it was awesome.\n",
      "Usually the shuttle flies sort-of upside down and backwards - this is best for thermal radiation, communication, and micrometeoroid protection. So normally, looking up out of the overhead windows is looking straight down at the Earth, and the front windows point in the direction you just came from. For approaching the station, though, we were in a 'normal' airplane-type attitude - so wings level, Earth below, facing forward.\n",
      "The view from the cockpit of the shuttle was just staggering. You could see more than 180 degrees from the left to right side of the cockpit, and the sense of flying over the Earth in a spaceship was just incredible.\n",
      "It was at this moment that I realized what is so special about the view from up here, and it is not what I anticipated.\n",
      "\n",
      "11.03.2008; 16:13\n",
      "In an airplane, during the day, the sky is, of course, still blue, no matter how high you go.\n",
      "If you fly higher you see further, so that is not unexpected.\n",
      "But the first thing that hit me with this view was that it was daylight, we were flying over the sunlit side of the Earth, yet most of what we saw out the window was the pitch blackness of empty space.\n",
      "It didn't matter that I've seen it this way on Star Trek or any other science fiction movie a thousand times.\n",
      "Seeing so much blackness, while seeing the Earth so brightly lit, was a contrast that surprised me more than expected.\n",
      "Although we are not so far away from the Earth in this orbit, different from being in an aircraft, the sensation was of two objects, our ship and the Earth, both floating in a dark void.\n",
      "And then there was another feeling. It wasn't that the Earth looked small, in fact it looks huge - the biggest thing you've ever seen - but from here you can see its shape, its size, and you get a gut feeling of being able to measure it with your own eyes.\n",
      "It's not the view, but this feeling that goes with it, of being able to measure it, that really washed over me as we began our approach to the station.\n",
      "\n",
      "14.03.2008; 17:14\n",
      "The first sight of the station was so cool.\n",
      "If you've ever flown at night, you know how you can easily spot other aircraft.\n",
      "There are all the lights on the ground, and then if you scan the above horizon you see the lights of other aircraft.\n",
      "They are so easy to pick out because somehow you have a viewpoint that enables you to see other aircraft at your altitude (or above).\n",
      "With the Earth below and darkness above, the space station first appeared as a bright dot - clearly, or seemingly, the only other spaceship above the planet.\n",
      "It didn't take long before it started taking shape, and then it grew more and more beautiful as its details came into focus.\n",
      "Having seen all the various parts of the station in training in various countries, it was still an unbelievable image to see this massive structure cruising along at 17,500 miles per hour high above the Earth.\n",
      "It's as large as two football fields side-by-side, and seeing all the pieces together forming one coherent spaceship was very impressive.\n",
      "\n",
      "15.03.2008; 20:32\n",
      "The space station is a huge and very impressive facility that we humans have somehow managed to build.\n",
      "There's no doubt that building this space station is one of humanitys greatest achievements.\n",
      "Despite working on it for 15 years, and knowing what every part of it looks like in great detail, I felt like I was seeing it for the very first time.\n",
      "It was the real thing - not a mock-up, not a simulation, not a picture, but another spaceship, a huge one, flying in formation with us in space.\n",
      "How cool is that? Wow! Incredible. It felt like we were in a movie. What could be more cool than this?\n",
      "Well, opening the hatches and being greeted, not by space aliens, but by some of your best friends.\n",
      "\n",
      "17.03.2008; 19:09\n",
      "Just before docking, Garrett called on the radio and said, You guys have no idea how happy we are to see you.\n",
      "Arriving at my new home for the next 6 months, I felt exactly the same. How wonderful it was to meet our friends and colleagues who we have trained and traveled with for years, in this amazing place.\n",
      "Every one of the 10 of us, who spent the next 10 days on the station together, have been astronauts or cosmonauts for about 10 years (a few 8, a few others 12).\n",
      "Eight of us were still rookies prior to this mission.\n",
      "The first time I met Sergei, our commander on the station, we did a water survival course together in the Black Sea - that was 7 years ago.\n",
      "Mike Fossum, Garrett Reisman, and Ken Ham were all in my class - the 17th group selected in 1998.\n",
      "We've done everything from wilderness survival to T-38 training to field geology trips together.\n",
      "Karen Nyberg and I supported the Expedition 6 crew on the space station together - that was 3 years of traveling to/from Russia during their training, working in Mission Control as CapCom during their mission, and supporting their families, especially when the Columbia accident occurred and they were the crew who was still onboard the station. Sergei, Oleg, and I have been training together for the better part of a year, but all three of us have been training specifically for a long-duration space station mission for much longer - many years.\n",
      "Anyway, one of the really neat things about this whole adventure is that by the time you're doing it, everyone you're doing it with is a long-time friend.\n",
      "This even holds true for the folks on the ground. Every voice I've heard on the radio so far has been someone that I know.\n",
      "\n",
      "22.03.2008; 13:37\n",
      "The next 10 days were just a blur of activity.\n",
      "My role was divided mainly between robotics and EVA preparation.\n",
      "The mission was otherwise non-stop robotics using 3 different robotic arms. As you know, it all went incredibly well - exactly as planned.\n",
      "The simulations on the ground are so perfect, that it was difficult to keep in mind that something huge was actually moving out there.\n",
      "We just went through the procedures and a myriad of checks and double-checks as we always did in training. Grappling, moving and connecting large space modules were amazingly straight forward given the incredible tools we have and the army of experts on the ground who built them and know what they're doing.\n",
      "\n",
      "23.03.2008; 19:16\n",
      "The robotics was a lot of fun, and opening the Kibo (JEM - Japanese Experiment Module) and flying in there for the first time was really something.\n",
      "At first it did not have any panels or racks installed, and so we had most of the cylindrical volume open.\n",
      "It was, and still is, by far, the largest and most open volume within the station.\n",
      "For a few wild and crazy minutes we had 10 people flying around in all directions.\n",
      "Then back to work, and the next several days involved installing system and science racks, hooking everything up to cooling, power, data, air-flow, etc.\n",
      "\n",
      "25.03.2008; 23:31\n",
      "At the far end of the JEM, there are two very large, port-facing windows, which are awesome.\n",
      "Most other windows on the station point down, which is great for Earth observations and photography, but you can't get a big picture perspective from that view.\n",
      "The JEM windows face the horizon, and the views are incredible.\n",
      "No doubt I'll be spending much of my free time gazing out of those windows, looking over the Earth, and just wondering what it all means.\n",
      "\n",
      "26.03.2008; 19:17\n",
      "I'm sealed inside the descent capsule of the Soyuz vehicle, while my crew-mates perform their first Russian spacewalk (EVA).\n",
      "At this moment Sergei and Oleg are in their spacesuits and going through their checkouts before opening the hatch.\n",
      "\n",
      "02.04.2008; 17:52\n",
      "Why am I in the Soyuz? Well, the Soyuz is docked to the Russian docking compartment, and this is the module from which they need to depress and repress for the EVA.\n",
      "Since the Soyuz is our rescue vehicle, I need to be able to reach it in case of an emergency.\n",
      "During the EVA the docking compartment will be at vacuum, so if I stayed on the station, there would be a vacuum between me and the rescue vehicle.\n",
      "So the result is that I had to move from the voluminous and comfortable space station to the incredibly compact descent capsule.\n",
      "\n",
      "03.04.2008; 18:22\n",
      "So it is me plus three spacesuits (of the re-entry type, not spacewalking type) and a ton of other stuff that they wanted us to have with us in case of an emergency.\n",
      "Should there be some kind of serious problem during the EVA, such as not being able to repressurize the docking compartment, the idea is that they would enter the Soyuz upper compartment, and they would repressurize within the Soyuz.\n",
      "In that case we would still be all together and could leave the Space station, re-dock to another docking port, and/or return to Earth if the situation called for that.\n",
      "So to prepare for this remote possibility, we just finished closing all the hatches within the station, isolating all the modules from each other, and otherwise did a long list of tasks that give the ground the greatest flexibility in managing the station in the case that there is no crew onboard for a while.\n",
      "My greatest concern right now is just that the EVA goes smoothly and safely, and that we can get back into the station when it's all over.\n",
      "\n",
      "04.04.2008; 18:55\n",
      "With all the extra stuff in the Soyuz descent module, I have just enough room to be wedged between the control panel and the seats.\n",
      "Lying across the 3 seats, I still cant straighten my legs (but almost).\n",
      "I have the 3 suits in the 3 seats, plus I have a huge extra bag of supplies and equipment.\n",
      "\n",
      "05.04.2008; 16:17\n",
      "Obviously, Ive got a laptop computer.\n",
      "I also have some extra batteries, some food and water, extra clothes because it gets cold in here, a camera, a book, and, most importantly, Ive got several episodes of Star Trek and StarGate I on my computer to watch.\n",
      "So this is my plan... I'm going to watch the world go by out the window and watch Star Trek on my laptop.\n",
      "That way, I can marvel at our planet and our existence, while dreaming of the future. What could be better than that!?\n",
      "\n",
      "07.04.2008; 20:20\n",
      "OK, 4 hours later now, and on my 3rd of 5 laptop batteries.\n",
      "Ive got a great setup here. I need to keep the headset on to talk to Mission Control in Moscow if needed (and to answer their calls).\n",
      "But Ive got my ear-buds under the headset and hooked up to my portable media player.\n",
      "So at the moment I'm listening to some great jazz music.\n",
      "What a great feeling it is to be here! I was going to say that it seems like Gods view of everything we know, but actually, the grandeur of this view might be attributed more to its simplicity or purity.\n",
      "\n",
      "09.04.2008; 17:31\n",
      "The sky is pitch black, as black as black can get, and this is immediately adjacent to the sunlit Earth, which is so bright you can hardly look at it.\n",
      "The ocean is a rich and bright blue. The clouds form bright white and artistic patterns on a continental scale.\n",
      "The shorelines seem like theyve been drawn freehand and are everywhere, very sharp boundaries between brown and blue.\n",
      "The scale of everything and the clarity are just overwhelming and so beautiful.\n",
      "On the other hand, there is so much beauty and complexity that you cannot see from here.\n",
      "The contrast between the view and the detail is striking.\n",
      "There is this immense wonder of nature below me, but hidden within it is the complexity of the civilization that it must host in order to create my current situation.\n",
      "The history and culture and knowledge and infrastructure and technology that is required to somehow put me here at this particular window listening to great jazz – there is no way to even begin to appreciate the richness and complexity we have down there without swooping all the way down and being equally overwhelmed by the variety of life, culture, cities, arts, science and machinery that we humans somehow developed from the pure Earth, air, water, and fire (the sun) seen from here.\n",
      "\n",
      "11.04.2008; 22:46\n",
      "The Soyuz vehicle is shaking back and forth and I see some sunlit particles flying off into space.\n",
      "It must be Sergei and Oleg climbing around on the outside.\n",
      "They are cutting away a part of the micrometeoroid and thermal protection blanket to access one of the pyro bolts that may have been the source of the problem with the last Soyuz re-entry.\n",
      "One of their tasks is to remove one of these bolts and bring it inside.\n",
      "Their work today may help the Control Center in Moscow understand what is going on with these pyro bolts, and it may also hopefully prevent a similar incident with this Soyuz when they ride it home in October.\n",
      "Its cool to see these small pieces float away, but on the other hand, I know that these are new pieces of debris that are moving at 28,000 km/hr, and unless they happen to be in exactly your orbit, they can hit you with a good fraction of that velocity.\n",
      "\n",
      "12.04.2008; 21:38\n",
      "My 3rd battery is about to quit.\n",
      "Its actually a really cool feeling to be isolated in this capable little spacecraft, looking out over the Earth, while typing this journal.\n",
      "I wish my office had a view like this (although it does have the advantage of a bathroom down the hall!).\n",
      "\n",
      "13.04.2008; 22:15\n",
      "All is peaceful and quiet on the Station and seemingly on Earth.\n",
      "There's a continuous humming sound onboard, which is only really noticeable at a time like this.\n",
      "It's reassuring somehow. It feels like the hum of an engine running and I always have to fight the sensation that this background noise is something that keeps us speeding along through space.\n",
      "Actually, it is just the sound of fans that are continuously circulating the air.\n",
      "We're so accustomed to the idea that an engine must be running to keep a vehicle going, that the explanation for the sound is practically a subconscious response.\n",
      "I found out how deeply I'm connected to this sound when the other night I woke up because it stopped.\n",
      "I would have never thought it possible to wake me up by turning off a noise. That was yesterday and it was a very difficult day for us.\n",
      "On the very last operational day of Expedition 17 we found ourselves on a Space Station in survival mode.\n",
      "\n",
      "15.04.2008; 15:53\n",
      "I guess it was Murphy's Law's way of making sure we got to see it all during our mission. Two days ago we lost the liquid separator pump for our toilet.\n",
      "At first, it didn't seem to be a similar problem to what had happened before I arrived over 4 months ago.\n",
      "My colleagues configured the Soyuz vehicle facilities to support us in the meantime, but there's a maximum of a two-day capacity there.\n",
      "That same night one of the relay channels failed on the Russian segment, which resulted in a cascade of failures that I believe explains why some faulty smoke detector signals went off, thus shutting down all the air circulation, oxygen generation, CO2 scrubbing, and impurity removal.\n",
      "This is an automatic response to prevent a fire from spreading.\n",
      "At the same time, some aspect of the original failure caused a loss of other systems that resulted in the transition to survival mode.\n",
      "We're actually still waiting to hear details about what happened. Fortunately, it isn't that big of a deal to be in survival mode.\n",
      "We can operate onboard for quite some time in this mode, and it doesn't necessarily imply a potential evacuation. However, that depends on what the problem is.\n",
      "We heard a lot of sirens and alarms for many hours. Houston and Moscow were extremely busy all day recovering.\n",
      "The whole situation started in the very early morning but everything was back to normal by the end of the day, including the bathroom facilities (after putting in a new separator).\n",
      "All in a day's work for the Control Centers.\n",
      "\n",
      "17.04.2008; 23:11\n",
      "We celebrated the end of Expedition 17 that night by hosting a party for the whole Houston team.\n",
      "This was in the planning for a while and it was great to be able to thank and congratulate the team on all their great work for the past 6 months.\n",
      "It's been a very successful mission and has gone very smoothly.\n",
      "The installation of the new Japanese module, and the subsequent work to get the laboratory completely out-fitted and operational for science, was a huge accomplishment for the team (and for Japan).\n",
      "Being part of this team and this crew has been an amazing and rewarding experience.\n",
      "I'm going to miss my crewmates and the ground team that I've gotten to know so well, once we hand-over to the Expedition 18 team.\n",
      "\n",
      "20.04.2008; 17:08\n",
      "It's a few days later now and three new guys should be docking with us on the Station in 9 hours.\n",
      "This weekend has been a whirlwind of activity trying to prepare the Station and ourselves for the 10 days ahead.\n",
      "The Station is about as clean as it's going to get. It's been chaos recently because we've been relocating racks from one module to another for a few weeks.\n",
      "Each of these moves involved relocating a ton of temporarily stowed or configured things like laptops, handrails, hoses, wires, and a hundred other devices and tools and notes that were there (usually) for a reason.\n",
      "The goal was to prepare the Station for the arrival of some new racks with the Space Shuttle in about a month. Water recycling equipment, new crew quarters, a galley and a hygiene station are among the new racks that are coming up. With the new equipment, the Station will be able to support a long duration crew of 6 beginning in the Spring of 2009.\n",
      "In the meantime we have a few new large gaps of open space, which means there's suddenly an opportunity to do some advanced acrobatics. Our celebration of the last night (with just the three of us) was to take some video of us enjoying this new empty space as we performed daring stunts of acrobatic flying, while trying not to break anything (including our heads).\n",
      "If you've ever seen that footage of the SkyLab astronauts trying to run in a circle around the inner circumference of their module, then you get the idea.\n",
      "We only had two sides open, so it was more like jumping between two trampolines that faced each other, but it was a lot of fun.\n",
      "\n",
      "21.04.2008; 16:17\n",
      "The next 10 days will undoubtedly be extremely busy, fun, and exhausting. We'll basically skip next weekend and rest again after my current roommates depart.\n",
      "I asked them today if they are ready to go home, and the answer was a resounding YES.\n",
      "They are very excited that their mission was very successful and is coming to its conclusion.\n",
      "They both have kids at home and are really looking forward to being with their families. But they are also holding their breath to some extent.\n",
      "First we need a successful docking of the new guys.\n",
      "Once they're onboard, I think that Sergei and Oleg will have confidence that they will, in fact, be leaving soon.\n",
      "It will be the same for me when the Space Shuttle launches in about a month's time. Until it actually gets off the ground, arrives here, and performs a successful docking, you just never know.\n",
      "\n",
      "24.04.2008; 15:17\n",
      "I've had mixed feelings about the change that is about to happen onboard.\n",
      "Despite the fact that our view out the window is so grand, our entire living universe is limited to the inside volume of the Station.\n",
      "Things have gone really well here for 135 days, and the friendship I have with Sergei and Oleg is the bond of a lifetime.\n",
      "Things are comfortable as they are; I know where everything is; and by now I have a good sense of how to get things done a certain way.\n",
      "It feels late in my mission to start again with a new crew and a new team. But that's just the way it works.\n",
      "In one way I think I'm very lucky about the timing of this. Historically, the 3rd quarter of previous expeditions of all kinds has tended to be the most difficult to endure.\n",
      "For me, this time is rich with major events and activity, not to mention the energy and enthusiasm that the new guys will have when they get here.\n",
      "By the time I might start feeling weary, the Space Shuttle mission will be upon us.\n",
      "So as I go to bed tonight, I'm really looking forward to an exciting day tomorrow.\n",
      "We'll be two very happy crews for us, the pleasure of welcoming our friends and colleagues onboard (the first other people we will have seen in 4 months), and for them the excitement of blasting into space, docking with an incredible Space Station, only to be greeted at the door by their friends.\n",
      "One of the most amazing things about being here is that by the time you arrive, the people you are sharing the experience with are close friends.\n",
      "After all the training we've all been through over the years, and including our space flight participant Richard Garriott, the six of us all know each other well, and it will be a great reunion.\n",
      "\n"
     ]
    }
   ],
   "source": [
    "from datetime import datetime\n",
    "\n",
    "# Открываем файл для чтения\n",
    "with open('diary.txt', 'r', encoding='utf-8') as file:\n",
    "    content = file.read()\n",
    "\n",
    "# Разделяем содержимое файла на отчеты\n",
    "reports = content.strip().split('\\n\\n')\n",
    "\n",
    "# Создаем список для хранения отчетов и их даты и времени\n",
    "report_entries = []\n",
    "\n",
    "for report in reports:\n",
    "    lines = report.strip().split('\\n')\n",
    "    if len(lines) >= 2:\n",
    "        datetime_str = lines[0].strip()\n",
    "        text = '\\n'.join(lines[1:]).strip()\n",
    "        try:\n",
    "            # Парсим дату и время из строки и преобразуем в datetime\n",
    "            datetime_obj = datetime.strptime(datetime_str, '%d.%m.%Y; %H:%M')\n",
    "            report_entries.append((datetime_obj, text))\n",
    "        except ValueError:\n",
    "            # Пропускаем неверно форматированные строки\n",
    "            continue\n",
    "\n",
    "# Сортируем отчеты по дате и времени\n",
    "sorted_reports = sorted(report_entries, key=lambda x: x[0])\n",
    "\n",
    "# Выводим отчеты в хронологическом порядке\n",
    "for datetime_obj, text in sorted_reports:\n",
    "    print(datetime_obj.strftime('%d.%m.%Y; %H:%M'))\n",
    "    print(text)\n",
    "    print()\n"
   ]
  },
  {
   "cell_type": "code",
   "execution_count": 4,
   "metadata": {},
   "outputs": [
    {
     "name": "stdout",
     "output_type": "stream",
     "text": [
      "True\n",
      "False\n",
      "False\n"
     ]
    }
   ],
   "source": [
    "from datetime import datetime\n",
    "\n",
    "def is_available_date(booked_dates, date_for_booking):\n",
    "    # Функция для проверки пересечения двух периодов\n",
    "    def is_period_overlapping(period1, period2):\n",
    "        return period1[0] <= period2[1] and period1[1] >= period2[0]\n",
    "\n",
    "    # Функция для преобразования строки даты в объект datetime\n",
    "    def parse_date(date_str):\n",
    "        return datetime.strptime(date_str, '%d.%m.%Y')\n",
    "\n",
    "    # Преобразуем даты бронирования в объекты datetime\n",
    "    if '-' in date_for_booking:\n",
    "        booking_start, booking_end = map(parse_date, map(str.strip, date_for_booking.split('-')))\n",
    "    else:\n",
    "        booking_start = booking_end = parse_date(date_for_booking.strip())\n",
    "\n",
    "    # Проходим по каждой забронированной дате или периоду и проверяем на пересечение\n",
    "    for booked_date in booked_dates:\n",
    "        if '-' in booked_date:\n",
    "            booked_start, booked_end = map(parse_date, map(str.strip, booked_date.split('-')))\n",
    "        else:\n",
    "            booked_start = booked_end = parse_date(booked_date.strip())\n",
    "\n",
    "        # Проверяем пересечение\n",
    "        if is_period_overlapping((booking_start, booking_end), (booked_start, booked_end)):\n",
    "            return False\n",
    "\n",
    "    return True\n",
    "\n",
    "# Примеры использования\n",
    "dates1 = ['04.11.2021', '05.11.2021-09.11.2021']\n",
    "some_date1 = '01.11.2021'\n",
    "print(is_available_date(dates1, some_date1))  # Вывод: True\n",
    "\n",
    "dates2 = ['04.11.2021', '05.11.2021-09.11.2021']\n",
    "some_date2 = '01.11.2021-04.11.2021'\n",
    "print(is_available_date(dates2, some_date2))  # Вывод: False\n",
    "\n",
    "dates3 = ['04.11.2021', '05.11.2021-09.11.2021']\n",
    "some_date3 = '06.11.2021'\n",
    "print(is_available_date(dates3, some_date3))  # Вывод: False\n",
    "\n"
   ]
  },
  {
   "cell_type": "code",
   "execution_count": 5,
   "metadata": {},
   "outputs": [
    {
     "name": "stdout",
     "output_type": "stream",
     "text": [
      "-22 days, 12:00:00\n"
     ]
    }
   ],
   "source": [
    "from datetime import timedelta\n",
    "\n",
    "td = timedelta(weeks=-3, hours=-12)\n",
    "\n",
    "print(td)"
   ]
  },
  {
   "cell_type": "code",
   "execution_count": 6,
   "metadata": {},
   "outputs": [
    {
     "name": "stdout",
     "output_type": "stream",
     "text": [
      "True\n",
      "False\n"
     ]
    }
   ],
   "source": [
    "from datetime import timedelta\n",
    "\n",
    "td1 = timedelta(days=2, hours=1, minutes=1)\n",
    "td2 = timedelta(hours=49, seconds=60)\n",
    "\n",
    "print(td1 == td2)\n",
    "print(td1 > td2)"
   ]
  },
  {
   "cell_type": "code",
   "execution_count": 7,
   "metadata": {},
   "outputs": [
    {
     "name": "stdout",
     "output_type": "stream",
     "text": [
      "-8 days, 2:00:00\n",
      "7 days, 22:00:00\n"
     ]
    }
   ],
   "source": [
    "from datetime import timedelta\n",
    "\n",
    "td = timedelta(weeks=-1, hours=-20, minutes=-120)\n",
    "abs_td = abs(td)\n",
    "\n",
    "print(td)\n",
    "print(abs_td)"
   ]
  },
  {
   "cell_type": "code",
   "execution_count": 8,
   "metadata": {},
   "outputs": [
    {
     "name": "stdout",
     "output_type": "stream",
     "text": [
      "03.11.2912\n",
      "05.11.2912\n"
     ]
    }
   ],
   "source": [
    "from datetime import datetime, timedelta\n",
    "\n",
    "input_date = input() \n",
    "# 04.11.2021\n",
    "\n",
    "date_obj = datetime.strptime(input_date, '%d.%m.%Y')\n",
    "\n",
    "previous_date = date_obj - timedelta(days=1)\n",
    "next_date = date_obj + timedelta(days=1)\n",
    "\n",
    "print(previous_date.strftime('%d.%m.%Y'))\n",
    "print(next_date.strftime('%d.%m.%Y'))"
   ]
  },
  {
   "cell_type": "code",
   "execution_count": 11,
   "metadata": {},
   "outputs": [
    {
     "name": "stdout",
     "output_type": "stream",
     "text": [
      "43932\n"
     ]
    }
   ],
   "source": [
    "from datetime import datetime\n",
    "\n",
    "# Ввод времени от пользователя\n",
    "input_time = input()\n",
    "\n",
    "# Преобразование введенной строки в объект datetime\n",
    "time_obj = datetime.strptime(input_time, '%H:%M:%S')\n",
    "\n",
    "# Вычисление разницы во времени между введенным временем и началом суток (00:00:00)\n",
    "seconds_passed = (time_obj - time_obj.replace(hour=0, minute=0, second=0)).total_seconds()\n",
    "\n",
    "# Вывод количества прошедших секунд\n",
    "print(int(seconds_passed))\n"
   ]
  },
  {
   "cell_type": "code",
   "execution_count": 12,
   "metadata": {},
   "outputs": [
    {
     "name": "stdout",
     "output_type": "stream",
     "text": [
      "09:01:30\n"
     ]
    }
   ],
   "source": [
    "# Ввод текущего времени и количество секунд для таймера\n",
    "current_time = input().split(':') \n",
    "# 09:00:00\n",
    "hours, minutes, seconds = map(int, current_time)\n",
    "n = int(input())\n",
    "# 90\n",
    "\n",
    "# Вычисление нового времени\n",
    "new_seconds = seconds + n\n",
    "new_minutes = minutes + new_seconds // 60\n",
    "new_hours = hours + new_minutes // 60\n",
    "\n",
    "# Обновление значений секунд, минут и часов\n",
    "new_seconds %= 60\n",
    "new_minutes %= 60\n",
    "new_hours %= 24\n",
    "\n",
    "# Вывод нового времени в формате HH:MM:SS\n",
    "new_time = f'{new_hours:02d}:{new_minutes:02d}:{new_seconds:02d}'\n",
    "print(new_time)"
   ]
  },
  {
   "cell_type": "code",
   "execution_count": 13,
   "metadata": {},
   "outputs": [
    {
     "name": "stdout",
     "output_type": "stream",
     "text": [
      "53\n"
     ]
    }
   ],
   "source": [
    "def num_of_sundays(year):\n",
    "    sundays = 0\n",
    "    for month in range(1, 13):\n",
    "        for day in range(1, 32):\n",
    "            try:\n",
    "                date = datetime(year, month, day)\n",
    "                if date.weekday() == 6:\n",
    "                    sundays += 1\n",
    "            except ValueError:\n",
    "                break\n",
    "\n",
    "    return sundays\n",
    "\n",
    "year = 2000\n",
    "print(num_of_sundays(year))"
   ]
  },
  {
   "cell_type": "code",
   "execution_count": 14,
   "metadata": {},
   "outputs": [
    {
     "name": "stdout",
     "output_type": "stream",
     "text": [
      "12.12.2012\n",
      "14.12.2012\n",
      "17.12.2012\n",
      "21.12.2012\n",
      "26.12.2012\n",
      "01.01.2013\n",
      "08.01.2013\n",
      "16.01.2013\n",
      "25.01.2013\n",
      "04.02.2013\n"
     ]
    }
   ],
   "source": [
    "from datetime import datetime, timedelta\n",
    "\n",
    "# Ввод даты подготовки первой задачи\n",
    "input_date = input(\"Введите дату подготовки первой задачи в формате DD.MM.YYYY: \")\n",
    "start_date = datetime.strptime(input_date, \"%d.%m.%Y\")\n",
    "\n",
    "# Создаем список для хранения дат\n",
    "dates = []\n",
    "\n",
    "# Генерируем даты для 10 задач\n",
    "for i in range(10):\n",
    "    dates.append(start_date.strftime(\"%d.%m.%Y\"))\n",
    "    # Увеличиваем дату в соответствии с условиями\n",
    "    start_date += timedelta(days=i + 2)\n",
    "\n",
    "# Выводим даты\n",
    "for date in dates:\n",
    "    print(date)\n"
   ]
  },
  {
   "cell_type": "code",
   "execution_count": 16,
   "metadata": {},
   "outputs": [
    {
     "name": "stdout",
     "output_type": "stream",
     "text": [
      "10:00 - 10:45\n",
      "10:55 - 11:40\n",
      "11:50 - 12:35\n"
     ]
    }
   ],
   "source": [
    "start_time = input()\n",
    "end_time = input()\n",
    "\n",
    "start_hour, start_minute = map(int, start_time.split(':'))\n",
    "end_hour, end_minute = map(int, end_time.split(':'))\n",
    "\n",
    "start_minutes = start_hour * 60 + start_minute\n",
    "end_minutes = end_hour * 60 + end_minute\n",
    "\n",
    "if end_minutes - start_minutes >= 45:\n",
    "    schedule = []\n",
    "\n",
    "    current_time = start_minutes\n",
    "\n",
    "    while current_time + 45 <= end_minutes:\n",
    "        end_of_lesson = current_time + 45\n",
    "        schedule.append((current_time, end_of_lesson))\n",
    "        current_time = end_of_lesson + 10\n",
    "\n",
    "    for start, end in schedule:\n",
    "        start_hour = start // 60\n",
    "        start_minute = start % 60\n",
    "        end_hour = end // 60\n",
    "        end_minute = end % 60\n",
    "        print(f\"{start_hour:02}:{start_minute:02} - {end_hour:02}:{end_minute:02}\")\n",
    "\n",
    "else:\n",
    "    print('')"
   ]
  },
  {
   "cell_type": "code",
   "execution_count": 19,
   "metadata": {},
   "outputs": [
    {
     "name": "stdout",
     "output_type": "stream",
     "text": [
      "2021-11-01 20:45:00\n",
      "Monday\n",
      "15\n"
     ]
    }
   ],
   "source": [
    "from datetime import datetime\n",
    "schedule = {\n",
    "    \"Monday\": (9, 21),\n",
    "    \"Tuesday\": (9, 21),\n",
    "    \"Wednesday\": (9, 21),\n",
    "    \"Thursday\": (9, 21),\n",
    "    \"Friday\": (9, 21),\n",
    "    \"Saturday\": (10, 18),\n",
    "    \"Sunday\": (10, 18),\n",
    "}\n",
    "\n",
    "current_datetime = datetime.strptime(input(), \"%d.%m.%Y %H:%M\")\n",
    "\n",
    "current_day = current_datetime.strftime(\"%A\")\n",
    "\n",
    "if current_day in schedule:\n",
    "    open_time, close_time = schedule[current_day]\n",
    "    current_time = current_datetime.time()\n",
    "\n",
    "    open_time = datetime.strptime(f\"{open_time:02d}:00\", \"%H:%M\").time()\n",
    "    close_time = datetime.strptime(f\"{close_time:02d}:00\", \"%H:%M\").time()\n",
    "\n",
    "    if open_time <= current_time <= close_time:\n",
    "        time_until_close = datetime.combine(current_datetime.date(), close_time) - current_datetime\n",
    "        minutes_until_close = int(time_until_close.total_seconds() / 60)\n",
    "        if minutes_until_close > 0:\n",
    "            print(minutes_until_close)\n",
    "        else:\n",
    "            print(\"Магазин не работает\")\n",
    "    else:\n",
    "        print(\"Магазин не работает\")\n",
    "else:\n",
    "    print(\"Магазин не работает\")\n"
   ]
  },
  {
   "cell_type": "code",
   "execution_count": 1,
   "metadata": {},
   "outputs": [],
   "source": [
    "import time \n",
    "\n",
    "def calculate_it(func, *args):\n",
    "    start_time = time.perf_counter()\n",
    "    result = func(*args)\n",
    "    end_time = time.perf_counter()\n",
    "    return(result, end_time - start_time) \n",
    "    "
   ]
  },
  {
   "cell_type": "code",
   "execution_count": 10,
   "metadata": {},
   "outputs": [
    {
     "name": "stdout",
     "output_type": "stream",
     "text": [
      "<built-in function factorial>\n"
     ]
    }
   ],
   "source": [
    "import time\n",
    "\n",
    "def get_the_fastest_func(funcs, arg=None):\n",
    "    func_times = []\n",
    "    for func in funcs:\n",
    "        start_time = time.perf_counter()\n",
    "        func(arg)\n",
    "        end_time = time.perf_counter()\n",
    "        func_times.append([func, end_time - start_time])\n",
    "        result = min(func_times, key=lambda x: x[1])\n",
    "    return result[0]\n",
    "\n",
    "\n",
    "from math import factorial                   # функция из модуля math     \n",
    "\n",
    "def factorial_recurrent(n):                  # рекурсивная функция\n",
    "    if n == 0:\n",
    "        return 1\n",
    "    return n * factorial_recurrent(n - 1)    \n",
    "\n",
    "def factorial_classic(n):                    # итеративная функция\n",
    "    f = 1\n",
    "    for i in range(2, n + 1):\n",
    "        f *= i\n",
    "    return f\n",
    "\n",
    "print(get_the_fastest_func([factorial, factorial_recurrent, factorial_classic], 5))"
   ]
  },
  {
   "cell_type": "code",
   "execution_count": 15,
   "metadata": {},
   "outputs": [
    {
     "name": "stdout",
     "output_type": "stream",
     "text": [
      "<function list_function at 0x10f241d00>\n"
     ]
    }
   ],
   "source": [
    "import time\n",
    "\n",
    "def get_the_fastest_func(funcs, arg):\n",
    "    func_times = []\n",
    "    for func in funcs:\n",
    "        start_time = time.perf_counter()\n",
    "        func(arg)\n",
    "        end_time = time.perf_counter()\n",
    "        func_times.append([func, end_time - start_time])\n",
    "        result = min(func_times, key=lambda x: x[1])\n",
    "    return result[0]\n",
    "\n",
    "\n",
    "\n",
    "def for_and_append(iterable):             # с использованием цикла for и метода append()\n",
    "    result = []\n",
    "    for elem in iterable:\n",
    "        result.append(elem)\n",
    "    return result\n",
    "        \n",
    "\n",
    "def list_comprehension(iterable):         # с использованием списочного выражения\n",
    "    return [elem for elem in iterable]    \n",
    "    \n",
    "\n",
    "def list_function(iterable):              # с использованием встроенной функции list()\n",
    "    return list(iterable) \n",
    "\n",
    "print(get_the_fastest_func([for_and_append, list_comprehension, list_function], range(100_000)))"
   ]
  },
  {
   "cell_type": "code",
   "execution_count": 1,
   "metadata": {},
   "outputs": [
    {
     "name": "stdout",
     "output_type": "stream",
     "text": [
      "0\n"
     ]
    }
   ],
   "source": [
    "import calendar\n",
    "\n",
    "print(calendar.firstweekday())"
   ]
  },
  {
   "cell_type": "code",
   "execution_count": 4,
   "metadata": {},
   "outputs": [
    {
     "name": "stdout",
     "output_type": "stream",
     "text": [
      "False\n"
     ]
    }
   ],
   "source": [
    "import calendar\n",
    "n = int(input())\n",
    "years = [int(input()) for _ in range(n)]\n",
    "for year in years:\n",
    "    print(calendar.isleap(year))"
   ]
  },
  {
   "cell_type": "code",
   "execution_count": 11,
   "metadata": {},
   "outputs": [
    {
     "name": "stdout",
     "output_type": "stream",
     "text": [
      "2021\n",
      "Dec\n",
      "   December 2021\n",
      "Mo Tu We Th Fr Sa Su\n",
      "       1  2  3  4  5\n",
      " 6  7  8  9 10 11 12\n",
      "13 14 15 16 17 18 19\n",
      "20 21 22 23 24 25 26\n",
      "27 28 29 30 31\n",
      "\n"
     ]
    }
   ],
   "source": [
    "import calendar\n",
    "year, month = (input().split())\n",
    "year = int(year)\n",
    "d = {'Jan':1, 'Feb':2, 'Mar':3, 'Apr':4, 'May':5, 'Jun':6, 'Jul':7, 'Aug':8, 'Sep':9, 'Oct':10, 'Nov':11, 'Dec':12}\n",
    "print(calendar.month(year, d[month], w=0, l=0))"
   ]
  },
  {
   "cell_type": "code",
   "execution_count": 15,
   "metadata": {},
   "outputs": [
    {
     "name": "stdout",
     "output_type": "stream",
     "text": [
      "2021 12 10\n"
     ]
    }
   ],
   "source": [
    "# 2021-12-10\n",
    "year, month, day = (input().split('-'))\n",
    "year = int(year)\n",
    "month = int(month)\n",
    "day = int(day)\n",
    "print(year, month, day)"
   ]
  },
  {
   "cell_type": "code",
   "execution_count": 6,
   "metadata": {},
   "outputs": [
    {
     "name": "stdout",
     "output_type": "stream",
     "text": [
      "Friday\n",
      "4\n"
     ]
    }
   ],
   "source": [
    "import calendar\n",
    "year, month, day = map(int, input().split('-'))\n",
    "wd = calendar.weekday(year, month, day)\n",
    "counter = 0\n",
    "for name in calendar.day_name:\n",
    "    if counter == wd:\n",
    "        print(name)\n",
    "    counter += 1"
   ]
  },
  {
   "cell_type": "code",
   "execution_count": 7,
   "metadata": {},
   "outputs": [
    {
     "name": "stdout",
     "output_type": "stream",
     "text": [
      "Friday\n"
     ]
    }
   ],
   "source": [
    "import calendar\n",
    "y, m, d = map(int, input().split('-'))\n",
    "print(calendar.day_name[calendar.weekday(y, m, d)])"
   ]
  },
  {
   "cell_type": "code",
   "execution_count": 9,
   "metadata": {},
   "outputs": [
    {
     "name": "stdout",
     "output_type": "stream",
     "text": [
      "31\n"
     ]
    }
   ],
   "source": [
    "import calendar \n",
    "year, month = map(int, input().split())\n",
    "print(calendar.monthrange(year, month)[1])"
   ]
  },
  {
   "cell_type": "code",
   "execution_count": 10,
   "metadata": {},
   "outputs": [
    {
     "name": "stdout",
     "output_type": "stream",
     "text": [
      "31\n"
     ]
    }
   ],
   "source": [
    "import calendar\n",
    "year, month = input().split()\n",
    "year = int(year)\n",
    "month = list(calendar.month_name).index(month.capitalize())\n",
    "print(calendar.monthrange(year, month)[1])"
   ]
  },
  {
   "cell_type": "code",
   "execution_count": 11,
   "metadata": {},
   "outputs": [],
   "source": [
    "from datetime import date, timedelta\n",
    "\n",
    "def get_days_in_month(year, month):\n",
    "    month_names = [\"January\", \"February\", \"March\", \"April\", \"May\", \"June\", \"July\",\n",
    "                   \"August\", \"September\", \"October\", \"November\", \"December\"]\n",
    "    month_number = month_names.index(month) + 1\n",
    "    \n",
    "    first_day = date(year, month_number, 1)\n",
    "    \n",
    "    days_in_month = []\n",
    "    current_day = first_day\n",
    "    while current_day.month == month_number:\n",
    "        days_in_month.append(current_day)\n",
    "        current_day += timedelta(days=1)\n",
    "    \n",
    "    return days_in_month\n",
    "\n",
    "# Пример использования:\n",
    "# get_days_in_month(2021, 'December') вернет список дат для декабря 2021 года\n"
   ]
  },
  {
   "cell_type": "code",
   "execution_count": 12,
   "metadata": {},
   "outputs": [],
   "source": [
    "from datetime import date, timedelta\n",
    "\n",
    "def get_all_mondays(year):\n",
    "    current_date = date(year, 1, 1)\n",
    "    \n",
    "    while current_date.weekday() != 0:\n",
    "        current_date += timedelta(days=1)\n",
    "    \n",
    "    mondays = []\n",
    "    while current_date.year == year:\n",
    "        mondays.append(current_date)\n",
    "        current_date += timedelta(weeks=1)\n",
    "    \n",
    "    return mondays\n",
    "\n",
    "# Пример использования:\n",
    "# get_all_mondays(2021) вернет список всех понедельников в 2021 году\n"
   ]
  },
  {
   "cell_type": "code",
   "execution_count": 13,
   "metadata": {},
   "outputs": [
    {
     "ename": "ValueError",
     "evalue": "invalid literal for int() with base 10: 'у'",
     "output_type": "error",
     "traceback": [
      "\u001b[0;31m---------------------------------------------------------------------------\u001b[0m",
      "\u001b[0;31mValueError\u001b[0m                                Traceback (most recent call last)",
      "\u001b[1;32m/Users/magewade/Desktop/Python/Professional/3 datetime.ipynb Cell 42\u001b[0m line \u001b[0;36m2\n\u001b[1;32m     <a href='vscode-notebook-cell:/Users/magewade/Desktop/Python/Professional/3%20datetime.ipynb#X56sZmlsZQ%3D%3D?line=22'>23</a>\u001b[0m     \u001b[39mreturn\u001b[39;00m free_days\n\u001b[1;32m     <a href='vscode-notebook-cell:/Users/magewade/Desktop/Python/Professional/3%20datetime.ipynb#X56sZmlsZQ%3D%3D?line=24'>25</a>\u001b[0m \u001b[39m# Ввод года\u001b[39;00m\n\u001b[0;32m---> <a href='vscode-notebook-cell:/Users/magewade/Desktop/Python/Professional/3%20datetime.ipynb#X56sZmlsZQ%3D%3D?line=25'>26</a>\u001b[0m year \u001b[39m=\u001b[39m \u001b[39mint\u001b[39;49m(\u001b[39minput\u001b[39;49m(\u001b[39m\"\u001b[39;49m\u001b[39mВведите год: \u001b[39;49m\u001b[39m\"\u001b[39;49m))\n\u001b[1;32m     <a href='vscode-notebook-cell:/Users/magewade/Desktop/Python/Professional/3%20datetime.ipynb#X56sZmlsZQ%3D%3D?line=27'>28</a>\u001b[0m \u001b[39m# Получение списка дат бесплатных дней\u001b[39;00m\n\u001b[1;32m     <a href='vscode-notebook-cell:/Users/magewade/Desktop/Python/Professional/3%20datetime.ipynb#X56sZmlsZQ%3D%3D?line=28'>29</a>\u001b[0m free_days \u001b[39m=\u001b[39m free_days_in_hermitage(year)\n",
      "\u001b[0;31mValueError\u001b[0m: invalid literal for int() with base 10: 'у'"
     ]
    }
   ],
   "source": [
    "from datetime import date, timedelta\n",
    "\n",
    "def free_days_in_hermitage(year):\n",
    "    # Создаем список месяцев и их соответствующих дней\n",
    "    months = list(range(1, 13))  # Месяцы с 1 по 12\n",
    "    days_of_week = 3  # Четверг (0 - понедельник, 1 - вторник, ..., 6 - воскресенье)\n",
    "\n",
    "    # Создаем пустой список для хранения дат бесплатных дней\n",
    "    free_days = []\n",
    "\n",
    "    # Проходим по каждому месяцу\n",
    "    for month in months:\n",
    "        # Находим первый день месяца\n",
    "        current_date = date(year, month, 1)\n",
    "\n",
    "        # Находим третий четверг в месяце\n",
    "        while current_date.weekday() != days_of_week:\n",
    "            current_date += timedelta(days=1)\n",
    "\n",
    "        # Добавляем дату в список бесплатных дней\n",
    "        free_days.append(current_date)\n",
    "\n",
    "    return free_days\n",
    "\n",
    "# Ввод года\n",
    "year = int(input(\"Введите год: \"))\n",
    "\n",
    "# Получение списка дат бесплатных дней\n",
    "free_days = free_days_in_hermitage(year)\n",
    "\n",
    "# Вывод дат в формате DD.MM.YYYY\n",
    "for day in free_days:\n",
    "    print(day.strftime(\"%d.%m.%Y\"))\n"
   ]
  },
  {
   "cell_type": "code",
   "execution_count": null,
   "metadata": {},
   "outputs": [],
   "source": [
    "import datetime\n",
    "\n",
    "year = int(input())\n",
    "\n",
    "def free_museum_days(year):\n",
    "    free_days = []\n",
    "    for month in range(1, 13):\n",
    "        for day in range(1, 32):\n",
    "            try:\n",
    "                date = datetime.date(year, month, day)\n",
    "                if date.weekday() == 3 and 14 < day <= 21:\n",
    "                    free_days.append(date.strftime(\"%d.%m.%Y\"))\n",
    "            except ValueError:\n",
    "                pass\n",
    "    return free_days\n",
    "\n",
    "free_days = free_museum_days(year)\n",
    "for date in free_days:\n",
    "    print(date)\n"
   ]
  }
 ],
 "metadata": {
  "kernelspec": {
   "display_name": ".venv",
   "language": "python",
   "name": "python3"
  },
  "language_info": {
   "codemirror_mode": {
    "name": "ipython",
    "version": 3
   },
   "file_extension": ".py",
   "mimetype": "text/x-python",
   "name": "python",
   "nbconvert_exporter": "python",
   "pygments_lexer": "ipython3",
   "version": "3.11.2"
  }
 },
 "nbformat": 4,
 "nbformat_minor": 2
}
