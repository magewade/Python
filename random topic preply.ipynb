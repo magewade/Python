{
 "cells": [
  {
   "cell_type": "code",
   "execution_count": 5,
   "metadata": {},
   "outputs": [],
   "source": [
    "topics = ['Mindfullness', 'The search of immortality', 'Extreme weather', 'Fake news', 'Idioms of food', 'Interpretating art', 'Movies', 'Virtual reality', 'Celebrety appeal', 'Climate change', 'Regrets and wishes', 'Taking opportunities', 'Unusual tourist attractions', 'A theft abroad', 'Relationships and dating', 'Feelings and emotions', 'Travelling around the city', 'Lifestyle passions', 'Sports', 'Describing people', 'Giving advice', 'Politics and voiting', 'Perceptions of time', 'The visual arts', 'Free time and leisure', 'Food and dinig out', 'Implication and communication', 'The endangered world', 'Color metaphors', 'Friendship', 'Diverse beliefs', 'Complaints', 'Health and fitness', 'Unique ways of life', 'Traffic and driving', 'Fun with sience', 'Healthcare', 'Honesty and deception', 'Human and animal relationships', 'Photography and film', 'Books', 'Sounds', 'Reminiscences and regrets', 'Best and worse travel experiences', 'Emotions', 'Air travel', 'Family tree', 'Money', 'Proverbs', 'Speed', 'The have and have-nots', 'Social inequality', 'Online dating', 'Work relationships', 'Psychology', 'Fortune telling', 'Whats in a home', 'Idioms and phrases about home', 'Sights and landmarks', 'Cities of the future', 'Life in extreme environments', 'Water', 'Forests and deforestation', 'Eco-Warriors', 'Radio and Podcasts', 'The history of TV', 'The power of advertising', 'Ancient art', 'Music', 'Reading and books', 'Alternative medicine', 'Self-care and rest', 'Off to sleep', 'Positive mindset', 'Failed purchases', 'Gestures and non-verbal communication', 'Ways to apologize', 'Talents and strengths', 'Life on Mars']\n",
    "done_topics = ['Proverbs', 'Positive mindset', 'The history of TV', 'The power of advertising', 'Mindfullness']\n",
    "topics_c1 = ['American Culture', 'Beliefs and superstitions', 'Discourse markers', 'Making predictions', 'Fears and peeves', 'Politics', 'Food and cooking', 'Friendship', 'Ecotourism', 'Telling and sharing jokes', 'Travel and culture', 'Lifestyle choices', 'Climate change', 'Fake news', 'Social media', 'Success and failure', 'Health and fitness', 'Movies and cinema', 'Inspirational people', 'Giving opinions', 'Music', 'Hometowns and architecture', 'Technology', 'Money and finance', 'Sports']\n",
    "done_topics_c1 = ['Sports']"
   ]
  },
  {
   "cell_type": "code",
   "execution_count": 7,
   "metadata": {},
   "outputs": [
    {
     "name": "stdout",
     "output_type": "stream",
     "text": [
      "Discourse markers\n",
      "['Success and failure', 'Discourse markers']\n"
     ]
    }
   ],
   "source": [
    "import random\n",
    "\n",
    "\n",
    "def random_topic():\n",
    "    r_topic = random.choice(topics_c1)\n",
    "    if r_topic in done_topics_c1:\n",
    "        random_topic()\n",
    "    else:\n",
    "        done_topics_c1.append(r_topic)\n",
    "        return r_topic\n",
    "\n",
    "print(random_topic())\n",
    "print(done_topics_c1)"
   ]
  },
  {
   "cell_type": "code",
   "execution_count": null,
   "metadata": {},
   "outputs": [],
   "source": []
  },
  {
   "cell_type": "code",
   "execution_count": null,
   "metadata": {},
   "outputs": [],
   "source": []
  }
 ],
 "metadata": {
  "kernelspec": {
   "display_name": ".venv",
   "language": "python",
   "name": "python3"
  },
  "language_info": {
   "codemirror_mode": {
    "name": "ipython",
    "version": 3
   },
   "file_extension": ".py",
   "mimetype": "text/x-python",
   "name": "python",
   "nbconvert_exporter": "python",
   "pygments_lexer": "ipython3",
   "version": "3.11.2"
  }
 },
 "nbformat": 4,
 "nbformat_minor": 2
}
