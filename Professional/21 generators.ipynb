{
 "cells": [
  {
   "cell_type": "code",
   "execution_count": 1,
   "metadata": {},
   "outputs": [
    {
     "name": "stdout",
     "output_type": "stream",
     "text": [
      "1 2 2 3 3 3 4 4 4 4\n"
     ]
    }
   ],
   "source": [
    "def simple_sequence():\n",
    "    n = 0\n",
    "    while True:\n",
    "        n += 1\n",
    "        for _ in range(n):\n",
    "            yield n \n",
    "    \n",
    "    \n",
    "generator = simple_sequence()\n",
    "numbers = [next(generator) for _ in range(10)]\n",
    "\n",
    "print(*numbers)"
   ]
  },
  {
   "cell_type": "code",
   "execution_count": 7,
   "metadata": {},
   "outputs": [
    {
     "name": "stdout",
     "output_type": "stream",
     "text": [
      "1 -2 3 -4 5 -6 7 -8 9 -10\n",
      "1\n",
      "-2\n"
     ]
    }
   ],
   "source": [
    "def alternating_sequence(count=None):\n",
    "    multiplier = 1\n",
    "    if count is not None:\n",
    "        for i in range(count):\n",
    "            yield (i + 1) * multiplier\n",
    "            multiplier *= -1\n",
    "    else:\n",
    "        i = 1\n",
    "        while True:\n",
    "            yield i * multiplier\n",
    "            multiplier *= -1\n",
    "            i += 1\n",
    "            \n",
    "generator = alternating_sequence(10)\n",
    "\n",
    "print(*generator)\n",
    "\n",
    "\n",
    "generator = alternating_sequence()\n",
    "\n",
    "print(next(generator))\n",
    "print(next(generator))"
   ]
  },
  {
   "cell_type": "code",
   "execution_count": 8,
   "metadata": {},
   "outputs": [
    {
     "name": "stdout",
     "output_type": "stream",
     "text": [
      "2 3 5 7 11 13\n"
     ]
    }
   ],
   "source": [
    "def is_prime(num):\n",
    "    if num < 2:\n",
    "        return False\n",
    "    for i in range(2, int(num**0.5) + 1):\n",
    "        if num % i == 0:\n",
    "            return False\n",
    "    return True\n",
    "\n",
    "def primes(left, right):\n",
    "    current = left\n",
    "    while current <= right:\n",
    "        if is_prime(current):\n",
    "            yield current\n",
    "        current += 1\n",
    "        \n",
    "generator = primes(1, 15)\n",
    "\n",
    "print(*generator)\n"
   ]
  },
  {
   "cell_type": "code",
   "execution_count": 11,
   "metadata": {},
   "outputs": [
    {
     "name": "stdout",
     "output_type": "stream",
     "text": [
      "<class 'generator'>\n",
      "k e e g e e b\n",
      "5 4 3 2 1\n"
     ]
    }
   ],
   "source": [
    "def reverse(sequence):\n",
    "    for i in reversed(sequence):\n",
    "        yield i\n",
    "    \n",
    "    \n",
    "generator = reverse('beegeek')\n",
    "\n",
    "print(type(generator))\n",
    "print(*generator)\n",
    "\n",
    "print(*reverse([1, 2, 3, 4, 5]))"
   ]
  },
  {
   "cell_type": "code",
   "execution_count": 14,
   "metadata": {},
   "outputs": [
    {
     "name": "stdout",
     "output_type": "stream",
     "text": [
      "2022-03-08\n",
      "2022-03-09\n",
      "2022-03-10\n"
     ]
    }
   ],
   "source": [
    "from datetime import date, timedelta\n",
    "\n",
    "def dates(start, count=None):\n",
    "    current_date = start\n",
    "    generated_count = 0\n",
    "\n",
    "    while count is None or generated_count < count:\n",
    "        yield current_date\n",
    "        generated_count += 1\n",
    "\n",
    "\n",
    "        try:\n",
    "            current_date += timedelta(days=1)\n",
    "        except OverflowError:\n",
    "            break\n",
    "\n",
    "generator = dates(date(2022, 3, 8))\n",
    "\n",
    "print(next(generator))\n",
    "print(next(generator))\n",
    "print(next(generator))"
   ]
  },
  {
   "cell_type": "code",
   "execution_count": 21,
   "metadata": {},
   "outputs": [
    {
     "name": "stdout",
     "output_type": "stream",
     "text": [
      "2 треф\n",
      "3 треф\n",
      "4 треф\n"
     ]
    }
   ],
   "source": [
    "def card_deck(suit):\n",
    "    ranks = ['2', '3', '4', '5', '6', '7', '8', '9', '10', 'валет', 'дама', 'король', 'туз']\n",
    "    suits = ['пик', 'треф', 'бубен', 'червей']\n",
    "    \n",
    "    suit_index = suits.index(suit)\n",
    "    \n",
    "    while True:\n",
    "        for s in suits[:suit_index] + suits[suit_index + 1:]:\n",
    "            for rank in ranks:\n",
    "                yield f\"{rank} {s}\"\n",
    "            \n",
    "generator = card_deck('пик')\n",
    "\n",
    "print(next(generator))\n",
    "print(next(generator))\n",
    "print(next(generator))\n",
    "            "
   ]
  },
  {
   "cell_type": "code",
   "execution_count": 22,
   "metadata": {},
   "outputs": [
    {
     "name": "stdout",
     "output_type": "stream",
     "text": [
      "b e e g e e k\n"
     ]
    }
   ],
   "source": [
    "def bee():\n",
    "    yield from 'bee'\n",
    "\n",
    "def geek():\n",
    "    yield from 'geek'\n",
    "\n",
    "def beegeek():\n",
    "    yield from bee()\n",
    "    yield from geek()\n",
    "\n",
    "print(*beegeek())"
   ]
  },
  {
   "cell_type": "code",
   "execution_count": 26,
   "metadata": {},
   "outputs": [
    {
     "name": "stdout",
     "output_type": "stream",
     "text": [
      "1 2 3 4 5 6 7 8 9\n",
      "1 2 3 4 5 6 7 8 9\n"
     ]
    }
   ],
   "source": [
    "def matrix_by_elem(matrix):\n",
    "    for row in matrix:\n",
    "        for elem in row:\n",
    "            yield elem\n",
    "            \n",
    "def matrix_by_elem_2(matrix):\n",
    "    for row in matrix:\n",
    "        yield from row\n",
    "            \n",
    "            \n",
    "matrix = [[1, 2, 3],\n",
    "          [4, 5, 6],\n",
    "          [7, 8, 9]]\n",
    "\n",
    "print(*matrix_by_elem(matrix))\n",
    "print(*matrix_by_elem_2(matrix))"
   ]
  },
  {
   "cell_type": "code",
   "execution_count": 29,
   "metadata": {},
   "outputs": [
    {
     "name": "stdout",
     "output_type": "stream",
     "text": [
      "1\n",
      "2\n",
      "3\n",
      "1 2 3 4 5 6 7 8 9 11 22 33 44 55 66 77 88 99 101 111 121 131 141 151 161 171 181 191 202 212\n"
     ]
    }
   ],
   "source": [
    "def palindromes():\n",
    "    def palindrome_generator():\n",
    "        start = 1\n",
    "        while True:\n",
    "            if str(start) == str(start)[::-1]:\n",
    "                yield start\n",
    "            start += 1\n",
    "    yield from palindrome_generator()\n",
    "    \n",
    "generator = palindromes()\n",
    "\n",
    "print(next(generator))\n",
    "print(next(generator))\n",
    "print(next(generator))\n",
    "\n",
    "generator = palindromes()\n",
    "numbers = [next(generator) for _ in range(30)]\n",
    "\n",
    "print(*numbers)"
   ]
  },
  {
   "cell_type": "code",
   "execution_count": 35,
   "metadata": {},
   "outputs": [
    {
     "name": "stdout",
     "output_type": "stream",
     "text": [
      "1 2 3 4 5\n"
     ]
    }
   ],
   "source": [
    "def flatten(nested_list):\n",
    "    def linear(nested_list):\n",
    "        result = []\n",
    "        for elem in nested_list:\n",
    "            if isinstance(elem, list):\n",
    "                result.extend(linear(elem))\n",
    "            else:\n",
    "                result.append(elem)\n",
    "        return iter(result)\n",
    "\n",
    "    yield from linear(nested_list)\n",
    "    \n",
    "    \n",
    "generator = flatten([[1, 2], [[3]], [[4], 5]])\n",
    "\n",
    "print(*generator)"
   ]
  },
  {
   "cell_type": "code",
   "execution_count": null,
   "metadata": {},
   "outputs": [],
   "source": []
  }
 ],
 "metadata": {
  "kernelspec": {
   "display_name": ".venv",
   "language": "python",
   "name": "python3"
  },
  "language_info": {
   "codemirror_mode": {
    "name": "ipython",
    "version": 3
   },
   "file_extension": ".py",
   "mimetype": "text/x-python",
   "name": "python",
   "nbconvert_exporter": "python",
   "pygments_lexer": "ipython3",
   "version": "3.11.2"
  }
 },
 "nbformat": 4,
 "nbformat_minor": 2
}
