{
 "cells": [
  {
   "cell_type": "code",
   "execution_count": 8,
   "metadata": {},
   "outputs": [
    {
     "name": "stdout",
     "output_type": "stream",
     "text": [
      "Введено число из недопустимого диапазона\n"
     ]
    }
   ],
   "source": [
    "import calendar\n",
    "\n",
    "months = {i: month for i, month in enumerate(list(calendar.month_name)[1:], 1)}\n",
    "\n",
    "try:\n",
    "    print(months[int(input())])\n",
    "except KeyError:\n",
    "    print('Введено число из недопустимого диапазона')\n",
    "except ValueError:\n",
    "    print('Введено некорректное значение')"
   ]
  },
  {
   "cell_type": "code",
   "execution_count": 13,
   "metadata": {},
   "outputs": [
    {
     "name": "stdout",
     "output_type": "stream",
     "text": [
      "{'a': [1, 2, 3], 'b': [4, 5, 6], 'c': [7]}\n",
      "{'a': [1, 2, 3], 'b': [4, 5, 6, 7]}\n"
     ]
    }
   ],
   "source": [
    "def add_to_list_in_dict(data, key, element):\n",
    "    try:\n",
    "        data[key].append(element)\n",
    "    except:\n",
    "        data[key] = [element]\n",
    "    return data\n",
    "    \n",
    "\n",
    "\n",
    "data = {'a': [1, 2, 3], 'b': [4, 5, 6]}\n",
    "add_to_list_in_dict(data, 'c', 7)\n",
    "\n",
    "print(data)\n",
    "    \n",
    "data = {'a': [1, 2, 3], 'b': [4, 5, 6]}\n",
    "add_to_list_in_dict(data, 'b', 7)\n",
    "\n",
    "print(data)"
   ]
  },
  {
   "cell_type": "code",
   "execution_count": 14,
   "metadata": {},
   "outputs": [
    {
     "name": "stdout",
     "output_type": "stream",
     "text": [
      "('Not found', 'Firefox')\n"
     ]
    }
   ],
   "source": [
    "data = {'Chrome': 'browser', 'Discord': 'messenger', 'Steam': 'digital distributor'}\n",
    "\n",
    "try:    \n",
    "    try:\n",
    "        app_name = 'Firefox'\n",
    "        app_type = data[app_name]\n",
    "    except:\n",
    "        raise KeyError('Not found', app_name)\n",
    "except KeyError as e:\n",
    "    print(e.args)\n"
   ]
  },
  {
   "cell_type": "code",
   "execution_count": 15,
   "metadata": {},
   "outputs": [],
   "source": [
    "def get_weekday(number):\n",
    "    if not isinstance(number, int):\n",
    "        raise TypeError('Аргумент не является целым числом')\n",
    "\n",
    "    if not (1 <= number <= 7):\n",
    "        raise ValueError('Аргумент не принадлежит требуемому диапазону')\n",
    "\n",
    "    weekdays = {\n",
    "        1: 'Понедельник',\n",
    "        2: 'Вторник',\n",
    "        3: 'Среда',\n",
    "        4: 'Четверг',\n",
    "        5: 'Пятница',\n",
    "        6: 'Суббота',\n",
    "        7: 'Воскресенье'\n",
    "    }\n",
    "\n",
    "    return weekdays[number]\n"
   ]
  },
  {
   "cell_type": "code",
   "execution_count": null,
   "metadata": {},
   "outputs": [],
   "source": [
    "def is_good_password(password):\n",
    "    if (len(password) >= 9) and (password != password.upper()) and (password != password.lower()):\n",
    "        for w in password:\n",
    "            flag_num = False\n",
    "            if w.isdigit():\n",
    "                flag_num = True\n",
    "        if flag_num:\n",
    "            return True\n",
    "    else:\n",
    "        return False\n",
    "    \n",
    "    \n",
    "# LBYL\n",
    "            "
   ]
  },
  {
   "cell_type": "code",
   "execution_count": 17,
   "metadata": {},
   "outputs": [
    {
     "name": "stdout",
     "output_type": "stream",
     "text": [
      "<class '__main__.LengthError'>\n"
     ]
    }
   ],
   "source": [
    "class PasswordError(Exception):\n",
    "    pass\n",
    "\n",
    "class LengthError(PasswordError):\n",
    "    pass\n",
    "\n",
    "class LetterError(PasswordError):\n",
    "    pass\n",
    "\n",
    "class DigitError(PasswordError):\n",
    "    pass\n",
    "\n",
    "def is_good_password(password):\n",
    "    if len(password) < 9:\n",
    "        raise LengthError\n",
    "    if (password == password.upper()) or (password == password.lower()):\n",
    "        raise LetterError\n",
    "    if password.isalpha():\n",
    "        raise DigitError\n",
    "    return True\n",
    "\n",
    "\n",
    "try:\n",
    "    print(is_good_password('Short7'))\n",
    "except Exception as err:\n",
    "    print(type(err))\n",
    "    \n",
    "# EAFP"
   ]
  },
  {
   "cell_type": "code",
   "execution_count": null,
   "metadata": {},
   "outputs": [],
   "source": [
    "def is_good_password(password):\n",
    "    if (len(password) >= 9) and (password != password.upper()) and (password != password.lower()):\n",
    "        flag_num = False\n",
    "        for w in password:\n",
    "            if w.isdigit():\n",
    "                flag_num = True\n",
    "        if flag_num:\n",
    "            return True\n",
    "    return False\n",
    "\n",
    "while True:\n",
    "    password = input()\n",
    "    if is_good_password(password):\n",
    "        print(\"Success!\")\n",
    "        break\n",
    "    if len(password) < 9:\n",
    "        print(\"LengthError\")\n",
    "    elif (password == password.upper()) or (password == password.lower()):\n",
    "        print(\"LetterError\")\n",
    "    else:\n",
    "        print(\"DigitError\")\n"
   ]
  },
  {
   "cell_type": "code",
   "execution_count": 18,
   "metadata": {},
   "outputs": [
    {
     "ename": "AssertionError",
     "evalue": "",
     "output_type": "error",
     "traceback": [
      "\u001b[0;31m---------------------------------------------------------------------------\u001b[0m",
      "\u001b[0;31mAssertionError\u001b[0m                            Traceback (most recent call last)",
      "\u001b[1;32m/Users/magewade/Desktop/Python/Professional/13 try except.ipynb Cell 8\u001b[0m line \u001b[0;36m3\n\u001b[1;32m      <a href='vscode-notebook-cell:/Users/magewade/Desktop/Python/Professional/13%20try%20except.ipynb#X10sZmlsZQ%3D%3D?line=0'>1</a>\u001b[0m name \u001b[39m=\u001b[39m \u001b[39m9991\u001b[39m\n\u001b[0;32m----> <a href='vscode-notebook-cell:/Users/magewade/Desktop/Python/Professional/13%20try%20except.ipynb#X10sZmlsZQ%3D%3D?line=2'>3</a>\u001b[0m \u001b[39massert\u001b[39;00m \u001b[39misinstance\u001b[39m(name, \u001b[39mstr\u001b[39m)\n",
      "\u001b[0;31mAssertionError\u001b[0m: "
     ]
    }
   ],
   "source": [
    "name = 9991\n",
    "\n",
    "assert isinstance(name, str)"
   ]
  },
  {
   "cell_type": "code",
   "execution_count": null,
   "metadata": {},
   "outputs": [],
   "source": []
  }
 ],
 "metadata": {
  "kernelspec": {
   "display_name": ".venv",
   "language": "python",
   "name": "python3"
  },
  "language_info": {
   "codemirror_mode": {
    "name": "ipython",
    "version": 3
   },
   "file_extension": ".py",
   "mimetype": "text/x-python",
   "name": "python",
   "nbconvert_exporter": "python",
   "pygments_lexer": "ipython3",
   "version": "3.11.2"
  }
 },
 "nbformat": 4,
 "nbformat_minor": 2
}
