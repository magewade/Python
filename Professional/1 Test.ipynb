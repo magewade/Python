{
 "cells": [
  {
   "cell_type": "code",
   "execution_count": 12,
   "metadata": {},
   "outputs": [
    {
     "name": "stdout",
     "output_type": "stream",
     "text": [
      "************44444\n"
     ]
    }
   ],
   "source": [
    "def hide_card(card_number):\n",
    "    card_number = card_number.replace(\" \", \"\")\n",
    "    hidden_part = '*' * 12\n",
    "    masked_card_number = hidden_part + card_number[12:]\n",
    "    return masked_card_number\n",
    "\n",
    "print(hide_card('12313 4234 4324 4444'))"
   ]
  },
  {
   "cell_type": "code",
   "execution_count": 13,
   "metadata": {},
   "outputs": [
    {
     "name": "stdout",
     "output_type": "stream",
     "text": [
      "[6, 0, 10, -20]\n",
      "[-7, 67, -9, -29]\n"
     ]
    }
   ],
   "source": [
    "def same_parity(numbers):\n",
    "    if not numbers:\n",
    "        return []\n",
    "    first_number_parity = numbers[0] % 2 \n",
    "    result = [num for num in numbers if num % 2 == first_number_parity]\n",
    "    return result\n",
    "\n",
    "print(same_parity([6, 0, 67, -7, 10, -20]))\n",
    "print(same_parity([-7, 0, 67, -9, 70, -29, 90]))"
   ]
  },
  {
   "cell_type": "code",
   "execution_count": 14,
   "metadata": {},
   "outputs": [
    {
     "name": "stdout",
     "output_type": "stream",
     "text": [
      "90\n"
     ]
    }
   ],
   "source": [
    "b = 3\n",
    "b = b * b \n",
    "b = b + b * b\n",
    "print(b)"
   ]
  },
  {
   "cell_type": "code",
   "execution_count": 17,
   "metadata": {},
   "outputs": [
    {
     "name": "stdout",
     "output_type": "stream",
     "text": [
      "24001875\n"
     ]
    }
   ],
   "source": [
    "total_sum = 0\n",
    "\n",
    "for num in range(50, 101):\n",
    "    total_sum += num ** 3\n",
    "\n",
    "print(total_sum)"
   ]
  },
  {
   "cell_type": "code",
   "execution_count": 1,
   "metadata": {},
   "outputs": [
    {
     "name": "stdout",
     "output_type": "stream",
     "text": [
      "3489675\n"
     ]
    }
   ],
   "source": [
    "total_sum = 0\n",
    "\n",
    "for num in range(1000, 10000):\n",
    "    # Разбиваем число на цифры и считаем их сумму\n",
    "    digits_sum = sum(int(digit) for digit in str(num))\n",
    "    \n",
    "    if digits_sum == 20:\n",
    "        total_sum += num\n",
    "\n",
    "print(total_sum)"
   ]
  },
  {
   "cell_type": "code",
   "execution_count": 1,
   "metadata": {},
   "outputs": [
    {
     "name": "stdout",
     "output_type": "stream",
     "text": [
      "['id', 'uid', 'account_number', 'iban', 'bank_name', 'routing_number', 'swift_bic']\n"
     ]
    }
   ],
   "source": [
    "account = {\n",
    "  \"id\": 3136,\n",
    "  \"uid\": \"1359acc6-f07a-4a2a-984e-3fb809982948\",\n",
    "  \"account_number\": \"0847799459\",\n",
    "  \"iban\": \"GB90XTND56373623909314\",\n",
    "  \"bank_name\": \"ABN AMRO HOARE GOVETT CORPORATE FINANCE LTD.\",\n",
    "  \"routing_number\": \"126602476\",\n",
    "  \"swift_bic\": \"BCYPGB2LHGB\"\n",
    "}\n",
    "keys = list(account)\n",
    "print(keys)"
   ]
  },
  {
   "cell_type": "code",
   "execution_count": 4,
   "metadata": {},
   "outputs": [
    {
     "name": "stdout",
     "output_type": "stream",
     "text": [
      "528.37\n"
     ]
    }
   ],
   "source": [
    "supermarket = {\n",
    "    \"milk\": {\"quantity\": 20, \"price\": 1.19},\n",
    "    \"biscuits\": {\"quantity\": 32, \"price\": 1.45},\n",
    "    \"butter\": {\"quantity\": 20, \"price\": 2.29},\n",
    "    \"cheese\": {\"quantity\": 15, \"price\": 1.90},\n",
    "    \"bread\": {\"quantity\": 15, \"price\": 2.59},\n",
    "    \"cookies\": {\"quantity\": 20, \"price\": 4.99},\n",
    "    \"yogurt\": {\"quantity\": 18, \"price\": 3.65},\n",
    "    \"apples\": {\"quantity\": 35, \"price\": 3.15},\n",
    "    \"oranges\": {\"quantity\": 40, \"price\": 0.99},\n",
    "    \"bananas\": {\"quantity\": 23, \"price\": 1.29}\n",
    "}\n",
    "total_price = sum(item[\"price\"] * item[\"quantity\"] for item in supermarket.values())\n",
    "print(total_price)"
   ]
  },
  {
   "cell_type": "code",
   "execution_count": 7,
   "metadata": {},
   "outputs": [
    {
     "name": "stdout",
     "output_type": "stream",
     "text": [
      "{'694.322.8133x22426': 'Amy Smith', '593.662.5217x338': 'Brian Shaw', '118.197.8810': 'Christian Sharp', '9722527521': 'Sean Schmidt', '163.814.9938': 'Thomas Long', '+1-978-530-6971x601': 'Joshua Willis', '434.104.4302': 'Ann Hoffman', '(956)182-8435': 'John Leonard', '870-365-8303x416': 'Daniel Ross', '+1-757-865-4488x652': 'Jacqueline Moon', '705-576-1122': 'Gregory Baker', '(922)816-0599x7007': 'Michael Spencer', '399-813-8599': 'Austin Vazquez', '979.908.8506x886': 'Chad Delgado', '9577853541': 'Jonathan Gilbert'}\n"
     ]
    }
   ],
   "source": [
    "people = [\n",
    "    ['Amy Smith', '694.322.8133x22426'],\n",
    "    ['Brian Shaw', '593.662.5217x338'],\n",
    "    ['Christian Sharp', '118.197.8810'],\n",
    "    ['Sean Schmidt', '9722527521'],\n",
    "    ['Thomas Long', '163.814.9938'],\n",
    "    ['Joshua Willis', '+1-978-530-6971x601'],\n",
    "    ['Ann Hoffman', '434.104.4302'],\n",
    "    ['John Leonard', '(956)182-8435'],\n",
    "    ['Daniel Ross', '870-365-8303x416'],\n",
    "    ['Jacqueline Moon', '+1-757-865-4488x652'],\n",
    "    ['Gregory Baker', '705-576-1122'],\n",
    "    ['Michael Spencer', '(922)816-0599x7007'],\n",
    "    ['Austin Vazquez', '399-813-8599'],\n",
    "    ['Chad Delgado', '979.908.8506x886'],\n",
    "    ['Jonathan Gilbert', '9577853541']\n",
    "]\n",
    "phone_book = {i[1]:i[0] for i in people}\n",
    "print(phone_book)"
   ]
  },
  {
   "cell_type": "code",
   "execution_count": 2,
   "metadata": {},
   "outputs": [
    {
     "name": "stdout",
     "output_type": "stream",
     "text": [
      "frozenset({'7777777', '777777', '777', '77', '7777', '77777', '7'})\n"
     ]
    }
   ],
   "source": [
    "my_frozen = frozenset(['7' * i for i in range(1, 8)])\n",
    "print(my_frozen)\n"
   ]
  },
  {
   "cell_type": "code",
   "execution_count": null,
   "metadata": {},
   "outputs": [],
   "source": []
  }
 ],
 "metadata": {
  "kernelspec": {
   "display_name": ".venv",
   "language": "python",
   "name": "python3"
  },
  "language_info": {
   "codemirror_mode": {
    "name": "ipython",
    "version": 3
   },
   "file_extension": ".py",
   "mimetype": "text/x-python",
   "name": "python",
   "nbconvert_exporter": "python",
   "pygments_lexer": "ipython3",
   "version": "3.11.2"
  },
  "orig_nbformat": 4
 },
 "nbformat": 4,
 "nbformat_minor": 2
}
