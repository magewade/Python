{
 "cells": [
  {
   "cell_type": "code",
   "execution_count": null,
   "metadata": {},
   "outputs": [],
   "source": [
    "import pickle\n",
    "import sys\n",
    "\n",
    "def call_serialized_function(func_filename, *args):\n",
    "    with open(func_filename, 'rb') as func_file:\n",
    "        serialized_function = pickle.load(func_file)\n",
    "        result = serialized_function(*args)\n",
    "        return result\n",
    "\n",
    "func_filename = input()\n",
    "\n",
    "args = []\n",
    "for line in sys.stdin:\n",
    "    args.append(line.strip())\n",
    "\n",
    "result = call_serialized_function(func_filename, *args)\n",
    "print(result)\n",
    "\n"
   ]
  },
  {
   "cell_type": "code",
   "execution_count": null,
   "metadata": {},
   "outputs": [],
   "source": [
    "import pickle\n",
    "\n",
    "def filter_dump(filename, objects, typename):\n",
    "    filtered_objects = [obj for obj in objects if isinstance(obj, typename)]\n",
    "    with open(filename, 'wb') as file:\n",
    "        pickle.dump(filtered_objects, file)"
   ]
  },
  {
   "cell_type": "code",
   "execution_count": null,
   "metadata": {},
   "outputs": [],
   "source": []
  }
 ],
 "metadata": {
  "language_info": {
   "name": "python"
  }
 },
 "nbformat": 4,
 "nbformat_minor": 2
}
