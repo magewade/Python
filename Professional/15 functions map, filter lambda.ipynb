{
 "cells": [
  {
   "cell_type": "code",
   "execution_count": 1,
   "metadata": {},
   "outputs": [
    {
     "name": "stdout",
     "output_type": "stream",
     "text": [
      "('1111', '17', 'F')\n",
      "('-1111', '-17', '-F')\n"
     ]
    }
   ],
   "source": [
    "def convert(number):\n",
    "    if number < 0:\n",
    "        is_negative = True\n",
    "        number = abs(number)\n",
    "    else:\n",
    "        is_negative = False\n",
    "\n",
    "    binary_str = bin(number)[2:]  # Преобразование в двоичную строку и удаление префикса '0b'\n",
    "    octal_str = oct(number)[2:]    # Преобразование в восьмеричную строку и удаление префикса '0o'\n",
    "    hex_str = hex(number)[2:].upper()  # Преобразование в шестнадцатеричную строку, удаление префикса '0x' и приведение к верхнему регистру\n",
    "\n",
    "    if is_negative:\n",
    "        binary_str = \"-\" + binary_str\n",
    "        octal_str = \"-\" + octal_str\n",
    "        hex_str = \"-\" + hex_str\n",
    "\n",
    "    return (binary_str, octal_str, hex_str)\n",
    "\n",
    "# Примеры использования\n",
    "print(convert(15))    # Вывод: ('1111', '17', 'F')\n",
    "print(convert(-15))   # Вывод: ('-1111', '-17', '-F')\n"
   ]
  },
  {
   "cell_type": "code",
   "execution_count": 2,
   "metadata": {},
   "outputs": [
    {
     "name": "stdout",
     "output_type": "stream",
     "text": [
      "Encanto\n"
     ]
    }
   ],
   "source": [
    "films = {'Spider-Man: No Way Home': {'imdb': 8.8, 'kinopoisk': 8.3},\n",
    "         'Don\"t Look Up': {'imdb': 7.3, 'kinopoisk': 7.6},\n",
    "         'Encanto': {'imdb': 7.3, 'kinopoisk': 7.4},\n",
    "         'The Witcher': {'imdb': 8.2, 'kinopoisk': 7.3},\n",
    "         'Ghostbusters: Afterlife': {'imdb': 7.3, 'kinopoisk': 8},\n",
    "         'Harry Potter 20th Anniversary: Return to Hogwarts': {'imdb': 8.1, 'kinopoisk': 8.2},\n",
    "         'Shingeki no Kyojin': {'imdb': 9.0, 'kinopoisk': 8.3},\n",
    "         'The Matrix': {'imdb': 8.7, 'kinopoisk': 8.5},\n",
    "         'The Dark Knight': {'imdb': 9.0, 'kinopoisk': 8.5},\n",
    "         'The Shawshank Redemption': {'imdb': 9.3, 'kinopoisk': 9.1},\n",
    "         'Avengers: Endgame': {'imdb': 8.4, 'kinopoisk': 7.7}}\n",
    "\n",
    "\n",
    "def average_rating(movie):\n",
    "    return (movie['imdb'] + movie['kinopoisk']) / 2\n",
    "\n",
    "\n",
    "worst_movie = min(films, key=lambda movie: average_rating(films[movie]))\n",
    "\n",
    "print(worst_movie) \n"
   ]
  },
  {
   "cell_type": "code",
   "execution_count": 1,
   "metadata": {},
   "outputs": [
    {
     "name": "stdout",
     "output_type": "stream",
     "text": [
      "False\n"
     ]
    }
   ],
   "source": [
    "def non_negative_even(numbers):\n",
    "    return all(num >= 0 and num % 2 == 0 for num in numbers)\n",
    "\n",
    "print(non_negative_even([-8, -4, -2, 0, 2, 4, 8]))\n"
   ]
  },
  {
   "cell_type": "code",
   "execution_count": 2,
   "metadata": {},
   "outputs": [],
   "source": [
    "def is_greater(lists, number):\n",
    "    return any(sum(nums) > number for nums in lists)"
   ]
  },
  {
   "cell_type": "code",
   "execution_count": 4,
   "metadata": {},
   "outputs": [
    {
     "name": "stdout",
     "output_type": "stream",
     "text": [
      "2\n",
      "4\n"
     ]
    }
   ],
   "source": [
    "def custom_isinstance(objects, typeinfo):\n",
    "    counter = 0\n",
    "    for i in objects:\n",
    "        if isinstance(i, typeinfo):\n",
    "            counter += 1\n",
    "    return counter\n",
    "\n",
    "def custom_isinstance(objects, typeinfo):\n",
    "    return sum(1 for i in objects if isinstance(i, typeinfo))\n",
    "\n",
    "numbers = [1, 'two', 3.0, 'четыре', 5, 6.0]\n",
    "print(custom_isinstance(numbers, int))\n",
    "\n",
    "numbers = [1, 'two', 3.0, 'четыре', 5, 6.0]\n",
    "print(custom_isinstance(numbers, (int, float)))"
   ]
  },
  {
   "cell_type": "code",
   "execution_count": 6,
   "metadata": {},
   "outputs": [
    {
     "name": "stdout",
     "output_type": "stream",
     "text": [
      "53\n"
     ]
    }
   ],
   "source": [
    "numbers = [-7724, 5023, 3197, -102, -4129, -880, 5857, -2866, -8913, 1195, 9809, 5347, -8071, 903, 3030, -4347, -3354, 1024, 8670, 4210, -5228, 8900, 4823, -2002, 4900, 9520, -3658, 1104, -9554, 3064, 9632, -8701, 3384, 4370, 2034, 7822, -9694, 3347, 7440, -8459, 3238, -5193, -3381, 5281, 9022, 5559, 7593, -6540, -6204, -2483, 8729, 5810, -8254, -9846, -1801, 4882, 3838, -3140, 7609, -3325, 6026, 2994, -1677, 1266, -1893, -4408, -5722, -2841, 9812, 5837, -7474, 4624, -664, 6998, 7888, -971, 8810, 3812, -5396, 2593, 512, -4634, 9735, -3062, 9031, -9300, 3657, 6332, 7552, 8125, -725, 4392, 1727, 8194, -2828, -4314, -8967, -7912, -1363, -5957]\n",
    "\n",
    "print(numbers.index(min(numbers)))"
   ]
  },
  {
   "cell_type": "code",
   "execution_count": 13,
   "metadata": {},
   "outputs": [
    {
     "name": "stdout",
     "output_type": "stream",
     "text": [
      "(0, '1')\n",
      "(1, '3')\n",
      "(2, '9')\n",
      "739\n"
     ]
    }
   ],
   "source": [
    "def my_pow(number):\n",
    "    number_list = list(str(number))\n",
    "    result = 0\n",
    "    for n in enumerate(number_list):\n",
    "        result += int(n[1]) ** (n[0] + 1)\n",
    "    return result\n",
    "\n",
    "print(my_pow(139))\n",
    "        "
   ]
  },
  {
   "cell_type": "code",
   "execution_count": 21,
   "metadata": {},
   "outputs": [
    {
     "name": "stdout",
     "output_type": "stream",
     "text": [
      "Cars: 342216280$\n",
      "Coco: 627082196$\n",
      "Finding Nemo: 846335536$\n",
      "Frozen: 1130802282$\n",
      "Inside Out: 682611174$\n",
      "Moana: 493331111$\n",
      "Ratatouille: 470702951$\n",
      "Zootopia: 873784195$\n"
     ]
    }
   ],
   "source": [
    "names = ['Moana', 'Cars', 'Zootopia', 'Ratatouille', 'Coco', 'Inside Out', 'Finding Nemo', 'Frozen']\n",
    "budgets = [150000000, 120000000, 150000000, 150000000, 180000000, 175000000, 94000000, 150000000]\n",
    "box_offices = [643331111, 462216280, 1023784195, 620702951, 807082196, 857611174, 940335536, 1280802282]\n",
    "\n",
    "for i in sorted(list(zip(names, budgets, box_offices))):\n",
    "    print(f'{i[0]}: {i[2] - i[1]}$')\n",
    "    \n",
    "    \n",
    "for name, budgets, box_offices in sorted(zip(names, budgets, box_offices)):\n",
    "    print(f'{name}: {box_offices - budgets}$')"
   ]
  },
  {
   "cell_type": "code",
   "execution_count": 26,
   "metadata": {},
   "outputs": [
    {
     "name": "stdout",
     "output_type": "stream",
     "text": [
      "[(1, 'a'), (2, 'b'), (3, 'c'), (4, '_'), (5, '_')]\n"
     ]
    }
   ],
   "source": [
    "def zip_longest(*args, fill=None):\n",
    "    max_element = max(len(arg) for arg in args)\n",
    "    for arg in args:\n",
    "        for _ in range(max_element - len(arg)):\n",
    "            arg.append(fill)\n",
    "    return list(zip(*args))\n",
    "\n",
    "print(zip_longest([1, 2, 3, 4, 5], ['a', 'b', 'c'], fill='_'))"
   ]
  },
  {
   "cell_type": "code",
   "execution_count": 2,
   "metadata": {},
   "outputs": [
    {
     "name": "stdout",
     "output_type": "stream",
     "text": [
      "{1: 1, 2: 2, 3: 3, 4: 4, 5: [5, 5]}\n",
      "{-2: [-1, -2], -3: -3, -4: -4, -5: -5}\n",
      "{11: 11, 22: 22, 33: 33, 44: 44, 55: 55, 66: 66, 77: 77, 88: 88, 99: 99, 111: 111}\n"
     ]
    }
   ],
   "source": [
    "def hash_as_key(objects):\n",
    "    result = {}\n",
    "    for obj in objects:\n",
    "        hash_value = hash(obj)\n",
    "        if hash_value in result:\n",
    "            # Если ключ уже существует, преобразуем его значение в список и добавляем текущий объект\n",
    "            if isinstance(result[hash_value], list):\n",
    "                result[hash_value].append(obj)\n",
    "            else:\n",
    "                result[hash_value] = [result[hash_value], obj]\n",
    "        else:\n",
    "            result[hash_value] = obj\n",
    "    return result\n",
    "\n",
    "# Примеры использования\n",
    "data1 = [1, 2, 3, 4, 5, 5]\n",
    "print(hash_as_key(data1))\n",
    "\n",
    "data2 = [-1, -2, -3, -4, -5]\n",
    "print(hash_as_key(data2))\n",
    "\n",
    "data3 = [11, 22, 33, 44, 55, 66, 77, 88, 99, 111]\n",
    "print(hash_as_key(data3))\n"
   ]
  },
  {
   "cell_type": "code",
   "execution_count": 5,
   "metadata": {},
   "outputs": [
    {
     "name": "stdout",
     "output_type": "stream",
     "text": [
      "[5, 6]\n"
     ]
    }
   ],
   "source": [
    "collection_input = eval(input())\n",
    "if type(collection_input) == list:\n",
    "    print(collection_input[-1])\n",
    "elif type(collection_input) == tuple:\n",
    "    print(collection_input[0])\n",
    "else:\n",
    "    print(len(collection_input))\n"
   ]
  },
  {
   "cell_type": "code",
   "execution_count": 6,
   "metadata": {},
   "outputs": [
    {
     "name": "stdout",
     "output_type": "stream",
     "text": [
      "99\n"
     ]
    }
   ],
   "source": [
    "max_value = None\n",
    "while True:\n",
    "    line = input()\n",
    "    if not line:\n",
    "        break\n",
    "    result = eval(line)\n",
    "    if result is not None:\n",
    "        if max_value is None or result > max_value:\n",
    "            max_value = result\n",
    "if max_value is not None:\n",
    "    print(max_value)"
   ]
  },
  {
   "cell_type": "code",
   "execution_count": null,
   "metadata": {},
   "outputs": [],
   "source": [
    "import sys \n",
    "\n",
    "max_value = None\n",
    "for line in sys.stdin:\n",
    "    line = line.strip()\n",
    "    if not line:\n",
    "        break\n",
    "    result = eval(line)\n",
    "    if result is not None:\n",
    "        if max_value is None or result > max_value:\n",
    "            max_value = result\n",
    "if max_value is not None:\n",
    "    print(max_value)\n"
   ]
  },
  {
   "cell_type": "code",
   "execution_count": null,
   "metadata": {},
   "outputs": [],
   "source": [
    "def evaluate_expression(expression, x_value):\n",
    "    x = x_value\n",
    "    result = eval(expression)\n",
    "    return result\n",
    "\n",
    "# Ввод функции\n",
    "expression = input().strip()\n",
    "\n",
    "# Разбор границ отрезка\n",
    "a, b = map(int, input().split())\n",
    "\n",
    "# Инициализация минимального и максимального значения\n",
    "min_value = float('inf')\n",
    "max_value = float('-inf')\n",
    "\n",
    "# Вычисление минимального и максимального значения функции на отрезке\n",
    "for x_value in range(a, b + 1):\n",
    "    result = evaluate_expression(expression, x_value)\n",
    "    min_value = min(min_value, result)\n",
    "    max_value = max(max_value, result)\n",
    "\n",
    "# Вывод результата\n",
    "print(f\"Минимальное значение функции {expression} на отрезке [{a}; {b}] равно {min_value}\")\n",
    "print(f\"Максимальное значение функции {expression} на отрезке [{a}; {b}] равно {max_value}\")\n"
   ]
  },
  {
   "cell_type": "code",
   "execution_count": 4,
   "metadata": {},
   "outputs": [
    {
     "name": "stdout",
     "output_type": "stream",
     "text": [
      "-16\n",
      "-202\n",
      "883\n",
      "-765\n",
      "-105\n",
      "976\n",
      "-308\n",
      "458\n",
      "479\n",
      "-87\n",
      "-71\n",
      "112\n",
      "-621\n",
      "-715\n",
      "229\n",
      "729\n",
      "-358\n",
      "-974\n",
      "882\n",
      "-894\n",
      "323\n",
      "-224\n",
      "431\n",
      "170\n",
      "-343\n",
      "104\n",
      "-353\n",
      "-113\n",
      "288\n",
      "-708\n"
     ]
    }
   ],
   "source": [
    "data = ['Timur', -16.648911695768902, 'six', -202, 883.0093275936454, -765, (3, 4), -105.10718000213546, 976, -308.96857946288094, 458, ['one', 'two'], 479.92207220345927, -87, -71, 'twelve', 112, -621, -715.0179551194733, 'seven', 229, 729, -358, [1, 2, 3], -974, 882, -894.4709033242768, '', 323.7720806756133, 'beegeek', -224, 431, 170.6353248658936, -343.0016746052049, 'number', 104.17133679352878, [], -353.5964777099863, 'zero', -113, 288, None, -708.3036176571618]\n",
    "\n",
    "data = list(map(lambda x: int(x), filter(lambda x: type(x) == int or type(x) == float, data)))\n",
    "\n",
    "print(*data, sep='\\n')\n"
   ]
  },
  {
   "cell_type": "code",
   "execution_count": 6,
   "metadata": {},
   "outputs": [
    {
     "name": "stdout",
     "output_type": "stream",
     "text": [
      "8100\n"
     ]
    }
   ],
   "source": [
    "numbers = [4754, -4895, -364, -4764, 4683, 1639, -43, 228, -2701, -1503, 1223, 4340, -1296, 3939, -345, 623, -3275, 1003, 4367, -1739, 550, -1217, -1334, 1526, -4359, -3028, -4663, 3356, 3887, 4297, -1982, 1013, 3299, 3556, -3324, 417, 3531, -3134, 1782, 4439, 1652, -985, 4327, 1517, 1225, -915, 2808, -3851, -1005, 3396, 2842, -3879, -3824, -3805, 1609, -4741, -3072, 3573, 4680, 588, -1430, 2378, -1095, -343, 4357, -2164, -3304, 4354, 4926, -352, -1187, -3313, 2741, 4786, -2689, 741, 4558, 1442, 62, -1099, -2201, -16, -3115, 1862, 2384, 4072, -90, 204, 1158, -3134, -2512, 756, 4148, 4370, 1756, 3609, -1148, -3909, 4123, -2906, 69, 96, 1111]\n",
    "result = map(lambda x: x**2, filter(lambda x: x % 9 == 0 and 9 < abs(x) < 100, numbers))\n",
    "print(sum(result))\n"
   ]
  },
  {
   "cell_type": "code",
   "execution_count": 16,
   "metadata": {},
   "outputs": [
    {
     "name": "stdout",
     "output_type": "stream",
     "text": [
      "Аделина Айлин Александр Александра Алексей Алина Алиса Алёна Амелия Анастасия Андрей Арина Арсен Артемий Артём Мадина Максим Марат Маргарита Мария Матвей Милана Мирон Мирослава\n"
     ]
    }
   ],
   "source": [
    "names = ['ульяна', 'арина', 'Дмитрий', 'Сергей', 'Яна', 'мила', 'Ольга', 'софья', 'семён', 'Никита', 'маргарита', 'Василиса', 'Кирилл', 'александр', 'александра', 'Иван', 'андрей', 'Родион', 'максим', 'алиса', 'Артём', 'софия', 'владимир', 'дамир', 'Валерий', 'степан', 'Алексей', 'Марк', 'олег', 'ирина', 'Милана', 'мия', 'денис', 'Фёдор', 'Елизавета', 'айлин', 'Варвара', 'валерия', 'Алёна', 'Николь', 'юлия', 'Ксения', 'пётр', 'георгий', 'Мария', 'глеб', 'илья', 'Захар', 'Дарья', 'Евгения', 'матвей', 'Серафим', 'екатерина', 'Тимофей', 'виктор', 'Егор', 'Ника', 'анна', 'даниил', 'тихон', 'вера', 'кира', 'Эмилия', 'Виктория', 'Игорь', 'полина', 'алина', 'Давид', 'анастасия', 'Вероника', 'ярослав', 'Руслан', 'татьяна', 'Демид', 'амелия', 'Элина', 'Арсен', 'евгений', 'мадина', 'дарина', 'Савелий', 'Платон', 'Аделина', 'диана', 'Айша', 'павел', 'Стефания', 'Тимур', 'Ева', 'Елисей', 'Артемий', 'григорий', 'Мирон', 'Мирослава', 'Мира', 'Марат', 'Лилия', 'роман', 'владислав', 'Леонид']\n",
    "\n",
    "result = map(lambda x: x.capitalize(), filter(lambda x: (x.lower().startswith('а') or x.lower().startswith('м')) and len(x) > 4, names))\n",
    "\n",
    "print(*sorted(result))"
   ]
  },
  {
   "cell_type": "code",
   "execution_count": 18,
   "metadata": {},
   "outputs": [
    {
     "name": "stdout",
     "output_type": "stream",
     "text": [
      "5\n"
     ]
    }
   ],
   "source": [
    "fib = lambda x: 1 if x < 3 else fib(x - 1) + fib(x - 2)\n",
    "print(fib(5))"
   ]
  },
  {
   "cell_type": "code",
   "execution_count": 19,
   "metadata": {},
   "outputs": [],
   "source": [
    "def verification(login, password, success, failure):\n",
    "    has_letter = any(c.isalpha() and c.isascii() for c in password)\n",
    "    has_upper = any(c.isupper() for c in password)\n",
    "    has_lower = any(c.islower() and c.isascii() for c in password)\n",
    "    has_digit = any(c.isdigit() for c in password)\n",
    "\n",
    "    if has_letter and has_upper and has_lower and has_digit:\n",
    "        success(login)\n",
    "    else:\n",
    "        error_message = ''\n",
    "        if not has_letter:\n",
    "            error_message = 'в пароле нет ни одной буквы'\n",
    "        elif not has_upper:\n",
    "            error_message = 'в пароле нет ни одной заглавной буквы'\n",
    "        elif not has_lower:\n",
    "            error_message = 'в пароле нет ни одной строчной буквы'\n",
    "        elif not has_digit:\n",
    "            error_message = 'в пароле нет ни одной цифры'\n",
    "\n",
    "        failure(login, error_message)"
   ]
  },
  {
   "cell_type": "code",
   "execution_count": 20,
   "metadata": {},
   "outputs": [
    {
     "name": "stdout",
     "output_type": "stream",
     "text": [
      "Arthur_Davletov, попробуйте снова. Текст ошибки: в пароле нет ни одной буквы\n"
     ]
    }
   ],
   "source": [
    "def success(login):\n",
    "    print(f'Здравствуйте, {login}!')\n",
    "\n",
    "\n",
    "def failure(login, text):\n",
    "    print(f'{login}, попробуйте снова. Текст ошибки: {text}')\n",
    "\n",
    "\n",
    "verification('Arthur_Davletov', 'мойпароль123', success, failure)"
   ]
  },
  {
   "cell_type": "code",
   "execution_count": 21,
   "metadata": {},
   "outputs": [
    {
     "name": "stdout",
     "output_type": "stream",
     "text": [
      "Arthur_Davletov, попробуйте снова. Текст ошибки: в пароле нет ни одной строчной буквы\n"
     ]
    }
   ],
   "source": [
    "# # TEST_9:\n",
    "# Arthur_Davletov, попробуйте снова. Текст ошибки: в пароле нет ни одной строчной буквы\n",
    "\n",
    "def success(login):\n",
    "    print(f'Здравствуйте, {login}!')\n",
    "\n",
    "\n",
    "def failure(login, text):\n",
    "    print(f'{login}, попробуйте снова. Текст ошибки: {text}')\n",
    "\n",
    "\n",
    "verification('Arthur_Davletov', 'мойпарольBEE123', success, failure)"
   ]
  },
  {
   "cell_type": "code",
   "execution_count": null,
   "metadata": {},
   "outputs": [],
   "source": []
  }
 ],
 "metadata": {
  "kernelspec": {
   "display_name": ".venv",
   "language": "python",
   "name": "python3"
  },
  "language_info": {
   "codemirror_mode": {
    "name": "ipython",
    "version": 3
   },
   "file_extension": ".py",
   "mimetype": "text/x-python",
   "name": "python",
   "nbconvert_exporter": "python",
   "pygments_lexer": "ipython3",
   "version": "3.11.2"
  }
 },
 "nbformat": 4,
 "nbformat_minor": 2
}
