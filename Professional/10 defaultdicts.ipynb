{
 "cells": [
  {
   "cell_type": "code",
   "execution_count": 5,
   "metadata": {},
   "outputs": [
    {
     "name": "stdout",
     "output_type": "stream",
     "text": [
      "Books: $7969\n",
      "Courses: $2991\n",
      "Merch: $4083\n",
      "Tutorials: $3730\n"
     ]
    }
   ],
   "source": [
    "from collections import defaultdict\n",
    "\n",
    "data = [('Books', 1343), ('Books', 1166), ('Merch', 616), ('Courses', 966), ('Merch', 1145), ('Courses', 1061), ('Books', 848), ('Courses', 964), ('Tutorials', 832), ('Merch', 642), ('Books', 815), ('Tutorials', 1041), ('Books', 1218), ('Tutorials', 880), ('Books', 1003), ('Merch', 951), ('Books', 920), ('Merch', 729), ('Tutorials', 977), ('Books', 656)]\n",
    "\n",
    "product_profit = defaultdict(int)\n",
    "\n",
    "for product, profit in data:\n",
    "    product_profit[product] += profit\n",
    "\n",
    "sorted_products = sorted(product_profit.keys())\n",
    "\n",
    "for product in sorted_products:\n",
    "    total_profit = product_profit[product]\n",
    "    print(f'{product}: ${total_profit}')"
   ]
  },
  {
   "cell_type": "code",
   "execution_count": 18,
   "metadata": {},
   "outputs": [
    {
     "name": "stdout",
     "output_type": "stream",
     "text": [
      "defaultdict(<class 'list'>, {'Sales': ['Robert Barnes', 'Connie Reid', 'Charlotte Cox', 'Jose Taylor', 'Katie Warner', 'Evelyn Martin', 'Marie Cooper', 'Gladys Taylor', 'Alicia Mendoza', 'Joseph Lee', 'John White', 'Chester Fernandez', 'John Washington'], 'Developing': ['Thomas Porter', 'Miguel Norris', 'Deborah George', 'Nicole Watts', 'Arlene Gibson', 'Wilma Woods', 'Joyce Rivera'], 'Accounting': ['James Wilkins', 'Brenda Davis', 'Linda Hudson', 'Steven Diaz', 'Kimberly Reynolds', 'John Watts', 'Dale Houston', 'Rosemary Garcia', 'Michelle Wright', 'Casey Jenkins', 'Aaron Ferguson', 'Kay Scott', 'Ann Bell', 'Craig Wood', 'Gloria Higgins', 'Jane Jackson', 'Edna Cunningham'], 'Marketing': ['Billy Lloyd', 'Bernice Ramos', 'Joyce Lawrence', 'Ralph Morgan', 'Sam Davis', 'Gail Hill', 'Andrew Clark', 'John Gonzalez', 'Mario Reynolds', 'Helen Taylor', 'Mary King', 'Carol Peters', 'Charles Bailey']})\n",
      "Accounting: 17\n",
      "Developing: 7\n",
      "Marketing: 13\n",
      "Sales: 13\n"
     ]
    }
   ],
   "source": [
    "from collections import defaultdict\n",
    "\n",
    "staff = [('Sales', 'Robert Barnes'), ('Developing', 'Thomas Porter'), ('Accounting', 'James Wilkins'), ('Sales', 'Connie Reid'), ('Accounting', 'Brenda Davis'), ('Developing', 'Miguel Norris'), ('Accounting', 'Linda Hudson'), ('Developing', 'Deborah George'), ('Developing', 'Nicole Watts'), ('Marketing', 'Billy Lloyd'), ('Sales', 'Charlotte Cox'), ('Marketing', 'Bernice Ramos'), ('Sales', 'Jose Taylor'), ('Sales', 'Katie Warner'), ('Accounting', 'Steven Diaz'), ('Accounting', 'Kimberly Reynolds'), ('Accounting', 'John Watts'), ('Accounting', 'Dale Houston'), ('Developing', 'Arlene Gibson'), ('Marketing', 'Joyce Lawrence'), ('Accounting', 'Rosemary Garcia'), ('Marketing', 'Ralph Morgan'), ('Marketing', 'Sam Davis'), ('Marketing', 'Gail Hill'), ('Accounting', 'Michelle Wright'), ('Accounting', 'Casey Jenkins'), ('Sales', 'Evelyn Martin'), ('Accounting', 'Aaron Ferguson'), ('Marketing', 'Andrew Clark'), ('Marketing', 'John Gonzalez'), ('Developing', 'Wilma Woods'), ('Sales', 'Marie Cooper'), ('Accounting', 'Kay Scott'), ('Sales', 'Gladys Taylor'), ('Accounting', 'Ann Bell'), ('Accounting', 'Craig Wood'), ('Accounting', 'Gloria Higgins'), ('Marketing', 'Mario Reynolds'), ('Marketing', 'Helen Taylor'), ('Marketing', 'Mary King'), ('Accounting', 'Jane Jackson'), ('Marketing', 'Carol Peters'), ('Sales', 'Alicia Mendoza'), ('Accounting', 'Edna Cunningham'), ('Developing', 'Joyce Rivera'), ('Sales', 'Joseph Lee'), ('Sales', 'John White'), ('Marketing', 'Charles Bailey'), ('Sales', 'Chester Fernandez'), ('Sales', 'John Washington')]\n",
    "\n",
    "department_workers = defaultdict(list)\n",
    "\n",
    "for dep, name in staff:\n",
    "    department_workers[dep] += [name]\n",
    "    \n",
    "for dep, worker in sorted(department_workers.items()):\n",
    "    print(f'{dep}: {len(worker)}')"
   ]
  },
  {
   "cell_type": "code",
   "execution_count": 26,
   "metadata": {},
   "outputs": [
    {
     "name": "stdout",
     "output_type": "stream",
     "text": [
      "Accounting: Aaron Ferguson, Ann Bell, Brenda Davis, Casey Jenkins, Craig Wood, Dale Houston, Edna Cunningham, Gloria Higgins, James Wilkins, Jane Jackson, John Watts, Kay Scott, Kimberly Reynolds, Linda Hudson, Michelle Wright, Rosemary Garcia, Steven Diaz\n",
      "Developing: Arlene Gibson, Deborah George, Joyce Rivera, Miguel Norris, Nicole Watts, Thomas Porter, Wilma Woods\n",
      "Marketing: Andrew Clark, Bernice Ramos, Billy Lloyd, Carol Peters, Charles Bailey, Gail Hill, Helen Taylor, John Gonzalez, Joyce Lawrence, Mario Reynolds, Mary King, Ralph Morgan, Sam Davis\n",
      "Sales: Alicia Mendoza, Charlotte Cox, Chester Fernandez, Connie Reid, Evelyn Martin, Gladys Taylor, John Washington, John White, Jose Taylor, Joseph Lee, Katie Warner, Marie Cooper, Robert Barnes\n"
     ]
    }
   ],
   "source": [
    "from collections import defaultdict\n",
    "\n",
    "staff_broken = [('Developing', 'Miguel Norris'), ('Sales', 'Connie Reid'), ('Sales', 'Joseph Lee'), ('Marketing', 'Carol Peters'), ('Accounting', 'Linda Hudson'), ('Accounting', 'Ann Bell'), ('Marketing', 'Ralph Morgan'), ('Accounting', 'Gloria Higgins'), ('Developing', 'Wilma Woods'), ('Developing', 'Wilma Woods'), ('Marketing', 'Bernice Ramos'), ('Marketing', 'Joyce Lawrence'), ('Accounting', 'Craig Wood'), ('Developing', 'Nicole Watts'), ('Sales', 'Jose Taylor'), ('Accounting', 'Linda Hudson'), ('Accounting', 'Edna Cunningham'), ('Sales', 'Jose Taylor'), ('Marketing', 'Helen Taylor'), ('Accounting', 'Kimberly Reynolds'), ('Marketing', 'Mary King'), ('Sales', 'Joseph Lee'), ('Accounting', 'Gloria Higgins'), ('Marketing', 'Andrew Clark'), ('Accounting', 'John Watts'), ('Accounting', 'Rosemary Garcia'), ('Accounting', 'Steven Diaz'), ('Marketing', 'Mary King'), ('Sales', 'Gladys Taylor'), ('Developing', 'Thomas Porter'), ('Accounting', 'Brenda Davis'), ('Sales', 'Connie Reid'), ('Sales', 'Alicia Mendoza'), ('Marketing', 'Mario Reynolds'), ('Sales', 'John White'), ('Developing', 'Joyce Rivera'), ('Accounting', 'Steven Diaz'), ('Developing', 'Arlene Gibson'), ('Sales', 'Robert Barnes'), ('Sales', 'Charlotte Cox'), ('Accounting', 'Craig Wood'), ('Marketing', 'Carol Peters'), ('Marketing', 'Ralph Morgan'), ('Accounting', 'Kay Scott'), ('Sales', 'Evelyn Martin'), ('Marketing', 'Billy Lloyd'), ('Sales', 'Gladys Taylor'), ('Developing', 'Deborah George'), ('Sales', 'Charlotte Cox'), ('Marketing', 'Sam Davis'), ('Sales', 'John White'), ('Sales', 'Marie Cooper'), ('Marketing', 'John Gonzalez'), ('Sales', 'John Washington'), ('Sales', 'Chester Fernandez'), ('Sales', 'Alicia Mendoza'), ('Sales', 'Katie Warner'), ('Accounting', 'Jane Jackson'), ('Sales', 'Chester Fernandez'), ('Marketing', 'Charles Bailey'), ('Marketing', 'Gail Hill'), ('Accounting', 'Casey Jenkins'), ('Accounting', 'James Wilkins'), ('Accounting', 'Casey Jenkins'), ('Marketing', 'Mario Reynolds'), ('Accounting', 'Aaron Ferguson'), ('Accounting', 'Kimberly Reynolds'), ('Sales', 'Robert Barnes'), ('Accounting', 'Aaron Ferguson'), ('Accounting', 'Jane Jackson'), ('Developing', 'Deborah George'), ('Accounting', 'Michelle Wright'), ('Accounting', 'Dale Houston')]\n",
    "\n",
    "department_workers = defaultdict(list)\n",
    "\n",
    "for dep, name in staff_broken:\n",
    "    department_workers[dep] += [name]\n",
    "    \n",
    "for dep, worker in sorted(department_workers.items()):\n",
    "    worker_list = sorted(set(worker))\n",
    "    worker_str = ', '.join(worker_list)\n",
    "    print(f'{dep}: {worker_str}')\n"
   ]
  },
  {
   "cell_type": "code",
   "execution_count": 45,
   "metadata": {},
   "outputs": [
    {
     "name": "stdout",
     "output_type": "stream",
     "text": [
      "Артур -> Анри Тимур\n",
      "Дима -> Артур\n"
     ]
    }
   ],
   "source": [
    "from collections import defaultdict\n",
    "\n",
    "def wins(pairs):\n",
    "    done = defaultdict(set)\n",
    "    for pair in pairs:\n",
    "        winner = pair[0]\n",
    "        loser = pair[1]\n",
    "        done[winner].add(loser)\n",
    "    return done\n",
    "    \n",
    "result = wins([('Артур', 'Тимур'), ('Артур', 'Тимур'), ('Артур', 'Анри'), ('Дима', 'Артур')])\n",
    "\n",
    "for winner, losers in sorted(result.items()):\n",
    "    print(winner, '->', *sorted(losers))"
   ]
  },
  {
   "cell_type": "code",
   "execution_count": 46,
   "metadata": {},
   "outputs": [
    {
     "name": "stdout",
     "output_type": "stream",
     "text": [
      "cacao: Arthur\n",
      "tea: Arthur, Timur\n",
      "juice: Arthur, Timur, Anri\n",
      "coffee: Timur, Anri\n"
     ]
    }
   ],
   "source": [
    "from collections import defaultdict\n",
    "\n",
    "def flip_dict(dict_of_lists):\n",
    "    flipped_dict = defaultdict(list)\n",
    "    \n",
    "    for key, values in dict_of_lists.items():\n",
    "        for value in values:\n",
    "            flipped_dict[value].append(key)\n",
    "    \n",
    "    return flipped_dict\n",
    "\n",
    "\n",
    "data = {'Arthur': ['cacao', 'tea', 'juice'], 'Timur': ['coffee', 'tea', 'juice'], 'Anri': ['juice', 'coffee']}\n",
    "\n",
    "for key, values in flip_dict(data).items():\n",
    "    print(f'{key}: {\", \".join(values)}')"
   ]
  },
  {
   "cell_type": "code",
   "execution_count": 54,
   "metadata": {},
   "outputs": [
    {
     "name": "stdout",
     "output_type": "stream",
     "text": [
      "Sam Fisher\n"
     ]
    }
   ],
   "source": [
    "from collections import defaultdict\n",
    "\n",
    "def best_sender(messages, senders):\n",
    "    word_count = defaultdict(int)\n",
    "    max_count = 0\n",
    "    max_senders = []\n",
    "\n",
    "    for i in range(len(messages)):\n",
    "        sender = senders[i]\n",
    "        message = messages[i]\n",
    "        words = message.split()\n",
    "        count = len(words)\n",
    "        word_count[sender] += count\n",
    "        if word_count[sender] > max_count:\n",
    "            max_count = word_count[sender]\n",
    "            max_senders = [sender]\n",
    "        elif word_count[sender] == max_count:\n",
    "            max_senders.append(sender)\n",
    "\n",
    "    max_senders.sort(reverse=True)  \n",
    "\n",
    "    return max_senders[0]\n",
    "    \n",
    "messages = ['Hi, Linda', 'Hi, Sam', 'How are you doing?']\n",
    "senders = ['Sam Fisher', 'Linda', 'Sam Fisher']\n",
    "\n",
    "print(best_sender(messages, senders))"
   ]
  },
  {
   "cell_type": "code",
   "execution_count": 55,
   "metadata": {},
   "outputs": [
    {
     "name": "stdout",
     "output_type": "stream",
     "text": [
      "Dima Timur Arthur Anri\n"
     ]
    }
   ],
   "source": [
    "from collections import OrderedDict\n",
    "\n",
    "grades = OrderedDict(Timur=100, Arthur=84, Anri=94, Dima=98)\n",
    "new_grades = OrderedDict()\n",
    "\n",
    "for rule in (True, False, False, True):\n",
    "    name, grade = grades.popitem(last=rule)\n",
    "    new_grades[name] = grade\n",
    "    \n",
    "print(*new_grades)"
   ]
  },
  {
   "cell_type": "code",
   "execution_count": 57,
   "metadata": {},
   "outputs": [
    {
     "name": "stdout",
     "output_type": "stream",
     "text": [
      "OrderedDict([('Name', 'Брусника'), ('SeatsCount', '10'), ('IsNetObject', 'да'), ('Address', 'город Москва, переулок Сивцев Вражек, дом 6/2'), ('OperatingCompany', 'Брусника'), ('District', 'район Арбат'), ('TypeObject', 'кафе'), ('AdmArea', 'Центральный административный округ')])\n"
     ]
    }
   ],
   "source": [
    "from collections import OrderedDict\n",
    "\n",
    "data = OrderedDict({'Name': 'Брусника', 'IsNetObject': 'да', 'OperatingCompany': 'Брусника', 'TypeObject': 'кафе', 'AdmArea': 'Центральный административный округ', 'District': 'район Арбат', 'Address': 'город Москва, переулок Сивцев Вражек, дом 6/2', 'SeatsCount': '10'})\n",
    "\n",
    "keys = list(data.keys())\n",
    "values = list(data.values())\n",
    "\n",
    "new_data = OrderedDict()\n",
    "\n",
    "for i in range(len(data)):\n",
    "    if i % 2 == 0:\n",
    "        key, value = data.popitem(last=False)\n",
    "        new_data[key] = value\n",
    "    else:\n",
    "        key, value = data.popitem(last=True)\n",
    "        new_data[key] = value\n",
    "\n",
    "print(new_data)"
   ]
  },
  {
   "cell_type": "code",
   "execution_count": 58,
   "metadata": {},
   "outputs": [
    {
     "name": "stdout",
     "output_type": "stream",
     "text": [
      "OrderedDict([('Anabel', 17), ('Brian', 40), ('Carol', 16), ('Dustin', 29)])\n"
     ]
    }
   ],
   "source": [
    "from collections import OrderedDict\n",
    "\n",
    "def custom_sort(ordered_dict, by_values=False):\n",
    "    if by_values:\n",
    "        ordered_dict_sorted = OrderedDict(sorted(ordered_dict.items(), key=lambda item: item[1]))\n",
    "    else:\n",
    "        ordered_dict_sorted = OrderedDict(sorted(ordered_dict.items(), key=lambda item: item[0]))\n",
    "    ordered_dict.clear()\n",
    "    ordered_dict.update(ordered_dict_sorted)\n",
    "\n",
    "\n",
    "data = OrderedDict(Dustin=29, Anabel=17, Brian=40, Carol=16)\n",
    "custom_sort(data)\n",
    "\n",
    "print(data)"
   ]
  },
  {
   "cell_type": "code",
   "execution_count": 2,
   "metadata": {},
   "outputs": [
    {
     "data": {
      "text/plain": [
       "{' ', 'H', 'e', 'h', 'l', 'o', 'r', 't'}"
      ]
     },
     "execution_count": 2,
     "metadata": {},
     "output_type": "execute_result"
    }
   ],
   "source": []
  },
  {
   "cell_type": "code",
   "execution_count": null,
   "metadata": {},
   "outputs": [],
   "source": []
  }
 ],
 "metadata": {
  "kernelspec": {
   "display_name": ".venv",
   "language": "python",
   "name": "python3"
  },
  "language_info": {
   "codemirror_mode": {
    "name": "ipython",
    "version": 3
   },
   "file_extension": ".py",
   "mimetype": "text/x-python",
   "name": "python",
   "nbconvert_exporter": "python",
   "pygments_lexer": "ipython3",
   "version": "3.11.2"
  }
 },
 "nbformat": 4,
 "nbformat_minor": 2
}
