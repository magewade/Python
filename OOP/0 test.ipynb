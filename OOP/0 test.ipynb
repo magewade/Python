{
 "cells": [
  {
   "cell_type": "code",
   "execution_count": 1,
   "metadata": {},
   "outputs": [
    {
     "name": "stdout",
     "output_type": "stream",
     "text": [
      "-> fib(4)\n",
      "    -> fib(3)\n",
      "        -> fib(2)\n",
      "        <- 1\n",
      "        -> fib(1)\n",
      "        <- 1\n",
      "    <- 2\n",
      "    -> fib(2)\n",
      "    <- 1\n",
      "<- 3\n",
      "-> fact(5)\n",
      "    -> fact(4)\n",
      "        -> fact(3)\n",
      "            -> fact(2)\n",
      "                -> fact(1)\n",
      "                    -> fact(0)\n",
      "                    <- 1\n",
      "                <- 1\n",
      "            <- 2\n",
      "        <- 6\n",
      "    <- 24\n",
      "<- 120\n"
     ]
    },
    {
     "data": {
      "text/plain": [
       "120"
      ]
     },
     "execution_count": 1,
     "metadata": {},
     "output_type": "execute_result"
    }
   ],
   "source": [
    "import functools\n",
    "\n",
    "\n",
    "def recviz(func):\n",
    "    level = -1\n",
    "\n",
    "    @functools.wraps(func)\n",
    "    def wrapper(*args, **kwargs):\n",
    "        nonlocal level\n",
    "        level += 1\n",
    "\n",
    "        pos_args = list(map(repr, args))\n",
    "        keyword_args = [f'{k}={v!r}' for k, v in kwargs.items()]\n",
    "\n",
    "        print('    ' * level + '->', f'{func.__name__}({\", \".join(pos_args + keyword_args)})')\n",
    "        value = func(*args, **kwargs)\n",
    "        print('    ' * level + '<-', repr(value))\n",
    "\n",
    "        level -= 1\n",
    "        return value\n",
    "\n",
    "    return wrapper\n",
    "\n",
    "@recviz\n",
    "def fib(n):\n",
    "    if n <= 2:\n",
    "        return 1\n",
    "    else:\n",
    "        return fib(n - 1) + fib(n - 2)\n",
    "        \n",
    "fib(4)\n",
    "\n",
    "\n",
    "@recviz\n",
    "def fact(n):\n",
    "    if n == 0:\n",
    "        return 1\n",
    "    else:\n",
    "        return n*fact(n-1)\n",
    "        \n",
    "fact(5)"
   ]
  },
  {
   "cell_type": "code",
   "execution_count": null,
   "metadata": {},
   "outputs": [],
   "source": []
  }
 ],
 "metadata": {
  "kernelspec": {
   "display_name": ".venv",
   "language": "python",
   "name": "python3"
  },
  "language_info": {
   "codemirror_mode": {
    "name": "ipython",
    "version": 3
   },
   "file_extension": ".py",
   "mimetype": "text/x-python",
   "name": "python",
   "nbconvert_exporter": "python",
   "pygments_lexer": "ipython3",
   "version": "3.11.2"
  }
 },
 "nbformat": 4,
 "nbformat_minor": 2
}
