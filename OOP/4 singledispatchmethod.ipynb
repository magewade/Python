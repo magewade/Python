{
 "cells": [
  {
   "cell_type": "code",
   "execution_count": 1,
   "metadata": {},
   "outputs": [
    {
     "name": "stdout",
     "output_type": "stream",
     "text": [
      "yellow\n",
      "black, white\n"
     ]
    }
   ],
   "source": [
    "from functools import singledispatchmethod\n",
    "\n",
    "\n",
    "class ElectricCar:\n",
    "    @singledispatchmethod\n",
    "    def __init__(self, color):\n",
    "        self.color = color\n",
    "    \n",
    "    @__init__.register(list)\n",
    "    def _multiple_colors(self, color):\n",
    "        self.color = ', '.join(color)\n",
    "\n",
    "\n",
    "car1 = ElectricCar('yellow')\n",
    "car2 = ElectricCar(['black', 'white'])\n",
    "\n",
    "print(car1.color)\n",
    "print(car2.color)"
   ]
  },
  {
   "cell_type": "code",
   "execution_count": 2,
   "metadata": {},
   "outputs": [
    {
     "name": "stdout",
     "output_type": "stream",
     "text": [
      "black Elon\n",
      "black, white Gvido\n",
      "black, white, yellow Hideo\n"
     ]
    }
   ],
   "source": [
    "from functools import singledispatchmethod\n",
    "\n",
    "\n",
    "class ElectricCar:\n",
    "    @singledispatchmethod\n",
    "    def __init__(self, color, owner):\n",
    "        self.color = color\n",
    "        self.owner = owner\n",
    "    \n",
    "    @__init__.register(tuple)\n",
    "    @__init__.register(list)\n",
    "    def _multiple_colors(self, color, owner):\n",
    "        self.color = ', '.join(color)\n",
    "        self.owner = owner\n",
    "\n",
    "\n",
    "car1 = ElectricCar('black', 'Elon')\n",
    "car2 = ElectricCar(['black', 'white'], 'Gvido')\n",
    "car3 = ElectricCar(('black', 'white', 'yellow'), 'Hideo')\n",
    "\n",
    "print(car1.color, car1.owner)\n",
    "print(car2.color, car2.owner)\n",
    "print(car3.color, car3.owner)"
   ]
  },
  {
   "cell_type": "code",
   "execution_count": null,
   "metadata": {},
   "outputs": [],
   "source": []
  }
 ],
 "metadata": {
  "kernelspec": {
   "display_name": ".venv",
   "language": "python",
   "name": "python3"
  },
  "language_info": {
   "codemirror_mode": {
    "name": "ipython",
    "version": 3
   },
   "file_extension": ".py",
   "mimetype": "text/x-python",
   "name": "python",
   "nbconvert_exporter": "python",
   "pygments_lexer": "ipython3",
   "version": "3.11.2"
  }
 },
 "nbformat": 4,
 "nbformat_minor": 2
}
