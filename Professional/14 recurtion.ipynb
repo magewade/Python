{
 "cells": [
  {
   "cell_type": "code",
   "execution_count": 1,
   "metadata": {},
   "outputs": [
    {
     "name": "stdout",
     "output_type": "stream",
     "text": [
      "bee\n",
      "6\n",
      "5\n",
      "4\n"
     ]
    }
   ],
   "source": [
    "def bee(n):\n",
    "    if n >= 7:\n",
    "        print('bee')\n",
    "    else:\n",
    "        bee(n + 1)\n",
    "        print(n)\n",
    "        \n",
    "bee(4)"
   ]
  },
  {
   "cell_type": "code",
   "execution_count": 3,
   "metadata": {},
   "outputs": [
    {
     "name": "stdout",
     "output_type": "stream",
     "text": [
      "1\n",
      "2\n",
      "3\n",
      "4\n",
      "5\n",
      "6\n",
      "7\n",
      "8\n",
      "9\n",
      "10\n"
     ]
    }
   ],
   "source": [
    "def numero(n):\n",
    "    if n >= 0:\n",
    "        numero(n - 1)\n",
    "        print(n)\n",
    "\n",
    "numero(10)"
   ]
  },
  {
   "cell_type": "code",
   "execution_count": 5,
   "metadata": {},
   "outputs": [
    {
     "name": "stdout",
     "output_type": "stream",
     "text": [
      "Элемент 0: 243\n",
      "Элемент 1: -279\n",
      "Элемент 2: 395\n",
      "Элемент 3: 130\n",
      "Элемент 4: 89\n",
      "Элемент 5: 269\n",
      "Элемент 6: 861\n",
      "Элемент 7: 669\n",
      "Элемент 8: 939\n",
      "Элемент 9: 367\n",
      "Элемент 10: -46\n",
      "Элемент 11: 710\n",
      "Элемент 12: 841\n",
      "Элемент 13: -280\n",
      "Элемент 14: -244\n",
      "Элемент 15: 274\n",
      "Элемент 16: -132\n",
      "Элемент 17: 273\n",
      "Элемент 18: 418\n",
      "Элемент 19: 432\n",
      "Элемент 20: -341\n",
      "Элемент 21: 437\n",
      "Элемент 22: 360\n",
      "Элемент 23: 960\n",
      "Элемент 24: 195\n",
      "Элемент 25: 792\n",
      "Элемент 26: 106\n",
      "Элемент 27: 461\n",
      "Элемент 28: -35\n",
      "Элемент 29: 980\n",
      "Элемент 30: -80\n",
      "Элемент 31: 540\n",
      "Элемент 32: -358\n",
      "Элемент 33: 69\n",
      "Элемент 34: -26\n",
      "Элемент 35: -416\n",
      "Элемент 36: 597\n",
      "Элемент 37: 96\n",
      "Элемент 38: 533\n",
      "Элемент 39: 232\n",
      "Элемент 40: 755\n",
      "Элемент 41: 894\n",
      "Элемент 42: 331\n",
      "Элемент 43: 323\n",
      "Элемент 44: -383\n",
      "Элемент 45: -386\n",
      "Элемент 46: 231\n",
      "Элемент 47: 436\n",
      "Элемент 48: 553\n",
      "Элемент 49: 967\n",
      "Элемент 50: 166\n",
      "Элемент 51: -151\n",
      "Элемент 52: 772\n",
      "Элемент 53: 434\n",
      "Элемент 54: 325\n",
      "Элемент 55: 301\n",
      "Элемент 56: 275\n",
      "Элемент 57: 431\n",
      "Элемент 58: 556\n",
      "Элемент 59: 728\n",
      "Элемент 60: 558\n",
      "Элемент 61: 702\n",
      "Элемент 62: 463\n",
      "Элемент 63: 127\n",
      "Элемент 64: 984\n",
      "Элемент 65: 212\n",
      "Элемент 66: 876\n",
      "Элемент 67: -287\n",
      "Элемент 68: -16\n",
      "Элемент 69: -177\n",
      "Элемент 70: 577\n",
      "Элемент 71: 604\n",
      "Элемент 72: 116\n",
      "Элемент 73: 500\n",
      "Элемент 74: 653\n",
      "Элемент 75: 669\n",
      "Элемент 76: 916\n",
      "Элемент 77: 802\n",
      "Элемент 78: 817\n",
      "Элемент 79: 762\n",
      "Элемент 80: -210\n",
      "Элемент 81: -353\n",
      "Элемент 82: 144\n",
      "Элемент 83: -351\n",
      "Элемент 84: 777\n",
      "Элемент 85: 805\n",
      "Элемент 86: 692\n",
      "Элемент 87: 22\n",
      "Элемент 88: -303\n",
      "Элемент 89: 249\n",
      "Элемент 90: 190\n",
      "Элемент 91: 411\n",
      "Элемент 92: 236\n",
      "Элемент 93: -274\n",
      "Элемент 94: 174\n",
      "Элемент 95: 380\n",
      "Элемент 96: 71\n",
      "Элемент 97: 124\n",
      "Элемент 98: -85\n",
      "Элемент 99: 430\n"
     ]
    }
   ],
   "source": [
    "numbers = [243, -279, 395, 130, 89, 269, 861, 669, 939, 367, -46, 710, 841, -280, -244, 274, -132, 273, 418, 432, -341, 437, 360, 960, 195, 792, 106, 461, -35, 980, -80, 540, -358, 69, -26, -416, 597, 96, 533, 232, 755, 894, 331, 323, -383, -386, 231, 436, 553, 967, 166, -151, 772, 434, 325, 301, 275, 431, 556, 728, 558, 702, 463, 127, 984, 212, 876, -287, -16, -177, 577, 604, 116, 500, 653, 669, 916, 802, 817, 762, -210, -353, 144, -351, 777, 805, 692, 22, -303, 249, 190, 411, 236, -274, 174, 380, 71, 124, -85, 430]\n",
    "\n",
    "m = len(numbers)\n",
    "n = 0\n",
    "    \n",
    "def numero(n):\n",
    "    if n < m:\n",
    "        print(f'Элемент {n}: {numbers[n]}')\n",
    "        numero(n + 1)\n",
    "\n",
    "numero(n)"
   ]
  },
  {
   "cell_type": "code",
   "execution_count": 6,
   "metadata": {},
   "outputs": [
    {
     "name": "stdout",
     "output_type": "stream",
     "text": [
      "4\n",
      "3\n",
      "2\n",
      "1\n"
     ]
    }
   ],
   "source": [
    "def num(n = int(input())):\n",
    "    if n != 0:\n",
    "        num(int(input()))\n",
    "    print(n)\n",
    "num()  "
   ]
  },
  {
   "cell_type": "code",
   "execution_count": 7,
   "metadata": {},
   "outputs": [
    {
     "name": "stdout",
     "output_type": "stream",
     "text": [
      "***\n",
      "**\n",
      "*\n"
     ]
    }
   ],
   "source": [
    "def triangle(n):\n",
    "    if n > 0:\n",
    "        print('*' * n)\n",
    "        triangle(n - 1)\n",
    "        \n",
    "triangle(3)"
   ]
  },
  {
   "cell_type": "code",
   "execution_count": 10,
   "metadata": {},
   "outputs": [
    {
     "name": "stdout",
     "output_type": "stream",
     "text": [
      "*\n",
      "**\n",
      "***\n",
      "****\n",
      "*****\n"
     ]
    }
   ],
   "source": [
    "def triangle(h):\n",
    "    if h > 0:\n",
    "        triangle(h - 1)\n",
    "        print('*' * (h))\n",
    "        \n",
    "triangle(5)"
   ]
  },
  {
   "cell_type": "code",
   "execution_count": 57,
   "metadata": {},
   "outputs": [
    {
     "name": "stdout",
     "output_type": "stream",
     "text": [
      "1111111111111111\n",
      "  222222222222  \n",
      "    33333333    \n",
      "      4444      \n",
      "    33333333    \n",
      "  222222222222  \n",
      "1111111111111111\n"
     ]
    }
   ],
   "source": [
    "def triangle_1(n, m):\n",
    "    if n >= 1:\n",
    "        triangle_1(n - 1, m + 4)\n",
    "        print(f'{str(n) * m:^16}')\n",
    "        \n",
    "def triangle_2(n, m):\n",
    "    if n == 4:\n",
    "        triangle_2(n - 1, m + 4)\n",
    "    elif n >= 1:\n",
    "        print(f'{str(n) * m:^16}')\n",
    "        triangle_2(n - 1, m + 4)\n",
    "        \n",
    "triangle_1(4, 4)\n",
    "triangle_2(4, 4)\n"
   ]
  },
  {
   "cell_type": "code",
   "execution_count": 58,
   "metadata": {},
   "outputs": [
    {
     "name": "stdout",
     "output_type": "stream",
     "text": [
      "1111111111111111\n",
      "  222222222222  \n",
      "    33333333    \n",
      "      4444      \n",
      "    33333333    \n",
      "  222222222222  \n",
      "1111111111111111\n"
     ]
    }
   ],
   "source": [
    "def my_f(i=16, j=1) -> str:\n",
    "    if j < 4:\n",
    "        print(f'{str(j) * i:^16s}')\n",
    "        my_f(i - 4, j + 1)\n",
    "    print(f'{str(j) * i:^16s}')\n",
    "\n",
    "\n",
    "my_f()"
   ]
  },
  {
   "cell_type": "code",
   "execution_count": 64,
   "metadata": {},
   "outputs": [
    {
     "name": "stdout",
     "output_type": "stream",
     "text": [
      "1\n",
      "2\n",
      "3\n"
     ]
    }
   ],
   "source": [
    "def print_digits(number):\n",
    "    number = str(number)\n",
    "    if len(number) > 0:\n",
    "        print_digits(number[:-1])\n",
    "        print(number[-1])\n",
    "\n",
    "\n",
    "print_digits(123)"
   ]
  },
  {
   "cell_type": "code",
   "execution_count": null,
   "metadata": {},
   "outputs": [],
   "source": [
    "def count_digits(n):\n",
    "    # Базовый случай: если число меньше 10, то оно состоит из одной цифры\n",
    "    if n < 10:\n",
    "        return 1\n",
    "    # Рекурсивный случай: число состоит из одной цифры и суммы цифр в его остатке\n",
    "    else:\n",
    "        return 1 + count_digits(n // 10)\n",
    "\n",
    "# Ввод числа с клавиатуры\n",
    "n = int(input())\n",
    "# Вызов функции и вывод результата\n",
    "print(count_digits(n))\n"
   ]
  },
  {
   "cell_type": "code",
   "execution_count": 6,
   "metadata": {},
   "outputs": [
    {
     "data": {
      "text/plain": [
       "9"
      ]
     },
     "execution_count": 6,
     "metadata": {},
     "output_type": "execute_result"
    }
   ],
   "source": [
    "def summary(n):\n",
    "    if n < 10:\n",
    "        return n\n",
    "    else:\n",
    "        return n % 10 + summary(n // 10)\n",
    "    \n",
    "summary(27)"
   ]
  },
  {
   "cell_type": "code",
   "execution_count": 9,
   "metadata": {},
   "outputs": [
    {
     "name": "stdout",
     "output_type": "stream",
     "text": [
      "141\n"
     ]
    }
   ],
   "source": [
    "def number_of_frogs(year):\n",
    "    # Базовый случай: первый год\n",
    "    if year == 1:\n",
    "        return 77\n",
    "    else:\n",
    "        # Рекурсивное правило: используем формулу\n",
    "        previous_year_frogs = number_of_frogs(year - 1)\n",
    "        return 3 * (previous_year_frogs - 30)\n",
    "\n",
    "# Пример использования:\n",
    "print(number_of_frogs(2))  # Выводит 141\n"
   ]
  },
  {
   "cell_type": "code",
   "execution_count": 10,
   "metadata": {},
   "outputs": [
    {
     "name": "stdout",
     "output_type": "stream",
     "text": [
      "30\n",
      "45\n"
     ]
    }
   ],
   "source": [
    "def range_sum(numbers, start, end):\n",
    "    # Базовый случай: если start и end равны, возвращаем numbers[start]\n",
    "    if start == end:\n",
    "        return numbers[start]\n",
    "    else:\n",
    "        # Рекурсивное правило: суммируем текущий элемент и рекурсивный вызов для следующего элемента\n",
    "        return numbers[start] + range_sum(numbers, start + 1, end)\n",
    "\n",
    "# Примеры использования:\n",
    "print(range_sum([1, 2, 3, 4, 5, 6, 7, 8, 9], 3, 7))  # Выводит 30\n",
    "print(range_sum([1, 2, 3, 4, 5, 6, 7, 8, 9], 0, 8))  # Выводит 45\n"
   ]
  },
  {
   "cell_type": "code",
   "execution_count": 12,
   "metadata": {},
   "outputs": [
    {
     "data": {
      "text/plain": [
       "25"
      ]
     },
     "execution_count": 12,
     "metadata": {},
     "output_type": "execute_result"
    }
   ],
   "source": [
    "def get_pow(a, n):\n",
    "    if n == 1:\n",
    "        return a\n",
    "    else:\n",
    "        return a * pow(a, n - 1)\n",
    "    \n",
    "get_pow(5, 2)"
   ]
  },
  {
   "cell_type": "code",
   "execution_count": 13,
   "metadata": {},
   "outputs": [
    {
     "name": "stdout",
     "output_type": "stream",
     "text": [
      "1024\n"
     ]
    }
   ],
   "source": [
    "def get_fast_pow(a, n):\n",
    "    # Базовый случай: a^0 = 1\n",
    "    if n == 0:\n",
    "        return 1\n",
    "    # Если n четное, используем рекуррентное соотношение для четных n\n",
    "    elif n % 2 == 0:\n",
    "        half_pow = get_fast_pow(a, n // 2)\n",
    "        return half_pow * half_pow\n",
    "    # Если n нечетное, используем рекуррентное соотношение для нечетных n\n",
    "    else:\n",
    "        return a * get_fast_pow(a, n - 1)\n",
    "\n",
    "# Пример использования:\n",
    "print(get_fast_pow(2, 10))  # Выводит 1024\n"
   ]
  },
  {
   "cell_type": "code",
   "execution_count": 15,
   "metadata": {},
   "outputs": [
    {
     "data": {
      "text/plain": [
       "7"
      ]
     },
     "execution_count": 15,
     "metadata": {},
     "output_type": "execute_result"
    }
   ],
   "source": [
    "def recursive_sum(a, b):\n",
    "    if a == 0:\n",
    "        return b\n",
    "    else:\n",
    "        return recursive_sum(a - 1, b + 1)\n",
    "    \n",
    "recursive_sum(2, 5)"
   ]
  },
  {
   "cell_type": "code",
   "execution_count": null,
   "metadata": {},
   "outputs": [],
   "source": [
    "def is_power(number):\n",
    "    # Базовый случай: если number стало равным 1, значит, это степень 2\n",
    "    if number == 1:\n",
    "        return True\n",
    "    # Если number нечетное или меньше 1, это не степень 2\n",
    "    if number % 2 != 0 or number < 1:\n",
    "        return False\n",
    "    # Рекурсивное правило: делим number на 2\n",
    "    return is_power(number // 2)\n",
    "\n",
    "# Пример использования:\n",
    "print(is_power(512))  # Выводит True\n"
   ]
  },
  {
   "cell_type": "code",
   "execution_count": 31,
   "metadata": {},
   "outputs": [
    {
     "name": "stdout",
     "output_type": "stream",
     "text": [
      "1\n",
      "17\n",
      "3\n"
     ]
    }
   ],
   "source": [
    "def tribonacci(n, memo={0: 0, 1: 1, 2: 1, 3: 1}):\n",
    "    if n in memo:\n",
    "        return memo[n]\n",
    "    else:\n",
    "        result = tribonacci(n - 1, memo) + tribonacci(n - 2, memo) + tribonacci(n - 3, memo)\n",
    "        memo[n] = result\n",
    "        return result\n",
    "\n",
    "\n",
    "# Примеры использования функции:\n",
    "print(tribonacci(1))  # Должно вывести: 1\n",
    "print(tribonacci(7))  # Должно вывести: 24\n",
    "print(tribonacci(4))  # Должно вывести: 4\n"
   ]
  },
  {
   "cell_type": "code",
   "execution_count": 32,
   "metadata": {},
   "outputs": [],
   "source": [
    "def is_palindrome(string):\n",
    "    # Уберем пробелы и приведем строку к нижнему регистру\n",
    "    string = string.replace(\" \", \"\").lower()\n",
    "    \n",
    "    # Базовый случай: если длина строки меньше или равна 1, она является палиндромом\n",
    "    if len(string) <= 1:\n",
    "        return True\n",
    "\n",
    "    # Если первый и последний символы совпадают, рекурсивно проверяем внутреннюю часть строки\n",
    "    if string[0] == string[-1]:\n",
    "        return is_palindrome(string[1:-1])\n",
    "    else:\n",
    "        return False\n"
   ]
  },
  {
   "cell_type": "code",
   "execution_count": 33,
   "metadata": {},
   "outputs": [],
   "source": [
    "def to_binary(number):\n",
    "    # Базовый случай: если число равно 0, вернем '0'\n",
    "    if number == 0:\n",
    "        return '0'\n",
    "    # Базовый случай: если число равно 1, вернем '1'\n",
    "    if number == 1:\n",
    "        return '1'\n",
    "    # Рекурсивно вызываем функцию для number // 2 и добавляем остаток от деления\n",
    "    return to_binary(number // 2) + str(number % 2)\n"
   ]
  },
  {
   "cell_type": "code",
   "execution_count": 36,
   "metadata": {},
   "outputs": [
    {
     "name": "stdout",
     "output_type": "stream",
     "text": [
      "24\n",
      "0\n"
     ]
    }
   ],
   "source": [
    "def recursive_sum(nested_lists):\n",
    "    total_sum = 0\n",
    "\n",
    "    # Проходим по элементам в списке\n",
    "    for item in nested_lists:\n",
    "        if isinstance(item, list):\n",
    "            # Если элемент является списком, вызываем функцию рекурсивно\n",
    "            total_sum += recursive_sum(item)\n",
    "        elif isinstance(item, int):\n",
    "            # Если элемент является целым числом, добавляем его к сумме\n",
    "            total_sum += item\n",
    "\n",
    "    return total_sum\n",
    "\n",
    "# Примеры использования\n",
    "my_list1 = [1, [4, 4], 2, [1, [2, 10]]]\n",
    "print(recursive_sum(my_list1))  # Вывод: 24\n",
    "\n",
    "my_list2 = []\n",
    "print(recursive_sum(my_list2))  # Вывод: 0\n"
   ]
  },
  {
   "cell_type": "code",
   "execution_count": 39,
   "metadata": {},
   "outputs": [
    {
     "name": "stdout",
     "output_type": "stream",
     "text": [
      "[1, 4, 4, 2, 1, 2, 10]\n"
     ]
    }
   ],
   "source": [
    "def linear(nested_list):\n",
    "    result = []\n",
    "    for elem in nested_list:\n",
    "        if isinstance(elem, list):\n",
    "            result.extend(linear(elem))\n",
    "        else:\n",
    "            result.append(elem)\n",
    "    return result\n",
    "            \n",
    "my_list1 = [1, [4, 4], 2, [1, [2, 10]]]\n",
    "print(linear(my_list1))"
   ]
  },
  {
   "cell_type": "code",
   "execution_count": null,
   "metadata": {},
   "outputs": [],
   "source": [
    "def get_value(nested_dicts, key):\n",
    "    if key in nested_dicts:\n",
    "        return nested_dicts[key]\n",
    "    for value in nested_dicts.values():\n",
    "        if isinstance(value, dict):\n",
    "            result = get_value(value, key)\n",
    "            if result is not None:\n",
    "                return result\n",
    "\n",
    "# Примеры использования:\n",
    "data1 = {\n",
    "    'firstName': 'Тимур',\n",
    "    'lastName': 'Гуев',\n",
    "    'birthDate': {\n",
    "        'day': 10,\n",
    "        'month': 'October',\n",
    "        'year': 1993\n",
    "    },\n",
    "    'address': {\n",
    "        'streetAddress': 'Часовая 25, кв. 127',\n",
    "        'city': {\n",
    "            'region': 'Московская область',\n",
    "            'type': 'город',\n",
    "            'cityName': 'Москва'\n",
    "        },\n",
    "        'postalCode': '125315'\n",
    "    }\n",
    "}\n",
    "\n",
    "print(get_value(data1, 'cityName'))  # Вывод: 'Москва'\n",
    "\n",
    "data2 = {\n",
    "    'first_name': 'Alyson',\n",
    "    'last_name': 'Hannigan',\n",
    "    'birthday': {\n",
    "        'day': 24,\n",
    "        'month': 'March',\n",
    "        'year': 1974\n",
    "    }\n",
    "}\n",
    "\n",
    "print(get_value(data2, 'birthday'))  # Вывод: {'day': 24, 'month': 'March', 'year': 1974}\n"
   ]
  },
  {
   "cell_type": "code",
   "execution_count": null,
   "metadata": {},
   "outputs": [],
   "source": [
    "def get_all_values(nested_dicts, key):\n",
    "    result = set()\n",
    "    for k, v in nested_dicts.items():\n",
    "        if k == key:\n",
    "            result.add(v)\n",
    "        if isinstance(v, dict):\n",
    "            result.update(get_all_values(v, key))\n",
    "    return result\n",
    "\n",
    "# Примеры использования:\n",
    "my_dict1 = {\n",
    "    'users': {\n",
    "        'Arthur': {'grades': [4, 4, 3], 'top_grade': 4},\n",
    "        'Timur': {'grades': [5, 5, 5], 'top_grade': 5}\n",
    "    }\n",
    "}\n",
    "result1 = get_all_values(my_dict1, 'top_grade')\n",
    "print(*sorted(result1))  # Вывод: 4 5\n",
    "\n",
    "my_dict2 = {\n",
    "    'Arthur': {'hobby': 'videogames', 'drink': 'cacao'},\n",
    "    'Timur': {'hobby': 'math'}\n",
    "}\n",
    "result2 = get_all_values(my_dict2, 'hobby')\n",
    "print(*sorted(result2))  # Вывод: math videogames\n",
    "\n",
    "my_dict3 = {\n",
    "    'Arthur': {'hobby': 'videogames', 'drink': 'cacao'},\n",
    "    'Timur': {'hobby': 'math'}\n",
    "}\n",
    "result3 = get_all_values(my_dict3, 'top_grade')\n",
    "print(len(sorted(result3)))  # Вывод: 0\n"
   ]
  },
  {
   "cell_type": "code",
   "execution_count": 41,
   "metadata": {},
   "outputs": [
    {
     "name": "stdout",
     "output_type": "stream",
     "text": [
      "a: 1\n",
      "b.a: 10\n",
      "b.b: 20\n",
      "b.c: 30\n",
      "a: 100\n",
      "b.a: 10\n",
      "b.b: 20\n",
      "b.c: 30\n",
      "d: 1\n",
      "b.a: 10\n",
      "b.b.d: 40\n",
      "b.b.e: 50\n",
      "b.c: 30\n"
     ]
    }
   ],
   "source": [
    "def dict_travel(nested_dicts, prefix=''):\n",
    "    for key, value in sorted(nested_dicts.items()):\n",
    "        if isinstance(value, dict):\n",
    "            new_prefix = prefix + key + '.'\n",
    "            dict_travel(value, new_prefix)\n",
    "        else:\n",
    "            print(f'{prefix}{key}: {value}')\n",
    "\n",
    "# Примеры использования:\n",
    "data1 = {'a': 1, 'b': {'c': 30, 'a': 10, 'b': 20}}\n",
    "dict_travel(data1)\n",
    "# Вывод:\n",
    "# a: 1\n",
    "# b.a: 10\n",
    "# b.b: 20\n",
    "# b.c: 30\n",
    "\n",
    "data2 = {'d': 1, 'b': {'c': 30, 'a': 10, 'b': 20}, 'a': 100}\n",
    "dict_travel(data2)\n",
    "# Вывод:\n",
    "# a: 100\n",
    "# b.a: 10\n",
    "# b.b: 20\n",
    "# b.c: 30\n",
    "# d: 1\n",
    "\n",
    "data3 = {'b': {'c': 30, 'a': 10, 'b': {'d': 40, 'e': 50}}}\n",
    "dict_travel(data3)\n",
    "# Вывод:\n",
    "# b.a: 10\n",
    "# b.b.d: 40\n",
    "# b.b.e: 50\n",
    "# b.c: 30\n"
   ]
  },
  {
   "cell_type": "code",
   "execution_count": 42,
   "metadata": {},
   "outputs": [
    {
     "name": "stdout",
     "output_type": "stream",
     "text": [
      "True\n",
      "True\n"
     ]
    }
   ],
   "source": []
  },
  {
   "cell_type": "code",
   "execution_count": null,
   "metadata": {},
   "outputs": [],
   "source": []
  }
 ],
 "metadata": {
  "kernelspec": {
   "display_name": ".venv",
   "language": "python",
   "name": "python3"
  },
  "language_info": {
   "codemirror_mode": {
    "name": "ipython",
    "version": 3
   },
   "file_extension": ".py",
   "mimetype": "text/x-python",
   "name": "python",
   "nbconvert_exporter": "python",
   "pygments_lexer": "ipython3",
   "version": "3.11.2"
  }
 },
 "nbformat": 4,
 "nbformat_minor": 2
}
