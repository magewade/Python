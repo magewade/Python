{
 "cells": [
  {
   "cell_type": "code",
   "execution_count": 1,
   "metadata": {},
   "outputs": [
    {
     "name": "stdout",
     "output_type": "stream",
     "text": [
      "10\n",
      "20\n"
     ]
    }
   ],
   "source": [
    "from functools import partial\n",
    "\n",
    "def add(a, b):\n",
    "    return a + b\n",
    "\n",
    "add_one = partial(add, 1)\n",
    "add_two = partial(add, 2)\n",
    "\n",
    "print(add_one(9))\n",
    "print(add_two(18))"
   ]
  },
  {
   "cell_type": "code",
   "execution_count": 3,
   "metadata": {},
   "outputs": [
    {
     "name": "stdout",
     "output_type": "stream",
     "text": [
      "beegeek, stepik, python\n"
     ]
    }
   ],
   "source": [
    "from functools import partial\n",
    "\n",
    "beegeek = partial(print, 'beegeek', sep=', ')\n",
    "\n",
    "beegeek('stepik', 'python')"
   ]
  },
  {
   "cell_type": "code",
   "execution_count": null,
   "metadata": {},
   "outputs": [],
   "source": [
    "from functools import lru_cache\n",
    "import sys\n",
    "\n",
    "@lru_cache(maxsize=None)\n",
    "def lex_order(word):\n",
    "    return ''.join(sorted(word))\n",
    "\n",
    "for line in sys.stdin:\n",
    "    word = line.strip()\n",
    "    result = lex_order(word)\n",
    "    print(result)\n"
   ]
  },
  {
   "cell_type": "code",
   "execution_count": null,
   "metadata": {},
   "outputs": [],
   "source": [
    "from functools import lru_cache\n",
    "\n",
    "@lru_cache(maxsize=None)\n",
    "def ways(n):\n",
    "    if n == 1:\n",
    "        return 1\n",
    "    if n == 2:\n",
    "        return 1\n",
    "    if n == 3:\n",
    "        return 1\n",
    "    if n == 4:\n",
    "        return 2\n",
    "    \n",
    "    return ways(n - 1) + ways(n - 3) + ways(n - 4)"
   ]
  },
  {
   "cell_type": "code",
   "execution_count": 13,
   "metadata": {},
   "outputs": [
    {
     "name": "stdout",
     "output_type": "stream",
     "text": [
      "-22\n"
     ]
    }
   ],
   "source": [
    "numbers = [100, 70, 34, 45, 30, 83, 12, 83, -28, 49, -8, -2, 6, 62, 64, -22, -19, 61, 13, 5, 80, -17, 7, 3, 21, 73, 88, -11, 16, -22]\n",
    "result = reversed(numbers)\n",
    "\n",
    "print(next(result))\n",
    "\n",
    "\n"
   ]
  },
  {
   "cell_type": "code",
   "execution_count": 1,
   "metadata": {},
   "outputs": [
    {
     "name": "stdout",
     "output_type": "stream",
     "text": [
      "0 False []\n",
      "1 2\n"
     ]
    }
   ],
   "source": [
    "def filterfalse(predicate, iterable):\n",
    "    if predicate is None:\n",
    "        predicate = bool\n",
    "    return filter(lambda x: not predicate(x), iterable)\n",
    "\n",
    "\n",
    "objects = [0, 1, True, False, 17, []]\n",
    "\n",
    "print(*filterfalse(None, objects))\n",
    "\n",
    "numbers = [1, 2, 3, 4, 5]\n",
    "\n",
    "print(*filterfalse(lambda x: x >= 3, numbers))"
   ]
  },
  {
   "cell_type": "code",
   "execution_count": 2,
   "metadata": {},
   "outputs": [
    {
     "name": "stdout",
     "output_type": "stream",
     "text": [
      "[1, 4, 7]\n",
      "[2, 5, 8]\n",
      "[3, 6, 9]\n"
     ]
    }
   ],
   "source": [
    "def transpose(matrix):\n",
    "    return [list(row) for row in zip(*matrix)]\n",
    "\n",
    "matrix = [[1, 2, 3],\n",
    "          [4, 5, 6],\n",
    "          [7, 8, 9]]\n",
    "\n",
    "for row in transpose(matrix):\n",
    "    print(row)"
   ]
  },
  {
   "cell_type": "code",
   "execution_count": 3,
   "metadata": {},
   "outputs": [
    {
     "name": "stdout",
     "output_type": "stream",
     "text": [
      "4 7 10\n"
     ]
    }
   ],
   "source": [
    "def starmap(func, iterable):\n",
    "    return map(lambda args: func(*args), iterable)\n",
    "\n",
    "\n",
    "pairs = [(1, 3), (2, 5), (6, 4)]\n",
    "\n",
    "print(*starmap(lambda a, b: a + b, pairs))"
   ]
  },
  {
   "cell_type": "code",
   "execution_count": 4,
   "metadata": {},
   "outputs": [
    {
     "name": "stdout",
     "output_type": "stream",
     "text": [
      "(0, 9)\n",
      "(1, 33)\n"
     ]
    }
   ],
   "source": [
    "def get_min_max(iterable):\n",
    "    try:\n",
    "        first_element = next(iter(iterable))\n",
    "    except StopIteration:\n",
    "        return None\n",
    "    \n",
    "    min_element = max_element = first_element\n",
    "\n",
    "    for element in iterable:\n",
    "        if element < min_element:\n",
    "            min_element = element\n",
    "        elif element > max_element:\n",
    "            max_element = element\n",
    "\n",
    "    return min_element, max_element\n",
    "\n",
    "\n",
    "iterable = iter(range(10))\n",
    "\n",
    "print(get_min_max(iterable))\n",
    "\n",
    "\n",
    "iterable = [6, 4, 2, 33, 19, 1]\n",
    "\n",
    "print(get_min_max(iterable))"
   ]
  },
  {
   "cell_type": "code",
   "execution_count": null,
   "metadata": {},
   "outputs": [],
   "source": []
  }
 ],
 "metadata": {
  "kernelspec": {
   "display_name": ".venv",
   "language": "python",
   "name": "python3"
  },
  "language_info": {
   "codemirror_mode": {
    "name": "ipython",
    "version": 3
   },
   "file_extension": ".py",
   "mimetype": "text/x-python",
   "name": "python",
   "nbconvert_exporter": "python",
   "pygments_lexer": "ipython3",
   "version": "3.11.2"
  }
 },
 "nbformat": 4,
 "nbformat_minor": 2
}
