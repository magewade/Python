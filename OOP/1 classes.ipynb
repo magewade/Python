{
 "cells": [
  {
   "cell_type": "code",
   "execution_count": 7,
   "metadata": {},
   "outputs": [
    {
     "name": "stdout",
     "output_type": "stream",
     "text": [
      "pif\n",
      "paf\n",
      "2\n",
      "0\n",
      "pif\n",
      "1\n"
     ]
    }
   ],
   "source": [
    "class Gun:\n",
    "    def __init__(self):\n",
    "        self.boom_counter = 1\n",
    "    def shoot(self):\n",
    "        if self.boom_counter % 2 != 0:\n",
    "            print('pif')\n",
    "            self.boom_counter += 1\n",
    "        else:\n",
    "            print('paf')\n",
    "            self.boom_counter += 1\n",
    "    def shots_count(self):\n",
    "        return (self.boom_counter - 1)\n",
    "    def shots_reset(self):\n",
    "        self.boom_counter = 1\n",
    "\n",
    "\n",
    "gun = Gun()\n",
    "\n",
    "gun.shoot()\n",
    "gun.shoot()\n",
    "print(gun.shots_count())\n",
    "gun.shots_reset()\n",
    "print(gun.shots_count())\n",
    "gun.shoot()\n",
    "print(gun.shots_count())"
   ]
  },
  {
   "cell_type": "code",
   "execution_count": 3,
   "metadata": {},
   "outputs": [
    {
     "name": "stdout",
     "output_type": "stream",
     "text": [
      "Весы в равновесии\n",
      "Левая чаша тяжелее\n"
     ]
    }
   ],
   "source": [
    "class Scales:\n",
    "    def __init__(self):\n",
    "        self.left_bowl = 0  \n",
    "        self.right_bowl = 0\n",
    "    \n",
    "    def add_right(self, mass):\n",
    "        self.right_bowl += mass\n",
    "        \n",
    "    def add_left(self, mass):\n",
    "        self.left_bowl += mass\n",
    "        \n",
    "    def get_result(self):\n",
    "        if (self.left_bowl) == (self.right_bowl):\n",
    "            return 'Весы в равновесии'\n",
    "        elif (self.left_bowl) > (self.right_bowl):\n",
    "            return 'Левая чаша тяжелее'\n",
    "        else: \n",
    "            return 'Правая чаша тяжелее'\n",
    "        \n",
    "        \n",
    "scales = Scales()\n",
    "\n",
    "scales.add_right(1)\n",
    "scales.add_right(1)\n",
    "scales.add_left(2)\n",
    "\n",
    "print(scales.get_result())\n",
    "\n",
    "scales = Scales()\n",
    "\n",
    "scales.add_right(1)\n",
    "scales.add_left(2)\n",
    "\n",
    "print(scales.get_result())"
   ]
  },
  {
   "cell_type": "code",
   "execution_count": 4,
   "metadata": {},
   "outputs": [],
   "source": [
    "from math import sqrt\n",
    "\n",
    "class Vector:\n",
    "    def __init__(self, x=0, y=0):\n",
    "        self.x = x\n",
    "        self.y = y\n",
    "    \n",
    "    def abs(self):\n",
    "        return sqrt(self.x ** 2 + self.y ** 2)"
   ]
  },
  {
   "cell_type": "code",
   "execution_count": 3,
   "metadata": {},
   "outputs": [
    {
     "name": "stdout",
     "output_type": "stream",
     "text": [
      "[2, 4]\n",
      "[3, 1]\n"
     ]
    }
   ],
   "source": [
    "class Numbers:\n",
    "    def __init__(self):\n",
    "        self.numbers_list = []\n",
    "    \n",
    "    def add_number(self, number):\n",
    "        self.numbers_list.append(number)\n",
    "        \n",
    "    def get_even(self):\n",
    "        evens = []\n",
    "        for i in self.numbers_list:\n",
    "            if i % 2 == 0:\n",
    "                evens.append(i)\n",
    "        return evens\n",
    "        \n",
    "    def get_odd(self):\n",
    "        odds = []\n",
    "        for i in self.numbers_list:\n",
    "            if i % 2 != 0:\n",
    "                odds.append(i)\n",
    "        return odds\n",
    "    \n",
    "    \n",
    "numbers = Numbers()\n",
    "\n",
    "numbers.add_number(3)\n",
    "numbers.add_number(2)\n",
    "numbers.add_number(1)\n",
    "numbers.add_number(4)\n",
    "\n",
    "print(numbers.get_even())\n",
    "print(numbers.get_odd())\n",
    "        "
   ]
  },
  {
   "cell_type": "code",
   "execution_count": 9,
   "metadata": {},
   "outputs": [
    {
     "name": "stdout",
     "output_type": "stream",
     "text": [
      "['do', 'be', 'be']\n",
      "['better']\n",
      "[]\n",
      "[]\n"
     ]
    }
   ],
   "source": [
    "class TextHandler:\n",
    "    def __init__(self):\n",
    "        self.words_list = []\n",
    "    def add_words(self, text):\n",
    "        for word in text.split():\n",
    "            self.words_list.append(word)\n",
    "    def get_shortest_words(self):\n",
    "        try:\n",
    "            shortest_len = len(min(self.words_list, key=lambda x: len(x)))\n",
    "            return [word for word in self.words_list if len(word) == shortest_len]\n",
    "        except Exception:\n",
    "            return self.words_list\n",
    "    def get_longest_words(self):\n",
    "        try:\n",
    "            longest_len = len(max(self.words_list, key=lambda x: len(x)))\n",
    "            return  [word for word in self.words_list if len(word) == longest_len]\n",
    "        except Exception:\n",
    "            return self.words_list\n",
    "    \n",
    "texthandler = TextHandler()\n",
    "\n",
    "texthandler.add_words('do not be sorry')\n",
    "texthandler.add_words('be')\n",
    "texthandler.add_words('better')\n",
    "\n",
    "print(texthandler.get_shortest_words())\n",
    "print(texthandler.get_longest_words())\n",
    "\n",
    "texthandler = TextHandler()\n",
    "\n",
    "print(texthandler.get_shortest_words())\n",
    "print(texthandler.get_longest_words())"
   ]
  },
  {
   "cell_type": "code",
   "execution_count": 14,
   "metadata": {},
   "outputs": [
    {
     "name": "stdout",
     "output_type": "stream",
     "text": [
      "['Помыться', 'Поесть']\n"
     ]
    }
   ],
   "source": [
    "class Todo:\n",
    "    def __init__(self):\n",
    "        self.things = []\n",
    "\n",
    "    def add(self, thing, priority):\n",
    "        self.things.append((thing, priority))\n",
    "\n",
    "    def get_by_priority(self, priority):\n",
    "        return [t for t, p in self.things if p == priority]\n",
    "\n",
    "    def get_low_priority(self):\n",
    "        priority = min(map(lambda t: t[1], self.things)) if self.things else None\n",
    "        return self.get_by_priority(priority)\n",
    "\n",
    "    def get_high_priority(self):\n",
    "        priority = max(map(lambda t: t[1], self.things)) if self.things else None\n",
    "        return self.get_by_priority(priority)\n",
    "    \n",
    "\n",
    "    \n",
    "todo = Todo()\n",
    "\n",
    "todo.add('Проснуться', 3)\n",
    "todo.add('Помыться', 2)\n",
    "todo.add('Поесть', 2)\n",
    "\n",
    "print(todo.get_by_priority(2))                   "
   ]
  },
  {
   "cell_type": "code",
   "execution_count": 21,
   "metadata": {},
   "outputs": [
    {
     "name": "stdout",
     "output_type": "stream",
     "text": [
      "[151, 90]\n",
      "[74, 75]\n",
      "[]\n",
      "[]\n",
      "[]\n"
     ]
    }
   ],
   "source": [
    "class Postman:\n",
    "    def __init__(self):\n",
    "        self.delivery_data = []\n",
    "        \n",
    "    def add_delivery(self, street, house, app):\n",
    "        self.delivery_data.append((street, house, app))\n",
    "    \n",
    "    def get_houses_for_street(self, street):\n",
    "        houses_list = []\n",
    "        for address in self.delivery_data:\n",
    "            if address[0] == street  and address[1] not in houses_list:\n",
    "                houses_list.append(address[1])\n",
    "        return houses_list\n",
    "        \n",
    "    def get_flats_for_house(self, street, house):\n",
    "        app_list = []\n",
    "        for address in self.delivery_data:\n",
    "            if address[0] == street and address[1] == house and address[2] not in app_list:\n",
    "                app_list.append(address[2])\n",
    "        return app_list\n",
    "    \n",
    "postman = Postman()\n",
    "\n",
    "postman.add_delivery('Советская', 151, 74)\n",
    "postman.add_delivery('Советская', 151, 75)\n",
    "postman.add_delivery('Советская', 90, 2)\n",
    "postman.add_delivery('Советская', 151, 74)\n",
    "\n",
    "print(postman.get_houses_for_street('Советская'))\n",
    "print(postman.get_flats_for_house('Советская', 151))\n",
    "\n",
    "postman = Postman()\n",
    "\n",
    "print(postman.delivery_data)\n",
    "print(postman.get_houses_for_street('3-я ул. Строителей'))\n",
    "print(postman.get_flats_for_house('3-я ул. Строителей', 25))\n"
   ]
  },
  {
   "cell_type": "code",
   "execution_count": 23,
   "metadata": {},
   "outputs": [
    {
     "name": "stdout",
     "output_type": "stream",
     "text": [
      "[]\n",
      "['bee', 'geek']\n",
      "['o', 'to', 'otto', 't']\n"
     ]
    }
   ],
   "source": [
    "class Wordplay:\n",
    "    def __init__(self, words=None):\n",
    "        if words is None:\n",
    "            self.words = []\n",
    "        else:\n",
    "            self.words = words.copy()\n",
    "\n",
    "    def add_word(self, word):\n",
    "        if word not in self.words:\n",
    "            self.words.append(word)\n",
    "\n",
    "    def words_with_length(self, n):\n",
    "        return [word for word in self.words if len(word) == n]\n",
    "\n",
    "    def only(self, *letters):\n",
    "        return [word for word in self.words if set(letters).issuperset(set(word))]\n",
    "\n",
    "    def avoid(self, *letters):\n",
    "        return [word for word in self.words if not any(letter in word for letter in letters)]\n",
    "\n",
    "\n",
    "wordplay = Wordplay()\n",
    "\n",
    "print(wordplay.words)\n",
    "wordplay.add_word('bee')\n",
    "wordplay.add_word('geek')\n",
    "print(wordplay.words)\n",
    "\n",
    "\n",
    "wordplay = Wordplay(['o', 'to', 'otto', 'top', 't'])\n",
    "\n",
    "print(wordplay.only('o', 't'))\n",
    "\n"
   ]
  },
  {
   "cell_type": "code",
   "execution_count": 25,
   "metadata": {},
   "outputs": [
    {
     "name": "stdout",
     "output_type": "stream",
     "text": [
      "c 3\n",
      "False\n",
      "True\n",
      "e 4\n",
      ". . . . . . . . \n",
      ". . . . . . . . \n",
      ". . . . . . . . \n",
      ". * . * . . . . \n",
      "* . . . * . . . \n",
      ". . N . . . . . \n",
      "* . . . * . . . \n",
      ". * . * . . . . \n"
     ]
    }
   ],
   "source": [
    "class Knight:\n",
    "    def __init__(self, horizontal, vertical, color):\n",
    "        self.horizontal = horizontal\n",
    "        self.vertical = vertical\n",
    "        self.color = color\n",
    "\n",
    "    def get_char(self):\n",
    "        return 'N'\n",
    "\n",
    "    def can_move(self, target_horizontal, target_vertical):\n",
    "        delta_horizontal = abs(ord(target_horizontal) - ord(self.horizontal))\n",
    "        delta_vertical = abs(target_vertical - self.vertical)\n",
    "        return (delta_horizontal == 2 and delta_vertical == 1) or (delta_horizontal == 1 and delta_vertical == 2)\n",
    "\n",
    "    def move_to(self, target_horizontal, target_vertical):\n",
    "        if self.can_move(target_horizontal, target_vertical):\n",
    "            self.horizontal = target_horizontal\n",
    "            self.vertical = target_vertical\n",
    "\n",
    "    def draw_board(self):\n",
    "        for row in range(8, 0, -1):\n",
    "            for col in range(ord('a'), ord('h') + 1):\n",
    "                if col == ord(self.horizontal) and row == self.vertical:\n",
    "                    print(self.get_char(), end=' ')\n",
    "                elif self.can_move(chr(col), row):\n",
    "                    print('*', end=' ')\n",
    "                else:\n",
    "                    print('.', end=' ')\n",
    "            print()\n",
    "            \n",
    "            \n",
    "knight = Knight('c', 3, 'white')\n",
    "\n",
    "print(knight.horizontal, knight.vertical)\n",
    "print(knight.can_move('e', 5))\n",
    "print(knight.can_move('e', 4))\n",
    "\n",
    "knight.move_to('e', 4)\n",
    "print(knight.horizontal, knight.vertical)\n",
    "\n",
    "knight = Knight('c', 3, 'white')\n",
    "\n",
    "knight.draw_board()\n"
   ]
  },
  {
   "cell_type": "code",
   "execution_count": null,
   "metadata": {},
   "outputs": [],
   "source": []
  }
 ],
 "metadata": {
  "kernelspec": {
   "display_name": ".venv",
   "language": "python",
   "name": "python3"
  },
  "language_info": {
   "codemirror_mode": {
    "name": "ipython",
    "version": 3
   },
   "file_extension": ".py",
   "mimetype": "text/x-python",
   "name": "python",
   "nbconvert_exporter": "python",
   "pygments_lexer": "ipython3",
   "version": "3.11.2"
  }
 },
 "nbformat": 4,
 "nbformat_minor": 2
}
