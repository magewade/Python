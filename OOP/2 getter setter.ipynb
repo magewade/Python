{
 "cells": [
  {
   "cell_type": "code",
   "execution_count": 1,
   "metadata": {},
   "outputs": [
    {
     "name": "stdout",
     "output_type": "stream",
     "text": [
      "1\n",
      "2\n",
      "3\n"
     ]
    }
   ],
   "source": [
    "from math import pi\n",
    "\n",
    "class Circle:\n",
    "    def __init__(self, radius):\n",
    "        self._radius = radius\n",
    "        self._diameter = 2 * radius\n",
    "        self._area = pi * (radius ** 2)\n",
    "    \n",
    "    def get_radius(self):\n",
    "        return self._radius\n",
    "    \n",
    "    def get_diameter(self):\n",
    "        return self._diameter\n",
    "    \n",
    "    def get_area(self):\n",
    "        return self._area\n",
    "   \n",
    "   \n",
    "circle = Circle(1)\n",
    "\n",
    "print(circle.get_radius())\n",
    "print(circle.get_diameter())\n",
    "print(round(circle.get_area()))\n",
    " \n"
   ]
  },
  {
   "cell_type": "code",
   "execution_count": 4,
   "metadata": {},
   "outputs": [
    {
     "name": "stdout",
     "output_type": "stream",
     "text": [
      "50\n",
      "250\n"
     ]
    }
   ],
   "source": [
    "class BankAccount:\n",
    "    def __init__(self, balance=0):\n",
    "        self._balance = balance\n",
    "        \n",
    "    def get_balance(self):\n",
    "        return self._balance\n",
    "    \n",
    "    def deposit(self, amount):\n",
    "        self._balance += amount\n",
    "        \n",
    "    def withdraw(self, amount):\n",
    "        if self._balance >= amount:\n",
    "            self._balance -= amount\n",
    "        else:\n",
    "            raise ValueError(\"На счете недостаточно средств\")\n",
    "        \n",
    "    def transfer(self, account, amount):\n",
    "        if self._balance >= amount:\n",
    "            account.deposit(amount)\n",
    "            self._balance -= amount\n",
    "        else:\n",
    "            raise ValueError(\"На счете недостаточно средств\")\n",
    "        \n",
    "        \n",
    "account1 = BankAccount(100)\n",
    "account2 = BankAccount(200)\n",
    "\n",
    "account1.transfer(account2, 50)\n",
    "print(account1.get_balance())\n",
    "print(account2.get_balance())"
   ]
  },
  {
   "cell_type": "code",
   "execution_count": 11,
   "metadata": {},
   "outputs": [
    {
     "name": "stdout",
     "output_type": "stream",
     "text": [
      "Некорректное имя\n",
      "Некорректное имя\n",
      "Некорректное имя\n",
      "Некорректное имя\n",
      "Некорректное имя\n",
      "Некорректное имя\n"
     ]
    }
   ],
   "source": [
    "class User:\n",
    "    def __init__(self, name, age):\n",
    "        self.set_name(name)\n",
    "        self.set_age(age)\n",
    "\n",
    "    def get_name(self):\n",
    "        return self._name\n",
    "\n",
    "    def set_name(self, new_name):\n",
    "        if not (isinstance(new_name, str) and new_name.isalpha() and new_name):\n",
    "            raise ValueError('Некорректное имя')\n",
    "        self._name = new_name\n",
    "\n",
    "    def get_age(self):\n",
    "        return self._age\n",
    "\n",
    "    def set_age(self, new_age):\n",
    "        if not (isinstance(new_age, int) and (0 <= new_age <= 110)):\n",
    "            raise ValueError('Некорректный возраст')\n",
    "        self._age = new_age\n",
    "            \n",
    "\n",
    "user = User('Меган', 37)\n",
    "\n",
    "invalid_names = (-1, True, '', [], '123456', 'Меган906090')\n",
    "\n",
    "for name in invalid_names:\n",
    "    try:\n",
    "        user.set_name(name)\n",
    "    except ValueError as e:\n",
    "        print(e)    "
   ]
  },
  {
   "cell_type": "code",
   "execution_count": 12,
   "metadata": {},
   "outputs": [
    {
     "name": "stdout",
     "output_type": "stream",
     "text": [
      "Changing black to yellow\n",
      "Changing yellow to white\n",
      "Returning white\n",
      "white\n"
     ]
    }
   ],
   "source": [
    "class ElectricCar:\n",
    "    def __init__(self, color):\n",
    "        self._color = color\n",
    "\n",
    "    def get_color(self):\n",
    "        print(f'Returning {self._color}')\n",
    "        return self._color\n",
    "\n",
    "    def set_color(self, color):\n",
    "        print(f'Changing {self._color} to {color}')\n",
    "        self._color = color\n",
    "\n",
    "    color = property(get_color, set_color)\n",
    "\n",
    "\n",
    "car = ElectricCar('black')\n",
    "\n",
    "car.color = 'yellow'\n",
    "car.color = 'white'\n",
    "\n",
    "print(car.color)"
   ]
  },
  {
   "cell_type": "code",
   "execution_count": 16,
   "metadata": {},
   "outputs": [
    {
     "name": "stdout",
     "output_type": "stream",
     "text": [
      "4\n",
      "5\n",
      "18\n",
      "20\n"
     ]
    }
   ],
   "source": [
    "class Rectangle:\n",
    "    def __init__(self, length, width):\n",
    "        self.length = length\n",
    "        self.width = width\n",
    "        \n",
    "    def perimeter(self):\n",
    "        return self.length * 2 +self.width * 2\n",
    "    \n",
    "    def area(self):\n",
    "        return self.length * self.width\n",
    "    \n",
    "    perimeter = property(perimeter)\n",
    "    area = property(area)\n",
    "    \n",
    "    \n",
    "rectangle = Rectangle(4, 5)\n",
    "\n",
    "print(rectangle.length)\n",
    "print(rectangle.width)\n",
    "print(rectangle.perimeter)\n",
    "print(rectangle.area)"
   ]
  },
  {
   "cell_type": "code",
   "execution_count": 24,
   "metadata": {},
   "outputs": [
    {
     "name": "stdout",
     "output_type": "stream",
     "text": [
      "7\n",
      "9\n",
      "Некорректное время\n"
     ]
    }
   ],
   "source": [
    "class HourClock:\n",
    "    def __init__(self, hours):\n",
    "        self.hours = hours\n",
    "\n",
    "    def get_hours(self):\n",
    "        return self._hours\n",
    "\n",
    "    def set_hours(self, hours):\n",
    "        if not isinstance(hours, int) or not (0 < hours <= 12):\n",
    "            raise ValueError('Некорректное время')\n",
    "        self._hours = hours\n",
    "\n",
    "    hours = property(get_hours, set_hours)\n",
    "    \n",
    "time = HourClock(7)\n",
    "\n",
    "print(time.hours)\n",
    "time.hours = 9\n",
    "print(time.hours)\n",
    "\n",
    "\n",
    "try:\n",
    "    HourClock('pizza time 🕷')\n",
    "except ValueError as e:\n",
    "    print(e)"
   ]
  },
  {
   "cell_type": "code",
   "execution_count": 43,
   "metadata": {},
   "outputs": [
    {
     "name": "stdout",
     "output_type": "stream",
     "text": [
      "Алан Вирт\n"
     ]
    }
   ],
   "source": [
    "class Person:\n",
    "    def __init__(self, name, surname):\n",
    "        self.name = name\n",
    "        self.surname = surname\n",
    "        \n",
    "    def get_fullname(self):\n",
    "        return f'{self.name} {self.surname}'\n",
    "    \n",
    "    def set_fullname(self, fullname):\n",
    "        name, surname = fullname.split()\n",
    "        self.name = name\n",
    "        self.surname = surname\n",
    "    \n",
    "    fullname = property(get_fullname, set_fullname)\n",
    "    \n",
    "    \n",
    "person = Person('Алан', 'Тьюринг')\n",
    "\n",
    "person.surname = 'Вирт'\n",
    "print(person.fullname)"
   ]
  },
  {
   "cell_type": "code",
   "execution_count": 2,
   "metadata": {},
   "outputs": [
    {
     "name": "stdout",
     "output_type": "stream",
     "text": [
      "Elon\n"
     ]
    }
   ],
   "source": [
    "class ElectricCar:\n",
    "    def __init__(self, owner):\n",
    "        self._owner = owner\n",
    "\n",
    "    @property\n",
    "    def owner(self):\n",
    "        return self._owner\n",
    "        \n",
    "    @owner.setter\n",
    "    def owner(self, owner):\n",
    "        if isinstance(owner, str) and owner.isalpha():\n",
    "            self._owner = owner\n",
    "        else:\n",
    "            raise ValueError\n",
    "\n",
    "\n",
    "car = ElectricCar('Gvido')\n",
    "\n",
    "car.owner = 'Elon'\n",
    "\n",
    "print(car.owner)"
   ]
  },
  {
   "cell_type": "code",
   "execution_count": 12,
   "metadata": {},
   "outputs": [
    {
     "name": "stdout",
     "output_type": "stream",
     "text": [
      "Troy Pondsmith\n"
     ]
    }
   ],
   "source": [
    "class Person:\n",
    "    def __init__(self, name, surname):\n",
    "        self._name = name\n",
    "        self._surname = surname\n",
    "    \n",
    "    @property\n",
    "    def name(self):\n",
    "        return self._name\n",
    "    \n",
    "    @name.setter\n",
    "    def name(self, name):\n",
    "        self._name = name\n",
    "\n",
    "    @property\n",
    "    def surname(self):\n",
    "        return self._surname\n",
    "    \n",
    "    @surname.setter\n",
    "    def surname(self, surname):\n",
    "        self._surname = surname\n",
    "        \n",
    "    @property\n",
    "    def fullname(self):\n",
    "        return self._name + ' ' + self._surname\n",
    "\n",
    "    @fullname.setter\n",
    "    def fullname(self, fullname):\n",
    "        self._name, self._surname = fullname.split()\n",
    "    \n",
    "person = Person('Mike', 'Pondsmith')\n",
    "\n",
    "person.name = 'Troy'\n",
    "print(person.fullname)"
   ]
  },
  {
   "cell_type": "code",
   "execution_count": 14,
   "metadata": {},
   "outputs": [
    {
     "name": "stdout",
     "output_type": "stream",
     "text": [
      "5661\n",
      "10953\n"
     ]
    }
   ],
   "source": [
    "def hash_function(password):\n",
    "    hash_value = 0\n",
    "    for char, index in zip(password, range(len(password))):\n",
    "         hash_value += ord(char) * index\n",
    "    return hash_value % 10**9\n",
    "\n",
    "class Account:\n",
    "    def __init__(self, login, password):\n",
    "        self._login = login\n",
    "        self._password = hash_function(password)\n",
    "        \n",
    "    @property\n",
    "    def login(self):\n",
    "        return self._login\n",
    "    \n",
    "    @login.setter\n",
    "    def login(self, login):\n",
    "        raise AttributeError(\"Изменение логина невозможно\")\n",
    "    \n",
    "    @property\n",
    "    def password(self):\n",
    "        return self._password\n",
    "    \n",
    "    @password.setter\n",
    "    def password(self, password):\n",
    "        self._password = hash_function(password)\n",
    "        \n",
    "        \n",
    "account = Account('timyr-guev', 'lovebeegeek')\n",
    "\n",
    "print(account.password)\n",
    "account.password = 'verylovebeegeek'\n",
    "print(account.password)\n",
    "        "
   ]
  },
  {
   "cell_type": "code",
   "execution_count": 46,
   "metadata": {},
   "outputs": [
    {
     "name": "stdout",
     "output_type": "stream",
     "text": [
      "0.0\n",
      "5.0\n",
      "1x^2 - 5x + 0\n"
     ]
    }
   ],
   "source": [
    "class QuadraticPolynomial:\n",
    "    def __init__(self, a, b, c):\n",
    "        self._a = a\n",
    "        self._b = b\n",
    "        self._c = c\n",
    "\n",
    "    @property\n",
    "    def a(self):\n",
    "        return self._a\n",
    "\n",
    "    @property\n",
    "    def b(self):\n",
    "        return self._b\n",
    "\n",
    "    @property\n",
    "    def c(self):\n",
    "        return self._c\n",
    "\n",
    "    @property\n",
    "    def x1(self):\n",
    "        discriminant = self._b**2 - 4 * self._a * self._c\n",
    "        if discriminant < 0:\n",
    "            return None\n",
    "        else:\n",
    "            return (-self._b - (discriminant)**0.5) / (2 * self._a)\n",
    "\n",
    "    @property\n",
    "    def x2(self):\n",
    "        discriminant = self._b**2 - 4 * self._a * self._c\n",
    "        if discriminant < 0:\n",
    "            return None\n",
    "        else:\n",
    "            return (-self._b + (discriminant)**0.5) / (2 * self._a)\n",
    "        \n",
    "    @property\n",
    "    def view(self):\n",
    "        result = f'{self.a}x^2 + {self.b}x + {self.c}'.replace('+ -', '- ')\n",
    "        return result\n",
    "\n",
    "    \n",
    "    @property\n",
    "    def coefficients(self):\n",
    "        return (self._a, self._b, self._c)\n",
    "\n",
    "    @coefficients.setter\n",
    "    def coefficients(self, new_coefficients):\n",
    "        self._a, self._b, self._c = new_coefficients\n",
    "\n",
    "# Test the adjusted code\n",
    "polynom = QuadraticPolynomial(1, 2, -3)\n",
    "polynom.coefficients = (1, -5, 0)\n",
    "print(polynom.x1)\n",
    "print(polynom.x2)\n",
    "print(polynom.view)\n"
   ]
  },
  {
   "cell_type": "code",
   "execution_count": null,
   "metadata": {},
   "outputs": [],
   "source": []
  }
 ],
 "metadata": {
  "kernelspec": {
   "display_name": ".venv",
   "language": "python",
   "name": "python3"
  },
  "language_info": {
   "codemirror_mode": {
    "name": "ipython",
    "version": 3
   },
   "file_extension": ".py",
   "mimetype": "text/x-python",
   "name": "python",
   "nbconvert_exporter": "python",
   "pygments_lexer": "ipython3",
   "version": "3.11.2"
  }
 },
 "nbformat": 4,
 "nbformat_minor": 2
}
