{
 "cells": [
  {
   "cell_type": "code",
   "execution_count": 1,
   "metadata": {},
   "outputs": [
    {
     "name": "stdout",
     "output_type": "stream",
     "text": [
      "['b', 'e', 'e', 'g', 'e', 'e', 'k']\n",
      "[]\n"
     ]
    }
   ],
   "source": [
    "generator = (char for char in 'beegeek123' if char.isalpha())\n",
    "\n",
    "print(list(generator))\n",
    "print(list(generator))"
   ]
  },
  {
   "cell_type": "code",
   "execution_count": 2,
   "metadata": {},
   "outputs": [
    {
     "name": "stdout",
     "output_type": "stream",
     "text": [
      "6\n"
     ]
    }
   ],
   "source": [
    "words = ['bee', 'stepik', 'geek']\n",
    "\n",
    "result = max(len(word) for word in words)\n",
    "\n",
    "print(result)"
   ]
  },
  {
   "cell_type": "code",
   "execution_count": 4,
   "metadata": {},
   "outputs": [
    {
     "name": "stdout",
     "output_type": "stream",
     "text": [
      "1 27 125\n"
     ]
    }
   ],
   "source": [
    "def cubes_of_odds(iterable):\n",
    "    return (number ** 3 for number in iterable if number % 2)\n",
    "            \n",
    "print(*cubes_of_odds([1, 2, 3, 4, 5]))"
   ]
  },
  {
   "cell_type": "code",
   "execution_count": 5,
   "metadata": {},
   "outputs": [
    {
     "name": "stdout",
     "output_type": "stream",
     "text": [
      "True\n",
      "False\n",
      "False\n"
     ]
    }
   ],
   "source": [
    "def is_prime(number):\n",
    "    return number > 1 and all(number % i != 0 for i in range(2, int(number**0.5) + 1))\n",
    "\n",
    "# Пример использования\n",
    "print(is_prime(7))  # True\n",
    "print(is_prime(8))  # False\n",
    "print(is_prime(1))  # False\n"
   ]
  },
  {
   "cell_type": "code",
   "execution_count": 7,
   "metadata": {},
   "outputs": [
    {
     "name": "stdout",
     "output_type": "stream",
     "text": [
      "5\n"
     ]
    }
   ],
   "source": [
    "def count_iterable(iterable):\n",
    "    result = 0\n",
    "    for i in iterable:\n",
    "        result += 1       \n",
    "    return(result)\n",
    "\n",
    "def count_iterable(iterable) -> int:\n",
    "    return sum(1 for _ in iterable)\n",
    "\n",
    "print(count_iterable([1, 2, 3, 4, 5]))"
   ]
  },
  {
   "cell_type": "code",
   "execution_count": 9,
   "metadata": {},
   "outputs": [
    {
     "name": "stdout",
     "output_type": "stream",
     "text": [
      "0 1 2 b e e 1 3 5 2 4 6\n"
     ]
    }
   ],
   "source": [
    "def all_together(*args):\n",
    "    return (element for iterable in args for element in iterable)\n",
    "\n",
    "objects = [range(3), 'bee', [1, 3, 5], (2, 4, 6)]\n",
    "\n",
    "print(*all_together(*objects))"
   ]
  },
  {
   "cell_type": "code",
   "execution_count": 15,
   "metadata": {},
   "outputs": [
    {
     "name": "stdout",
     "output_type": "stream",
     "text": [
      "b 1 e 2 e 3\n"
     ]
    }
   ],
   "source": [
    "def interleave(*args):\n",
    "    return (element for iterable in zip(*args) for element in iterable)\n",
    "\n",
    "print(*interleave('bee', '123'))"
   ]
  },
  {
   "cell_type": "code",
   "execution_count": 26,
   "metadata": {},
   "outputs": [
    {
     "name": "stdout",
     "output_type": "stream",
     "text": [
      "Jon Bale\n"
     ]
    }
   ],
   "source": [
    "from collections import namedtuple\n",
    "\n",
    "Person = namedtuple('Person', ['name', 'nationality', 'sex', 'birth', 'death'])\n",
    "\n",
    "persons = [Person('E. M. Ashe', 'American', 'male', 1867, 1941),\n",
    "           Person('Goran Aslin', 'Swedish', 'male', 1980, 0),\n",
    "           Person('Erik Gunnar Asplund', 'Swedish', 'male', 1885, 1940),\n",
    "           Person('Genevieve Asse', 'French', 'female', 1949, 0),\n",
    "           Person('Irene Adler', 'Swedish', 'female', 2005, 0),\n",
    "           Person('Sergio Asti', 'Italian', 'male', 1926, 0),\n",
    "           Person('Olof Backman', 'Swedish', 'male', 1999, 0),\n",
    "           Person('Alyson Hannigan', 'Swedish', 'female', 1940, 1987),\n",
    "           Person('Dana Atchley', 'American', 'female', 1941, 2000),\n",
    "           Person('Monika Andersson', 'Swedish', 'female', 1957, 0),\n",
    "           Person('Shura_Stone', 'Russian', 'male', 2000, 0),\n",
    "           Person('Jon Bale', 'Swedish', 'male', 2000, 0)]\n",
    "\n",
    "swedish = ((x.birth, x.name) for x in persons if x.nationality == 'Swedish' and x.sex == 'male' and not x.death)\n",
    "print(max(swedish)[1])"
   ]
  },
  {
   "cell_type": "code",
   "execution_count": 27,
   "metadata": {},
   "outputs": [
    {
     "name": "stdout",
     "output_type": "stream",
     "text": [
      "7 8 9 10 11 12 13 14 15 16 17 18 19 20 21 22 23 24 25 26 27 28 29 30 31 32\n"
     ]
    }
   ],
   "source": [
    "def parse_ranges(ranges):\n",
    "    for range_str in ranges.split(','):\n",
    "        bounds = range_str.split('-')\n",
    "        start, end = int(bounds[0]), int(bounds[-1])\n",
    "        yield from range(start, end + 1)\n",
    "        \n",
    "print(*parse_ranges('7-32'))"
   ]
  },
  {
   "cell_type": "code",
   "execution_count": 28,
   "metadata": {},
   "outputs": [
    {
     "name": "stdout",
     "output_type": "stream",
     "text": [
      "Timur Arthur Arina\n",
      "Dima Arthur Arina German Ruslan\n"
     ]
    }
   ],
   "source": [
    "def filter_names(names, ignore_char, max_names):\n",
    "    filtered_names = (name for name in names if not (name.lower().startswith(ignore_char.lower()) or any(char.isdigit() for char in name)))\n",
    "    return (name for _, name in zip(range(max_names), filtered_names))\n",
    "\n",
    "data = ['Dima', 'Timur', 'Arthur', 'Anri20', 'Arina', 'German', 'Ruslan']\n",
    "\n",
    "print(*filter_names(data, 'D', 3))\n",
    "\n",
    "data = ['Dima', 'Timur', 'Arthur', 'Anri20', 'Arina', 'German', 'Ruslan']\n",
    "\n",
    "print(*filter_names(data, 't', 20))"
   ]
  },
  {
   "cell_type": "code",
   "execution_count": 29,
   "metadata": {},
   "outputs": [
    {
     "name": "stdout",
     "output_type": "stream",
     "text": [
      "1 2 3 4 5\n"
     ]
    }
   ],
   "source": [
    "def unique(iterable):\n",
    "    seen = set()\n",
    "    for item in iterable:\n",
    "        if item not in seen:\n",
    "            seen.add(item)\n",
    "            yield item\n",
    "            \n",
    "numbers = [1, 2, 2, 3, 4, 5, 5, 5]\n",
    "\n",
    "print(*unique(numbers))"
   ]
  },
  {
   "cell_type": "code",
   "execution_count": 30,
   "metadata": {},
   "outputs": [
    {
     "name": "stdout",
     "output_type": "stream",
     "text": [
      "1 2 3\n",
      "b e e g e e k\n"
     ]
    }
   ],
   "source": [
    "def stop_on(iterable, obj):\n",
    "    for item in iterable:\n",
    "        if item == obj:\n",
    "            break\n",
    "        yield item\n",
    "\n",
    "# Пример использования:\n",
    "numbers = [1, 2, 3, 4, 5]\n",
    "print(*stop_on(numbers, 4))\n",
    "\n",
    "iterator = iter('beegeek')\n",
    "print(*stop_on(iterator, 'a'))\n"
   ]
  },
  {
   "cell_type": "code",
   "execution_count": 31,
   "metadata": {},
   "outputs": [
    {
     "name": "stdout",
     "output_type": "stream",
     "text": [
      "(1, None) (2, 1) (3, 2) (4, 3) (5, 4)\n"
     ]
    }
   ],
   "source": [
    "def with_previous(iterable):\n",
    "    prev = None\n",
    "    for current in iterable:\n",
    "        yield (current, prev)\n",
    "        prev = current\n",
    "        \n",
    "        \n",
    "numbers = [1, 2, 3, 4, 5]\n",
    "\n",
    "print(*with_previous(numbers))"
   ]
  },
  {
   "cell_type": "code",
   "execution_count": 35,
   "metadata": {},
   "outputs": [
    {
     "name": "stdout",
     "output_type": "stream",
     "text": [
      "(1, 2) (2, 3) (3, 4) (4, 5) (5, None)\n",
      "('s', 't') ('t', 'e') ('e', 'p') ('p', 'i') ('i', 'k') ('k', None)\n",
      "[]\n"
     ]
    }
   ],
   "source": [
    "def pairwise(iterable):\n",
    "    iterator = iter(iterable)\n",
    "    prev = None\n",
    "    for current in iterator:\n",
    "        if prev is not None:\n",
    "            yield (prev, current)\n",
    "        prev = current\n",
    "    if prev is not None:\n",
    "        yield (prev, None)\n",
    "        \n",
    "# Примеры использования:\n",
    "numbers = [1, 2, 3, 4, 5]\n",
    "print(*pairwise(numbers))\n",
    "\n",
    "iterator = iter('stepik')\n",
    "print(*pairwise(iterator))\n",
    "\n",
    "print(list(pairwise([])))\n"
   ]
  },
  {
   "cell_type": "code",
   "execution_count": 36,
   "metadata": {},
   "outputs": [
    {
     "name": "stdout",
     "output_type": "stream",
     "text": [
      "(None, 1, 2) (1, 2, 3) (2, 3, 4) (3, 4, 5) (4, 5, None)\n",
      "(None, 'h', 'e') ('h', 'e', 'y') ('e', 'y', None)\n"
     ]
    }
   ],
   "source": [
    "def around(iterable):\n",
    "    iterator = iter(iterable)\n",
    "    prev = None\n",
    "    current = next(iterator, None)\n",
    "\n",
    "    while current is not None:\n",
    "        next_element = next(iterator, None)\n",
    "        yield (prev, current, next_element)\n",
    "        prev, current = current, next_element\n",
    "\n",
    "# Примеры использования:\n",
    "numbers = [1, 2, 3, 4, 5]\n",
    "print(*around(numbers))\n",
    "\n",
    "iterator = iter('hey')\n",
    "print(*around(iterator))\n"
   ]
  },
  {
   "cell_type": "code",
   "execution_count": null,
   "metadata": {},
   "outputs": [],
   "source": []
  }
 ],
 "metadata": {
  "kernelspec": {
   "display_name": ".venv",
   "language": "python",
   "name": "python3"
  },
  "language_info": {
   "codemirror_mode": {
    "name": "ipython",
    "version": 3
   },
   "file_extension": ".py",
   "mimetype": "text/x-python",
   "name": "python",
   "nbconvert_exporter": "python",
   "pygments_lexer": "ipython3",
   "version": "3.11.2"
  }
 },
 "nbformat": 4,
 "nbformat_minor": 2
}
