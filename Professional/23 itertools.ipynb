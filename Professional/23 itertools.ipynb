{
 "cells": [
  {
   "cell_type": "code",
   "execution_count": 2,
   "metadata": {},
   "outputs": [
    {
     "name": "stdout",
     "output_type": "stream",
     "text": [
      "7 3 7 9\n"
     ]
    }
   ],
   "source": [
    "from itertools import starmap\n",
    "\n",
    "numbers = [(2, 0, 7, 7), (3, 2, 2), (1, 3, 3, 7), (6, 9)]\n",
    "\n",
    "print(*starmap(max, numbers))"
   ]
  },
  {
   "cell_type": "code",
   "execution_count": 3,
   "metadata": {},
   "outputs": [
    {
     "name": "stdout",
     "output_type": "stream",
     "text": [
      "['bee', 'geek']\n",
      "['bee', 'geek', 'imposter']\n"
     ]
    }
   ],
   "source": [
    "from itertools import repeat\n",
    "\n",
    "beegeek = ['bee', 'geek']\n",
    "repeater = repeat(beegeek)\n",
    "\n",
    "print(next(repeater))\n",
    "\n",
    "beegeek.append('imposter')\n",
    "\n",
    "print(next(repeater))"
   ]
  },
  {
   "cell_type": "code",
   "execution_count": 6,
   "metadata": {},
   "outputs": [
    {
     "name": "stdout",
     "output_type": "stream",
     "text": [
      "1\n",
      "2\n",
      "11\n",
      "12\n",
      "13\n"
     ]
    }
   ],
   "source": [
    "from itertools import count\n",
    "\n",
    "def tabulate(func):\n",
    "    counter = count(1)\n",
    "    while True:\n",
    "        yield func(next(counter))\n",
    "        \n",
    "func = lambda x: x\n",
    "values = tabulate(func)\n",
    "\n",
    "print(next(values))\n",
    "print(next(values))\n",
    "\n",
    "\n",
    "func = lambda x: x + 10\n",
    "values = tabulate(func)\n",
    "\n",
    "print(next(values))\n",
    "print(next(values))\n",
    "print(next(values))"
   ]
  },
  {
   "cell_type": "code",
   "execution_count": 7,
   "metadata": {},
   "outputs": [
    {
     "name": "stdout",
     "output_type": "stream",
     "text": [
      "1 2 6 24 120 720\n"
     ]
    }
   ],
   "source": [
    "from itertools import accumulate\n",
    "\n",
    "def factorials(n):\n",
    "    return accumulate(range(1, n + 1), lambda x, y: x * y)\n",
    "\n",
    "\n",
    "numbers = factorials(6)\n",
    "\n",
    "print(*numbers)\n"
   ]
  },
  {
   "cell_type": "code",
   "execution_count": 8,
   "metadata": {},
   "outputs": [
    {
     "name": "stdout",
     "output_type": "stream",
     "text": [
      "1 A 2 B 3 C 4 D 5 E 6 F 7 G 8 H 9 I 10 J 11 K 12 L 13 M 14 N 15 O 16 P 17 Q 18 R 19 S 20 T 21 U 22 V 23 W 24 X 25 Y 26 Z 1 A 2\n"
     ]
    }
   ],
   "source": [
    "from itertools import cycle\n",
    "\n",
    "def alnum_sequence():\n",
    "    return cycle((elem for tuple in zip(range(1, 27), map(chr, range(ord('A'), ord('Z') + 1))) for elem in tuple))\n",
    "\n",
    "# Пример использования:\n",
    "alnum = alnum_sequence()\n",
    "print(*(next(alnum) for _ in range(55)))\n"
   ]
  },
  {
   "cell_type": "code",
   "execution_count": 1,
   "metadata": {},
   "outputs": [
    {
     "name": "stdout",
     "output_type": "stream",
     "text": [
      "4 8\n"
     ]
    }
   ],
   "source": [
    "from itertools import compress\n",
    "\n",
    "numbers = [1, -2, 3, 4, -5, -6, 7, 8, -9, -10]\n",
    "selectors = (i > 0 and i % 2 == 0 for i in numbers)\n",
    "\n",
    "print(*compress(numbers, selectors))"
   ]
  },
  {
   "cell_type": "code",
   "execution_count": 2,
   "metadata": {},
   "outputs": [
    {
     "name": "stdout",
     "output_type": "stream",
     "text": [
      "3 6 9\n"
     ]
    }
   ],
   "source": [
    "from itertools import cycle, compress\n",
    "\n",
    "numbers = [1, 2, 3, 4, 5, 6, 7, 8, 9, 10]\n",
    "every_third = cycle([False, False, True])\n",
    "\n",
    "print(*compress(numbers, every_third))"
   ]
  },
  {
   "cell_type": "code",
   "execution_count": 3,
   "metadata": {},
   "outputs": [
    {
     "name": "stdout",
     "output_type": "stream",
     "text": [
      "b e e g\n"
     ]
    }
   ],
   "source": [
    "from itertools import islice\n",
    "\n",
    "print(*islice('beegeek', 4))"
   ]
  },
  {
   "cell_type": "code",
   "execution_count": 4,
   "metadata": {},
   "outputs": [
    {
     "name": "stdout",
     "output_type": "stream",
     "text": [
      "e g e e\n"
     ]
    }
   ],
   "source": [
    "from itertools import islice\n",
    "\n",
    "print(*islice('beegeek', 2, 6))"
   ]
  },
  {
   "cell_type": "code",
   "execution_count": 5,
   "metadata": {},
   "outputs": [
    {
     "name": "stdout",
     "output_type": "stream",
     "text": [
      "s e i\n"
     ]
    }
   ],
   "source": [
    "from itertools import islice\n",
    "\n",
    "print(*islice('stepik', 0, 6, 2))"
   ]
  },
  {
   "cell_type": "code",
   "execution_count": 9,
   "metadata": {},
   "outputs": [
    {
     "name": "stdout",
     "output_type": "stream",
     "text": [
      "0 1 2 3\n",
      "0 1 2 3 -4 -5 -6\n"
     ]
    }
   ],
   "source": [
    "from itertools import dropwhile\n",
    "\n",
    "def drop_while_negative(iterable):\n",
    "    return dropwhile(lambda x: x < 0, iterable)\n",
    "    \n",
    "numbers = [-3, -2, -1, 0, 1, 2, 3]\n",
    "\n",
    "print(*drop_while_negative(numbers))\n",
    "\n",
    "iterator = iter([-3, -2, -1, 0, 1, 2, 3, -4, -5, -6])\n",
    "\n",
    "print(*drop_while_negative(iterator))"
   ]
  },
  {
   "cell_type": "code",
   "execution_count": 10,
   "metadata": {},
   "outputs": [
    {
     "name": "stdout",
     "output_type": "stream",
     "text": [
      "1 2 3\n"
     ]
    }
   ],
   "source": [
    "from itertools import dropwhile\n",
    "def drop_this(iterable, object):\n",
    "    return dropwhile(lambda x: x == object, iterable)\n",
    "\n",
    "\n",
    "numbers = [0, 0, 0, 1, 2, 3]\n",
    "\n",
    "print(*drop_this(numbers, 0))"
   ]
  },
  {
   "cell_type": "code",
   "execution_count": 12,
   "metadata": {},
   "outputs": [
    {
     "name": "stdout",
     "output_type": "stream",
     "text": [
      "2\n",
      "100\n",
      "69\n"
     ]
    }
   ],
   "source": [
    "from itertools import dropwhile\n",
    "\n",
    "def first_true(iterable, predicate):\n",
    "    if predicate is None:\n",
    "        predicate = bool\n",
    "    try:\n",
    "        return next(dropwhile(lambda x: not predicate(x), iterable))\n",
    "    except StopIteration:\n",
    "        return None\n",
    "\n",
    "\n",
    "numbers = [1, 1, 1, 1, 2, 4, 5, 6]\n",
    "\n",
    "print(first_true(numbers, lambda num: num % 2 == 0))\n",
    "\n",
    "numbers = iter([1, 1, 1, 1, 2, 4, 5, 6, 10, 100, 200])\n",
    "\n",
    "print(first_true(numbers, lambda num: num > 10))\n",
    "\n",
    "numbers = (0, 0, 0, 69, 1, 1, 1, 2, 4, 5, 6, 10, 100, 200)\n",
    "\n",
    "print(first_true(numbers, None))"
   ]
  },
  {
   "cell_type": "code",
   "execution_count": 14,
   "metadata": {},
   "outputs": [
    {
     "name": "stdout",
     "output_type": "stream",
     "text": [
      "0 1 2 3 4\n"
     ]
    }
   ],
   "source": [
    "from itertools import islice\n",
    "def take(iterable, n):\n",
    "    return islice(iterable, n)\n",
    "\n",
    "print(*take(range(10), 5))"
   ]
  },
  {
   "cell_type": "code",
   "execution_count": 32,
   "metadata": {},
   "outputs": [
    {
     "name": "stdout",
     "output_type": "stream",
     "text": [
      "33\n",
      "None\n"
     ]
    }
   ],
   "source": [
    "from itertools import islice\n",
    "\n",
    "def take_nth(iterable, n):\n",
    "    try:\n",
    "        return next(islice(iterable, n - 1, n))\n",
    "    except Exception:\n",
    "        return None\n",
    "\n",
    "numbers = [11, 22, 33, 44, 55]\n",
    "\n",
    "print(take_nth(numbers, 3))\n",
    "\n",
    "iterator = iter('beegeek')\n",
    "\n",
    "print(take_nth(iterator, 10))"
   ]
  },
  {
   "cell_type": "code",
   "execution_count": 33,
   "metadata": {},
   "outputs": [
    {
     "name": "stdout",
     "output_type": "stream",
     "text": [
      "b e e g e e k\n"
     ]
    }
   ],
   "source": [
    "from itertools import chain\n",
    "\n",
    "print(*chain.from_iterable(['bee', 'geek']))"
   ]
  },
  {
   "cell_type": "code",
   "execution_count": 34,
   "metadata": {},
   "outputs": [
    {
     "name": "stdout",
     "output_type": "stream",
     "text": [
      "[1, 2, 3] [4, 5, 6] [7, 8, 9]\n",
      "1 2 3 4 5 6 7 8 9\n"
     ]
    }
   ],
   "source": [
    "from itertools import chain\n",
    "\n",
    "print(*chain([[1,2,3],[4,5,6],[7,8,9]]))\n",
    "\n",
    "print(*chain.from_iterable([[1,2,3],[4,5,6],[7,8,9]]))"
   ]
  },
  {
   "cell_type": "code",
   "execution_count": 35,
   "metadata": {},
   "outputs": [
    {
     "name": "stdout",
     "output_type": "stream",
     "text": [
      "<class 'tuple'> 2\n"
     ]
    }
   ],
   "source": [
    "from itertools import tee\n",
    "\n",
    "iters = tee('beegeek')\n",
    "\n",
    "print(type(iters), len(iters))"
   ]
  },
  {
   "cell_type": "code",
   "execution_count": 36,
   "metadata": {},
   "outputs": [
    {
     "name": "stdout",
     "output_type": "stream",
     "text": [
      "3\n",
      "6\n"
     ]
    }
   ],
   "source": [
    "from itertools import tee\n",
    "\n",
    "iters = tee([1, 2, 3], 3)\n",
    "\n",
    "totals = map(lambda a, b, c: a + b + c, *iters)\n",
    "\n",
    "print(next(totals))\n",
    "print(next(totals))"
   ]
  },
  {
   "cell_type": "code",
   "execution_count": 41,
   "metadata": {},
   "outputs": [
    {
     "name": "stdout",
     "output_type": "stream",
     "text": [
      "46\n"
     ]
    }
   ],
   "source": [
    "from itertools import chain\n",
    "\n",
    "def sum_of_digits(iterable):\n",
    "    return sum(map(int, chain.from_iterable(map(str, iterable))))\n",
    "    \n",
    "\n",
    "print(sum_of_digits((1, 2, 3, 4, 5, 6, 7, 8, 9, 10)))"
   ]
  },
  {
   "cell_type": "code",
   "execution_count": 42,
   "metadata": {},
   "outputs": [
    {
     "name": "stdout",
     "output_type": "stream",
     "text": [
      "True\n"
     ]
    }
   ],
   "source": [
    "from itertools import pairwise\n",
    "\n",
    "def is_rising(iterable):\n",
    "    differences = map(lambda x: x[1] > x[0], pairwise(iterable))\n",
    "    return all(differences)\n",
    "\n",
    "\n",
    "iterator = iter(list(range(100, 200)))\n",
    "\n",
    "print(is_rising(iterator))"
   ]
  },
  {
   "cell_type": "code",
   "execution_count": 43,
   "metadata": {},
   "outputs": [
    {
     "name": "stdout",
     "output_type": "stream",
     "text": [
      "1 2 3 4 1 2 3 4 1 2 3 4\n"
     ]
    }
   ],
   "source": [
    "from itertools import chain, tee\n",
    "\n",
    "def ncycles(iterable, times):\n",
    "    iterables = tee(iterable, times)\n",
    "    return chain(*iterables)\n",
    "\n",
    "\n",
    "print(*ncycles([1, 2, 3, 4], 3))"
   ]
  },
  {
   "cell_type": "code",
   "execution_count": 44,
   "metadata": {},
   "outputs": [
    {
     "name": "stdout",
     "output_type": "stream",
     "text": [
      "(1, 2, 3) (4, 5, 6) (7, None, None)\n"
     ]
    }
   ],
   "source": [
    "from itertools import zip_longest\n",
    "\n",
    "def grouper(iterable, n):\n",
    "    args = [iter(iterable)] * n\n",
    "    return zip_longest(*args, fillvalue=None)\n",
    "\n",
    "\n",
    "iterator = iter([1, 2, 3, 4, 5, 6, 7])\n",
    "\n",
    "print(*grouper(iterator, 3))\n"
   ]
  },
  {
   "cell_type": "code",
   "execution_count": 45,
   "metadata": {},
   "outputs": [
    {
     "name": "stdout",
     "output_type": "stream",
     "text": [
      "7 6\n",
      "1 1 5\n",
      "10 11\n",
      "2 3 4\n"
     ]
    }
   ],
   "source": [
    "from itertools import groupby\n",
    "\n",
    "key_func = lambda x: x > 5\n",
    "numbers = [7, 6, 1, 1, 5, 10, 11, 2, 3, 4]\n",
    "\n",
    "groups = groupby(numbers, key=key_func)\n",
    "\n",
    "for _, group in groups:\n",
    "    print(*group)"
   ]
  },
  {
   "cell_type": "code",
   "execution_count": 46,
   "metadata": {},
   "outputs": [
    {
     "name": "stdout",
     "output_type": "stream",
     "text": [
      "2 4 6 8 10\n",
      "1 3 5 7 9\n"
     ]
    }
   ],
   "source": [
    "from itertools import groupby\n",
    "\n",
    "key_func = lambda x: x % 2\n",
    "numbers = [1, 2, 3, 4, 5, 6, 7, 8, 9, 10]\n",
    "\n",
    "groups = groupby(sorted(numbers, key=key_func), key=key_func)\n",
    "\n",
    "for _, group in groups:\n",
    "    print(*group)"
   ]
  },
  {
   "cell_type": "code",
   "execution_count": 48,
   "metadata": {},
   "outputs": [
    {
     "name": "stdout",
     "output_type": "stream",
     "text": [
      "a 3\n"
     ]
    }
   ],
   "source": [
    "from itertools import groupby\n",
    "\n",
    "groups = groupby('aaabbbcccaabb')\n",
    "\n",
    "key, group = next(groups)\n",
    "\n",
    "print(key, len(list(group)))"
   ]
  },
  {
   "cell_type": "code",
   "execution_count": 49,
   "metadata": {},
   "outputs": [
    {
     "name": "stdout",
     "output_type": "stream",
     "text": [
      "b ['b', 'b', 'b']\n"
     ]
    }
   ],
   "source": [
    "from itertools import groupby\n",
    "\n",
    "groups = groupby('aaabbbcccaabb')\n",
    "\n",
    "key1, group1 = next(groups)\n",
    "key2, group2 = next(groups)\n",
    "\n",
    "print(key2, list(group2))"
   ]
  },
  {
   "cell_type": "code",
   "execution_count": 50,
   "metadata": {},
   "outputs": [
    {
     "name": "stdout",
     "output_type": "stream",
     "text": [
      "a []\n"
     ]
    }
   ],
   "source": [
    "from itertools import groupby\n",
    "\n",
    "groups = groupby('aaabbbcccaabb')\n",
    "\n",
    "key1, group1 = next(groups)\n",
    "key2, group2 = next(groups)\n",
    "\n",
    "print(key1, list(group1))"
   ]
  },
  {
   "cell_type": "code",
   "execution_count": 51,
   "metadata": {},
   "outputs": [
    {
     "name": "stdout",
     "output_type": "stream",
     "text": [
      "158: Ariana, Eva\n",
      "172: Mark\n",
      "184: Ryan\n",
      "193: Alex, Jeff, Liam, Tim\n"
     ]
    }
   ],
   "source": [
    "from collections import namedtuple\n",
    "from itertools import groupby\n",
    "\n",
    "Person = namedtuple('Person', ['name', 'age', 'height'])\n",
    "\n",
    "persons = [Person('Tim', 63, 193), Person('Eva', 47, 158),\n",
    "           Person('Mark', 71, 172), Person('Alex', 45, 193),\n",
    "           Person('Jeff', 63, 193), Person('Ryan', 41, 184),\n",
    "           Person('Ariana', 28, 158), Person('Liam', 69, 193)]\n",
    "\n",
    "persons.sort(key=lambda person: person.height)\n",
    "\n",
    "grouped_persons = groupby(persons, key=lambda person: person.height)\n",
    "\n",
    "for height, group in grouped_persons:\n",
    "    names = ', '.join(sorted(person.name for person in group))\n",
    "    print(f\"{height}: {names}\")\n"
   ]
  },
  {
   "cell_type": "code",
   "execution_count": 52,
   "metadata": {},
   "outputs": [
    {
     "name": "stdout",
     "output_type": "stream",
     "text": [
      "Илья\n"
     ]
    }
   ],
   "source": [
    "from collections import namedtuple, Counter\n",
    "from itertools import groupby\n",
    "\n",
    "Student = namedtuple('Student', ['surname', 'name', 'grade'])\n",
    "\n",
    "students = [Student('Гагиев', 'Александр', 10), Student('Дедегкаев', 'Илья', 11), Student('Кодзаев', 'Георгий', 10),\n",
    "            Student('Набокова', 'Алиса', 11), Student('Кораев', 'Артур', 10), Student('Шилин', 'Александр', 11),\n",
    "            Student('Уртаева', 'Илина', 11), Student('Салбиев', 'Максим', 10), Student('Капустин', 'Илья', 11),\n",
    "            Student('Гудцев', 'Таймураз', 11), Student('Перчиков', 'Максим', 10), Student('Чен', 'Илья', 11),\n",
    "            Student('Елькина', 'Мария', 11),Student('Макоев', 'Руслан', 11), Student('Албегов', 'Хетаг', 11),\n",
    "            Student('Щербак', 'Илья', 10), Student('Идрисов', 'Баграт', 11), Student('Гапбаев', 'Герман', 10),\n",
    "            Student('Цивинская', 'Анна', 10), Student('Туткевич', 'Юрий', 11), Student('Мусиков', 'Андраник', 11),\n",
    "            Student('Гадзиев', 'Георгий', 11), Student('Белов', 'Юрий', 11), Student('Акоева', 'Диана', 11),\n",
    "            Student('Денисов', 'Илья', 11), Student('Букулова', 'Диана', 10), Student('Акоева', 'Лера', 11)]\n",
    "\n",
    "name_counter = Counter(student.name for student in students)\n",
    "\n",
    "most_common_name = name_counter.most_common(1)[0][0]\n",
    "\n",
    "print(most_common_name)"
   ]
  },
  {
   "cell_type": "code",
   "execution_count": 53,
   "metadata": {},
   "outputs": [
    {
     "name": "stdout",
     "output_type": "stream",
     "text": [
      "ЕГЭ Математика:\n",
      "    1. доделать курс по параметрам\n",
      "\n",
      "Курс по ооп:\n",
      "    1. обсудить темы\n",
      "    2. обсудить задачи\n",
      "\n",
      "Ответы на вопросы:\n",
      "    1. ответить на вопросы в дискорде\n",
      "    2. ответить на вопросы в курсах\n",
      "\n",
      "Отдых:\n",
      "    1. погулять утром\n",
      "    2. погулять днем\n",
      "    3. поспать днем\n",
      "    4. погулять вечером\n",
      "\n",
      "Уборка:\n",
      "    1. убраться в комнате\n",
      "    2. убраться в ванной\n",
      "    3. убраться на кухне\n",
      "\n",
      "Урок по groupby:\n",
      "    1. написать конспект\n",
      "    2. добавить тестовые задачи\n",
      "    3. добавить задачи на программирование\n",
      "\n"
     ]
    }
   ],
   "source": [
    "from itertools import groupby\n",
    "\n",
    "tasks = [('Отдых', 'поспать днем', 3),\n",
    "        ('Ответы на вопросы', 'ответить на вопросы в дискорде', 1),\n",
    "        ('ЕГЭ Математика', 'доделать курс по параметрам', 1),\n",
    "        ('Ответы на вопросы', 'ответить на вопросы в курсах', 2),\n",
    "        ('Отдых', 'погулять вечером', 4),\n",
    "        ('Курс по ооп', 'обсудить темы', 1),\n",
    "        ('Урок по groupby', 'добавить задачи на программирование', 3),\n",
    "        ('Урок по groupby', 'написать конспект', 1),\n",
    "        ('Отдых', 'погулять днем', 2),\n",
    "        ('Урок по groupby', 'добавить тестовые задачи', 2),\n",
    "        ('Уборка', 'убраться в ванной', 2),\n",
    "        ('Уборка', 'убраться в комнате', 1),\n",
    "        ('Уборка', 'убраться на кухне', 3),\n",
    "        ('Отдых', 'погулять утром', 1),\n",
    "        ('Курс по ооп', 'обсудить задачи', 2)]\n",
    "\n",
    "tasks.sort(key=lambda x: (x[0], x[2]))\n",
    "\n",
    "grouped_tasks = groupby(tasks, key=lambda x: x[0])\n",
    "\n",
    "for task, group in grouped_tasks:\n",
    "    print(f\"{task}:\")\n",
    "    for _, action, order in sorted(group, key=lambda x: x[2]):\n",
    "        print(f\"    {order}. {action}\")\n",
    "    print()"
   ]
  },
  {
   "cell_type": "code",
   "execution_count": 54,
   "metadata": {},
   "outputs": [
    {
     "name": "stdout",
     "output_type": "stream",
     "text": [
      "('сеточка', 'тесачок', 'стоечка') ('крона', 'норка') ('лучик', 'чулки')\n"
     ]
    }
   ],
   "source": [
    "from itertools import groupby\n",
    "\n",
    "def group_anagrams(words):\n",
    "    sorted_words = sorted(words, key=lambda x: ''.join(sorted(x)))\n",
    "    grouped_anagrams = groupby(sorted_words, key=lambda x: ''.join(sorted(x)))\n",
    "    return tuple(tuple(group) for _, group in grouped_anagrams)\n",
    "\n",
    "\n",
    "groups = group_anagrams(['крона', 'сеточка', 'тесачок', 'лучик', 'стоечка', 'норка', 'чулки'])\n",
    "\n",
    "print(*groups)"
   ]
  },
  {
   "cell_type": "code",
   "execution_count": 56,
   "metadata": {},
   "outputs": [
    {
     "name": "stdout",
     "output_type": "stream",
     "text": [
      "24\n"
     ]
    }
   ],
   "source": [
    "from itertools import permutations\n",
    "print(len(list(permutations(range(4)))))"
   ]
  },
  {
   "cell_type": "code",
   "execution_count": 57,
   "metadata": {},
   "outputs": [
    {
     "name": "stdout",
     "output_type": "stream",
     "text": [
      "(1, 2, 3) (1, 3, 2) (2, 1, 3) (2, 3, 1) (3, 1, 2) (3, 2, 1)\n"
     ]
    }
   ],
   "source": [
    "from itertools import permutations\n",
    "\n",
    "numbers = [1, 2, 3]\n",
    "\n",
    "print(*permutations(numbers))"
   ]
  },
  {
   "cell_type": "code",
   "execution_count": 58,
   "metadata": {},
   "outputs": [
    {
     "name": "stdout",
     "output_type": "stream",
     "text": [
      "(1, 2) (1, 3) (2, 3)\n"
     ]
    }
   ],
   "source": [
    "from itertools import combinations\n",
    "\n",
    "numbers = [1, 2, 3]\n",
    "\n",
    "print(*combinations(numbers, 2))"
   ]
  },
  {
   "cell_type": "code",
   "execution_count": 59,
   "metadata": {},
   "outputs": [
    {
     "name": "stdout",
     "output_type": "stream",
     "text": [
      "dfffss\n",
      "dffsfs\n",
      "dffssf\n",
      "dfsffs\n",
      "dfsfsf\n",
      "dfssff\n",
      "dsfffs\n",
      "dsffsf\n",
      "dsfsff\n",
      "dssfff\n",
      "fdffss\n",
      "fdfsfs\n",
      "fdfssf\n",
      "fdsffs\n",
      "fdsfsf\n",
      "fdssff\n",
      "ffdfss\n",
      "ffdsfs\n",
      "ffdssf\n",
      "fffdss\n",
      "fffsds\n",
      "fffssd\n",
      "ffsdfs\n",
      "ffsdsf\n",
      "ffsfds\n",
      "ffsfsd\n",
      "ffssdf\n",
      "ffssfd\n",
      "fsdffs\n",
      "fsdfsf\n",
      "fsdsff\n",
      "fsfdfs\n",
      "fsfdsf\n",
      "fsffds\n",
      "fsffsd\n",
      "fsfsdf\n",
      "fsfsfd\n",
      "fssdff\n",
      "fssfdf\n",
      "fssffd\n",
      "sdfffs\n",
      "sdffsf\n",
      "sdfsff\n",
      "sdsfff\n",
      "sfdffs\n",
      "sfdfsf\n",
      "sfdsff\n",
      "sffdfs\n",
      "sffdsf\n",
      "sfffds\n",
      "sfffsd\n",
      "sffsdf\n",
      "sffsfd\n",
      "sfsdff\n",
      "sfsfdf\n",
      "sfsffd\n",
      "ssdfff\n",
      "ssfdff\n",
      "ssffdf\n",
      "ssfffd\n"
     ]
    }
   ],
   "source": [
    "# put your python code here\n",
    "from itertools import permutations\n",
    "\n",
    "def unique_permutations(s):\n",
    "    result = set(permutations(s))\n",
    "    return sorted(''.join(perm) for perm in result)\n",
    "\n",
    "input_string = input()\n",
    "\n",
    "permutations = unique_permutations(input_string)\n",
    "for perm in permutations:\n",
    "    print(perm)"
   ]
  },
  {
   "cell_type": "code",
   "execution_count": 64,
   "metadata": {},
   "outputs": [
    {
     "name": "stdout",
     "output_type": "stream",
     "text": [
      "16\n"
     ]
    }
   ],
   "source": [
    "from itertools import combinations\n",
    "\n",
    "def count_ways_to_pay(target_amount, wallet):\n",
    "    ways_set = set()\n",
    "\n",
    "    for i in range(1, len(wallet) + 1):\n",
    "        for combination in combinations(wallet, i):\n",
    "            if sum(combination) == target_amount:\n",
    "                ways_set.add(tuple(sorted(combination)))\n",
    "\n",
    "    return len(ways_set)\n",
    "\n",
    "wallet = [100, 100, 50, 50, 50, 50, 20, 20, 20, 10, 10, 10, 10, 10, 5, 5, 1, 1, 1, 1, 1]\n",
    "target_amount = 100\n",
    "\n",
    "result = count_ways_to_pay(target_amount, wallet)\n",
    "print(result)\n"
   ]
  },
  {
   "cell_type": "code",
   "execution_count": 75,
   "metadata": {},
   "outputs": [
    {
     "name": "stdout",
     "output_type": "stream",
     "text": [
      "a1 a2 a3 a4 a5 a6 a7 a8 b1 b2 b3 b4 b5 b6 b7 b8 c1 c2 c3 c4 c5 c6 c7 c8 d1 d2 d3 d4 d5 d6 d7 d8 e1 e2 e3 e4 e5 e6 e7 e8 f1 f2 f3 f4 f5 f6 f7 f8 g1 g2 g3 g4 g5 g6 g7 g8 h1 h2 h3 h4 h5 h6 h7 h8 "
     ]
    }
   ],
   "source": [
    "from string import ascii_lowercase\n",
    "from itertools import product\n",
    "\n",
    "letters = ascii_lowercase[:8]\n",
    "digits = [1, 2, 3, 4, 5, 6, 7, 8]\n",
    "\n",
    "\n",
    "        \n",
    "for elem in list(product(letters, digits)):\n",
    "    print(*elem, sep='', end=' ')"
   ]
  },
  {
   "cell_type": "code",
   "execution_count": null,
   "metadata": {},
   "outputs": [],
   "source": []
  }
 ],
 "metadata": {
  "kernelspec": {
   "display_name": ".venv",
   "language": "python",
   "name": "python3"
  },
  "language_info": {
   "codemirror_mode": {
    "name": "ipython",
    "version": 3
   },
   "file_extension": ".py",
   "mimetype": "text/x-python",
   "name": "python",
   "nbconvert_exporter": "python",
   "pygments_lexer": "ipython3",
   "version": "3.11.2"
  }
 },
 "nbformat": 4,
 "nbformat_minor": 2
}
