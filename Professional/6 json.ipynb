{
 "cells": [
  {
   "cell_type": "code",
   "execution_count": null,
   "metadata": {},
   "outputs": [],
   "source": [
    "import json\n",
    "\n",
    "club1 = {\"name\": \"FC Byern Munchen\", \"country\": \"Germany\", \"founded\": 1900,\n",
    "         \"trainer\": \"Julian Nagelsmann\", \"goalkeeper\": \"M. Neuer\", \"league_position\": 1}\n",
    "\n",
    "club2 = {\"name\": \"FC Barcelona\", \"country\": \"Spain\", \"founded\": 1899,\n",
    "         \"trainer\": \"Xavier Creus\", \"goalkeeper\": \"M. Ter Stegen\", \"league_position\": 7}\n",
    "\n",
    "club3 = {\"name\": \"FC Manchester United\", \"country\": \"England\", \"founded\": 1878,\n",
    "         \"trainer\": \"Michael Carrick\", \"goalkeeper\": \"D. De Gea\", \"league_position\": 8}\n",
    "\n",
    "club_result = [club1, club2, club3]\n",
    "\n",
    "club_json = json.dumps(club_result, indent='   ')\n",
    "\n",
    "print(club_json)"
   ]
  },
  {
   "cell_type": "code",
   "execution_count": null,
   "metadata": {},
   "outputs": [],
   "source": [
    "import json\n",
    "\n",
    "specs = {\n",
    "         'Модель': 'AMD Ryzen 5 5600G',\n",
    "         'Год релиза': 2021,\n",
    "         'Сокет': 'AM4',\n",
    "         'Техпроцесс': '7 нм',\n",
    "         'Ядро': 'Cezanne',\n",
    "         'Объем кэша L2': '3 МБ',\n",
    "         'Объем кэша L3': '16 МБ',\n",
    "         'Базовая частота': '3900 МГц'\n",
    "        }\n",
    "\n",
    "specs_json = json.dumps(specs, ensure_ascii=False, indent='   ')\n",
    "\n",
    "print(specs_json)"
   ]
  },
  {
   "cell_type": "code",
   "execution_count": null,
   "metadata": {},
   "outputs": [],
   "source": [
    "def is_correct_json(string):\n",
    "    try:\n",
    "        json.dumps(string)\n",
    "        return True\n",
    "    except json.JSONDecodeError:\n",
    "        return False"
   ]
  },
  {
   "cell_type": "code",
   "execution_count": null,
   "metadata": {},
   "outputs": [],
   "source": [
    "import json\n",
    "import sys\n",
    "\n",
    "def print_json_pairs(data):\n",
    "    for key, value in data.items():\n",
    "        if isinstance(value, list):\n",
    "            value_str = ', '.join(map(str, value))\n",
    "            print(f\"{key}: {value_str}\")\n",
    "        else:\n",
    "            print(f\"{key}: {value}\")\n",
    "\n",
    "\n",
    "input_data = sys.stdin.read() \n",
    "print_json_pairs(json.loads(input_data)) \n"
   ]
  },
  {
   "cell_type": "code",
   "execution_count": null,
   "metadata": {},
   "outputs": [],
   "source": [
    "import json\n",
    "\n",
    "with open('data.json', 'r', encoding='utf-8') as file:\n",
    "    data = json.load(file)\n",
    "\n",
    "def transform_object(obj):\n",
    "    if isinstance(obj, bool):\n",
    "        return not obj\n",
    "    elif isinstance(obj, str):\n",
    "        return obj + \"!\"\n",
    "    elif isinstance(obj, int):\n",
    "        return obj + 1\n",
    "    elif isinstance(obj, list):\n",
    "        return obj + obj\n",
    "    elif isinstance(obj, dict):\n",
    "        obj[\"newkey\"] = None\n",
    "        return obj\n",
    "    else:\n",
    "        return obj\n",
    "\n",
    "updated_data = [transform_object(obj) for obj in data if obj is not None]\n",
    "\n",
    "with open('updated_data.json', 'w', encoding='utf-8') as updated_file:\n",
    "    json.dump(updated_data, updated_file, ensure_ascii=False)\n",
    "\n"
   ]
  },
  {
   "cell_type": "code",
   "execution_count": null,
   "metadata": {},
   "outputs": [],
   "source": [
    "import json\n",
    "\n",
    "with open('data1.json', 'r') as file1:\n",
    "    data1 = json.load(file1)\n",
    "\n",
    "with open('data2.json', 'r') as file2:\n",
    "    data2 = json.load(file2)\n",
    "    \n",
    "data_total = data1.copy()\n",
    "\n",
    "data_total.update(data2)\n",
    "\n",
    "with open('data_merge.json', 'w') as result:\n",
    "    json.dump(data_total, result)\n",
    "\n"
   ]
  },
  {
   "cell_type": "code",
   "execution_count": null,
   "metadata": {},
   "outputs": [],
   "source": [
    "import json\n",
    "\n",
    "with open('people.json', 'r', encoding='utf-8') as file:\n",
    "    data = json.load(file)\n",
    "\n",
    "def update_object(obj, keys):\n",
    "    for key in keys:\n",
    "        if key not in obj:\n",
    "            obj[key] = None\n",
    "    return obj\n",
    "\n",
    "all_keys = set()\n",
    "for obj in data:\n",
    "    all_keys.update(obj.keys())\n",
    "\n",
    "updated_data = [update_object(obj, all_keys) for obj in data]\n",
    "\n",
    "with open('updated_people.json', 'w', encoding='utf-8') as updated_file:\n",
    "    json.dump(updated_data, updated_file, ensure_ascii=False, indent=3)\n"
   ]
  },
  {
   "cell_type": "code",
   "execution_count": null,
   "metadata": {},
   "outputs": [],
   "source": [
    "import json\n",
    "\n",
    "with open('countries.json', 'r') as file:\n",
    "    countries = json.load(file)\n",
    "\n",
    "result = {}\n",
    "\n",
    "for entry in countries:\n",
    "    country = entry[\"country\"]\n",
    "    religion = entry[\"religion\"]\n",
    "    if religion in result:\n",
    "        result[religion].append(country)\n",
    "    else:\n",
    "        result[religion] = [country]\n",
    "        \n",
    "with open('religion.json', 'w', encoding='utf-8') as religion_file:\n",
    "    json.dump(result, religion_file, ensure_ascii=False, indent=3)\n",
    "    "
   ]
  },
  {
   "cell_type": "code",
   "execution_count": null,
   "metadata": {},
   "outputs": [],
   "source": [
    "import pandas as pd \n",
    "\n",
    "playgrounds = pd.read_csv('/Users/magewade/Desktop/Python/Professional/playgrounds.csv', delimiter=';')\n",
    "\n",
    "\n",
    "result = {}\n",
    "\n",
    "playgrounds_grouped = playgrounds.groupby(['AdmArea', 'District'])['Address'].apply(list).reset_index()\n",
    "\n",
    "for index, row in playgrounds_grouped.iterrows():\n",
    "    adm_area, district, addresses = row\n",
    "    if adm_area not in result:\n",
    "        result[adm_area] = {}\n",
    "    result[adm_area][district] = addresses\n",
    "\n",
    "\n",
    "with open('addresses.json', 'w', encoding='utf-8') as jsonfile:\n",
    "    json.dump(result, jsonfile, ensure_ascii=False, indent=3)\n",
    "\n"
   ]
  },
  {
   "cell_type": "code",
   "execution_count": 22,
   "metadata": {},
   "outputs": [
    {
     "name": "stdout",
     "output_type": "stream",
     "text": [
      "         name           phone\n",
      "5        Cary  (580) 476-8517\n",
      "14   Catarina  (237) 608-2757\n",
      "26   Catherin  (876) 215-3666\n",
      "91      Cathi  (538) 647-2566\n",
      "113  Cathrine  (364) 950-2365\n",
      "..        ...             ...\n",
      "75      Issie  (589) 771-5713\n",
      "44       Issy  (877) 793-8213\n",
      "9       Ivett  (441) 582-9160\n",
      "72     Ivette  (606) 674-3658\n",
      "2         Ivy  (450) 822-9827\n",
      "\n",
      "[128 rows x 2 columns]\n"
     ]
    }
   ],
   "source": [
    "import pandas as pd \n",
    "import json\n",
    "\n",
    "with open('students.json', 'r', encoding='utf-8') as file:\n",
    "    students = json.load(file)\n",
    "\n",
    "students_csv = pd.DataFrame(columns=['name', 'phone'])\n",
    "    \n",
    "for student in students:\n",
    "    if (student['age'] >= 18 and student['progress'] >= 75):\n",
    "        new_row = {'name' : student['name'], 'phone' : student['phone']}\n",
    "        students_csv.loc[len(students_csv)] = new_row\n",
    "    \n",
    "students_csv = students_csv.sort_values(by='name')\n",
    "\n",
    "students_csv.to_csv('data.csv', sep=',', encoding='utf-8', index=False)\n"
   ]
  },
  {
   "cell_type": "code",
   "execution_count": 21,
   "metadata": {},
   "outputs": [
    {
     "name": "stdout",
     "output_type": "stream",
     "text": [
      "70x20\n",
      "Новоостаповская улица, дом 5, строение 2\n"
     ]
    }
   ],
   "source": [
    "import json\n",
    "\n",
    "# Открываем и читаем файл pools.json\n",
    "with open('pools.json', 'r', encoding='utf-8') as json_file:\n",
    "    pools_data = json.load(json_file)\n",
    "\n",
    "# Функция для проверки, работает ли бассейн в нужное время\n",
    "def is_open(pool):\n",
    "    working_hours = pool['WorkingHoursSummer']\n",
    "    if \"Понедельник\" in working_hours:\n",
    "        start_time, end_time = working_hours[\"Понедельник\"].split('-')\n",
    "        return \"10:00\" >= start_time and end_time >= \"12:00\"\n",
    "    return False\n",
    "\n",
    "# Фильтруем бассейны, которые работают в нужное время\n",
    "suitable_pools = list(filter(is_open, pools_data))\n",
    "\n",
    "if suitable_pools:\n",
    "    # Сортируем бассейны по длине в убывающем порядке, а затем по ширине\n",
    "    sorted_pools = sorted(suitable_pools, key=lambda x: (x['DimensionsSummer']['Length'], x['DimensionsSummer']['Width']), reverse=True)\n",
    "\n",
    "    # Выбираем первый бассейн после сортировки\n",
    "    best_pool = sorted_pools[0]\n",
    "\n",
    "    # Выводим размеры и адрес лучшего бассейна\n",
    "    dimensions = f\"{best_pool['DimensionsSummer']['Length']}x{best_pool['DimensionsSummer']['Width']}\"\n",
    "    address = best_pool['Address']\n",
    "\n",
    "    print(dimensions)\n",
    "    print(address)\n",
    "else:\n",
    "    print(\"Нет подходящих бассейнов.\")\n"
   ]
  },
  {
   "cell_type": "code",
   "execution_count": 22,
   "metadata": {},
   "outputs": [
    {
     "data": {
      "text/plain": [
       "40.0"
      ]
     },
     "execution_count": 22,
     "metadata": {},
     "output_type": "execute_result"
    }
   ],
   "source": [
    "10/25*100"
   ]
  },
  {
   "cell_type": "code",
   "execution_count": null,
   "metadata": {},
   "outputs": [],
   "source": []
  }
 ],
 "metadata": {
  "kernelspec": {
   "display_name": ".venv",
   "language": "python",
   "name": "python3"
  },
  "language_info": {
   "codemirror_mode": {
    "name": "ipython",
    "version": 3
   },
   "file_extension": ".py",
   "mimetype": "text/x-python",
   "name": "python",
   "nbconvert_exporter": "python",
   "pygments_lexer": "ipython3",
   "version": "3.11.2"
  }
 },
 "nbformat": 4,
 "nbformat_minor": 2
}
