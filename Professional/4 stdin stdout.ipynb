{
 "cells": [
  {
   "cell_type": "code",
   "execution_count": null,
   "metadata": {},
   "outputs": [],
   "source": [
    "import sys\n",
    "\n",
    "# Считываем все введенные строки в список\n",
    "input_strings = sys.stdin.readlines()\n",
    "\n",
    "# Вывод инвертированных строк в том же порядке, в котором они были введены\n",
    "for string in input_strings:\n",
    "    reversed_string = string.rstrip()[::-1]  # Инвертируем строку и удаляем символ новой строки\n",
    "    print(reversed_string)\n"
   ]
  },
  {
   "cell_type": "code",
   "execution_count": null,
   "metadata": {},
   "outputs": [],
   "source": [
    "import sys\n",
    "\n",
    "# Считываем все введенные строки в список\n",
    "input_strings = sys.stdin.readlines()\n",
    "\n",
    "# Вывод инвертированных строк в том же порядке, в котором они были введены\n",
    "for string in input_strings:\n",
    "    reversed_string = string.rstrip()[::-1]  # Инвертируем строку и удаляем символ новой строки\n",
    "    print(reversed_string)\n"
   ]
  },
  {
   "cell_type": "code",
   "execution_count": null,
   "metadata": {},
   "outputs": [],
   "source": [
    "import sys\n",
    "from datetime import datetime\n",
    "\n",
    "dates = sys.stdin.readlines()\n",
    "min_date = None\n",
    "max_date = None\n",
    "\n",
    "for raw_date in dates:\n",
    "    raw_date = raw_date.strip()\n",
    "    date = datetime.strptime(raw_date, \"%Y-%m-%d\")\n",
    "\n",
    "    if min_date is None or date < min_date:\n",
    "        min_date = date\n",
    "    if max_date is None or date > max_date:\n",
    "        max_date = date\n",
    "\n",
    "delta = max_date - min_date\n",
    "print(delta.days)\n"
   ]
  },
  {
   "cell_type": "code",
   "execution_count": 1,
   "metadata": {},
   "outputs": [
    {
     "ename": "ValueError",
     "evalue": "invalid literal for int() with base 10: ''",
     "output_type": "error",
     "traceback": [
      "\u001b[0;31m---------------------------------------------------------------------------\u001b[0m",
      "\u001b[0;31mValueError\u001b[0m                                Traceback (most recent call last)",
      "\u001b[1;32m/Users/magewade/Desktop/Python/Professional/4 stdin stdout.ipynb Cell 4\u001b[0m line \u001b[0;36m1\n\u001b[1;32m     <a href='vscode-notebook-cell:/Users/magewade/Desktop/Python/Professional/4%20stdin%20stdout.ipynb#W3sZmlsZQ%3D%3D?line=15'>16</a>\u001b[0m \u001b[39mwhile\u001b[39;00m \u001b[39mTrue\u001b[39;00m:\n\u001b[1;32m     <a href='vscode-notebook-cell:/Users/magewade/Desktop/Python/Professional/4%20stdin%20stdout.ipynb#W3sZmlsZQ%3D%3D?line=16'>17</a>\u001b[0m     \u001b[39mtry\u001b[39;00m:\n\u001b[0;32m---> <a href='vscode-notebook-cell:/Users/magewade/Desktop/Python/Professional/4%20stdin%20stdout.ipynb#W3sZmlsZQ%3D%3D?line=17'>18</a>\u001b[0m         socks \u001b[39m=\u001b[39m \u001b[39mint\u001b[39;49m(\u001b[39minput\u001b[39;49m())\n\u001b[1;32m     <a href='vscode-notebook-cell:/Users/magewade/Desktop/Python/Professional/4%20stdin%20stdout.ipynb#W3sZmlsZQ%3D%3D?line=18'>19</a>\u001b[0m         socks_moves\u001b[39m.\u001b[39mappend(socks)\n\u001b[1;32m     <a href='vscode-notebook-cell:/Users/magewade/Desktop/Python/Professional/4%20stdin%20stdout.ipynb#W3sZmlsZQ%3D%3D?line=19'>20</a>\u001b[0m     \u001b[39mexcept\u001b[39;00m \u001b[39mEOFError\u001b[39;00m:\n",
      "\u001b[0;31mValueError\u001b[0m: invalid literal for int() with base 10: ''"
     ]
    }
   ],
   "source": [
    "def determine_winner(socks_moves):\n",
    "    # Переменная для отслеживания, кто сделал последний ход (0 - Анри, 1 - Дима)\n",
    "    last_player = 0\n",
    "\n",
    "    # Проходим по каждому ходу\n",
    "    for socks in socks_moves:\n",
    "        if socks % 2 == 0:\n",
    "            # Если текущее количество носков четное, то победитель - текущий игрок\n",
    "            return \"Анри\" if last_player == 0 else \"Дима\"\n",
    "        else:\n",
    "            # Иначе, переключаемся на другого игрока\n",
    "            last_player = 1 - last_player\n",
    "\n",
    "# Чтение вводных данных\n",
    "socks_moves = []\n",
    "while True:\n",
    "    try:\n",
    "        socks = int(input())\n",
    "        socks_moves.append(socks)\n",
    "    except EOFError:\n",
    "        break\n",
    "\n",
    "# Определение победителя\n",
    "winner = determine_winner(socks_moves)\n",
    "\n",
    "# Вывод результата\n",
    "print(winner)\n"
   ]
  },
  {
   "cell_type": "code",
   "execution_count": 2,
   "metadata": {},
   "outputs": [
    {
     "name": "stdout",
     "output_type": "stream",
     "text": [
      "1\n",
      "3\n",
      "5\n",
      "10\n",
      "3\n",
      "2\n",
      "12\n",
      "Анри\n"
     ]
    }
   ],
   "source": [
    "import sys\n",
    "\n",
    "def determine_winner(socks_moves):\n",
    "    last_player = 0\n",
    "    last_socks = None\n",
    "    for socks in socks_moves:\n",
    "        print(socks)\n",
    "        last_player = 1 - last_player\n",
    "        last_socks = socks\n",
    "    if last_socks % 2 == 0:\n",
    "        return \"Анри\" if last_player == 1 else \"Дима\"\n",
    "    else:\n",
    "        return \"Анри\" if last_player == 0 else \"Дима\"\n",
    "    \n",
    "\n",
    "# socks_moves = [int(line) for line in sys.stdin]\n",
    "socks_moves = [1, 3, 5, 10, 3, 2, 12]\n",
    "winner = determine_winner(socks_moves)\n",
    "print(winner)\n"
   ]
  },
  {
   "cell_type": "code",
   "execution_count": 4,
   "metadata": {},
   "outputs": [
    {
     "name": "stdout",
     "output_type": "stream",
     "text": [
      "Рост самого низкого ученика: 155\n",
      "Рост самого высокого ученика: 190\n",
      "Средний рост: 175.0\n"
     ]
    }
   ],
   "source": [
    "import sys\n",
    "def determine_hights(hights):\n",
    "    if len(hights) == 0:\n",
    "        print('нет учеников')\n",
    "    else:\n",
    "        max_hight = None\n",
    "        min_hight = None\n",
    "        mean_hight = sum(hights) / len(hights)\n",
    "        for hight in hights:\n",
    "            if min_hight == None or hight < min_hight:\n",
    "                min_hight = hight\n",
    "            if max_hight == None or hight > max_hight:\n",
    "                max_hight = hight\n",
    "        print(f'Рост самого низкого ученика: {min_hight}')\n",
    "        print(f'Рост самого высокого ученика: {max_hight}')\n",
    "        print(f'Средний рост: {mean_hight}')\n",
    "    \n",
    "pupils = [185, 170, 190, 155, 175]\n",
    "pupils = [int(line) for line in sys.stdin]\n",
    "determine_hights(pupils)"
   ]
  },
  {
   "cell_type": "code",
   "execution_count": 7,
   "metadata": {},
   "outputs": [
    {
     "name": "stdout",
     "output_type": "stream",
     "text": [
      "1\n"
     ]
    }
   ],
   "source": [
    "def find_comments(code):\n",
    "    counter = 0\n",
    "    for line in code:\n",
    "        line = line.lstrip()\n",
    "        if line.startswith(\"#\"):\n",
    "            counter += 1\n",
    "    return counter\n",
    "\n",
    "# p_code = ['   s = str(input())', '  k = 0 #', '      #подсчитываем количество цифр']\n",
    "p_code = [line for line in sys.stdin]\n",
    "print(find_comments(p_code))"
   ]
  },
  {
   "cell_type": "code",
   "execution_count": 11,
   "metadata": {},
   "outputs": [
    {
     "name": "stdout",
     "output_type": "stream",
     "text": [
      "   s = str(input())\n",
      "  k = 0 #\n"
     ]
    }
   ],
   "source": [
    "def delete_comments(code):\n",
    "    result = []\n",
    "    for line in code:\n",
    "        line_new = line.strip()\n",
    "        if line_new.startswith(\"#\"):\n",
    "            continue\n",
    "        else:\n",
    "            result.append(line)\n",
    "    return result\n",
    "\n",
    "p_code = ['   s = str(input())', '  k = 0 #', '      #подсчитываем количество цифр']\n",
    "print(*delete_comments(p_code), sep = \"\")"
   ]
  },
  {
   "cell_type": "code",
   "execution_count": 37,
   "metadata": {},
   "outputs": [
    {
     "name": "stdout",
     "output_type": "stream",
     "text": [
      "Политика\n",
      "Джорджи Костава получил членский билет Независимого Кобрастана\n",
      "Всем гражданам Антегрии въезд в Арстоцку запрещен\n",
      "Огурец исключит из своих рядов членов, не проголосовавших за Единую Арстоцку на выборах\n",
      "В Колечии повысят призывной возраст до 40 лет\n"
     ]
    }
   ],
   "source": [
    "def sorting_news(news):\n",
    "    category = news[-1]\n",
    "    new_news = []\n",
    "    for new in news[:-1]:\n",
    "        new_news.append(new.split(' / '))\n",
    "    new_news = filter(lambda x: x[1] == category, new_news)\n",
    "    new_news = sorted(new_news, key=lambda x: (x[2], x[0]))\n",
    "    for new in new_news:\n",
    "        print(new[0])\n",
    "        \n",
    "        \n",
    "news = ['На рейсах Поражения второй пилот будет исполнять обязанности бортпроводника / Авиация / 0.3',\n",
    "'Огурец исключит из своих рядов членов, не проголосовавших за Единую Арстоцку на выборах / Политика / 0.8',\n",
    "'Орбистанские точки общепита будут закрыты для вакцинированных граждан / Общество / 0.7',\n",
    "'Джорджи Костава получил членский билет Независимого Кобрастана / Политика / 0.0',\n",
    "'В Колечии повысят призывной возраст до 40 лет / Политика / 1.0',\n",
    "'Всем гражданам Антегрии въезд в Арстоцку запрещен / Политика / 0.8',\n",
    "'Политика']\n",
    "sorting_news(news)"
   ]
  },
  {
   "cell_type": "code",
   "execution_count": null,
   "metadata": {},
   "outputs": [],
   "source": [
    "import sys\n",
    "\n",
    "def is_arithmetic_progression(seq):\n",
    "    diff = seq[1] - seq[0]\n",
    "    for i in range(2, len(seq)):\n",
    "        if seq[i] - seq[i-1] != diff:\n",
    "            return False\n",
    "    return True\n",
    "\n",
    "def is_geometric_progression(seq):\n",
    "    ratio = seq[1] / seq[0]\n",
    "    for i in range(2, len(seq)):\n",
    "        if seq[i] / seq[i-1] != ratio:\n",
    "            return False\n",
    "    return True\n",
    "\n",
    "sequence = [int(line) for line in sys.stdin]\n",
    "\n",
    "if is_arithmetic_progression(sequence):\n",
    "    print(\"Арифметическая прогрессия\")\n",
    "elif is_geometric_progression(sequence):\n",
    "    print(\"Геометрическая прогрессия\")\n",
    "else:\n",
    "    print(\"Не прогрессия\")"
   ]
  }
 ],
 "metadata": {
  "kernelspec": {
   "display_name": ".venv",
   "language": "python",
   "name": "python3"
  },
  "language_info": {
   "codemirror_mode": {
    "name": "ipython",
    "version": 3
   },
   "file_extension": ".py",
   "mimetype": "text/x-python",
   "name": "python",
   "nbconvert_exporter": "python",
   "pygments_lexer": "ipython3",
   "version": "3.11.2"
  }
 },
 "nbformat": 4,
 "nbformat_minor": 2
}
