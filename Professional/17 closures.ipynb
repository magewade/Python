{
 "cells": [
  {
   "cell_type": "code",
   "execution_count": 1,
   "metadata": {},
   "outputs": [
    {
     "name": "stdout",
     "output_type": "stream",
     "text": [
      "25\n"
     ]
    }
   ],
   "source": [
    "def power(degree):\n",
    "    return lambda x: x ** degree\n",
    "\n",
    "square = power(2)\n",
    "print(square(5))\n",
    "    "
   ]
  },
  {
   "cell_type": "code",
   "execution_count": 2,
   "metadata": {},
   "outputs": [
    {
     "name": "stdout",
     "output_type": "stream",
     "text": [
      "36\n"
     ]
    }
   ],
   "source": [
    "def generator_square_polynom(a, b, c):\n",
    "    def inner_square_polynom(x):\n",
    "        return a*x**2 + b*x + c\n",
    "    return inner_square_polynom\n",
    "\n",
    "f = generator_square_polynom(1, 2, 1)\n",
    "print(f(5))"
   ]
  },
  {
   "cell_type": "code",
   "execution_count": 12,
   "metadata": {},
   "outputs": [
    {
     "name": "stdout",
     "output_type": "stream",
     "text": [
      "https://beegeek.ru?name=timur\n",
      "https://stepik.org/lesson/651459/step/14?thread=solutions&unit=648165\n",
      "https://all_for_comfort_life.com?notebook=huawei&sale=True&smartphone=iPhone\n"
     ]
    }
   ],
   "source": [
    "def sourcetemplate(url):\n",
    "    return lambda **kwargs: url + ('?' + '&'.join([f'{key}={str(kwargs[key]).replace(\" \", \"_\")}' for key in sorted(kwargs.keys())]) if kwargs else '')\n",
    "\n",
    "\n",
    "url = 'https://beegeek.ru'\n",
    "load = sourcetemplate(url)\n",
    "print(load(name='timur'))\n",
    "\n",
    "\n",
    "url = 'https://stepik.org/lesson/651459/step/14'\n",
    "load = sourcetemplate(url)\n",
    "print(load(thread='solutions', unit=648165))\n",
    "\n",
    "url = 'https://all_for_comfort_life.com'\n",
    "load = sourcetemplate(url)\n",
    "print(load(smartphone='iPhone', notebook='huawei', sale=True))"
   ]
  },
  {
   "cell_type": "code",
   "execution_count": 14,
   "metadata": {},
   "outputs": [],
   "source": [
    "from datetime import date\n",
    "\n",
    "def date_formatter(country_code):\n",
    "    def format_date(input_date):\n",
    "        if country_code == 'ru':\n",
    "            return input_date.strftime('%d.%m.%Y')\n",
    "        elif country_code == 'us':\n",
    "            return input_date.strftime('%m-%d-%Y')\n",
    "        elif country_code == 'ca':\n",
    "            return input_date.strftime('%Y-%m-%d')\n",
    "        elif country_code == 'br':\n",
    "            return input_date.strftime('%d/%m/%Y')\n",
    "        elif country_code == 'fr':\n",
    "            return input_date.strftime('%d.%m.%Y')\n",
    "        elif country_code == 'pt':\n",
    "            return input_date.strftime('%d-%m-%Y')\n",
    "        else:\n",
    "            # Если код страны не соответствует ожидаемым значениям, можно обработать эту ситуацию по вашему усмотрению.\n",
    "            return \"Unsupported country code\"\n",
    "\n",
    "    return format_date"
   ]
  },
  {
   "cell_type": "code",
   "execution_count": 15,
   "metadata": {},
   "outputs": [
    {
     "name": "stdout",
     "output_type": "stream",
     "text": [
      "01-05-2025\n"
     ]
    }
   ],
   "source": [
    "date_ru = date_formatter('us')\n",
    "today = date(2025, 1, 5)\n",
    "print(date_ru(today))"
   ]
  },
  {
   "cell_type": "code",
   "execution_count": 17,
   "metadata": {},
   "outputs": [
    {
     "name": "stdout",
     "output_type": "stream",
     "text": [
      "[2, 3, 5, 7, 1, 4, 6, 8]\n"
     ]
    }
   ],
   "source": [
    "def sort_priority(values, group):\n",
    "    def priority(value):\n",
    "        if value in group:\n",
    "            return (0, value)\n",
    "        return (1, value)\n",
    "\n",
    "    values.sort(key=priority)\n",
    "    \n",
    "numbers = [8, 3, 1, 2, 5, 4, 7, 6]\n",
    "group = {5, 7, 2, 3}\n",
    "sort_priority(numbers, group)\n",
    "\n",
    "print(numbers)"
   ]
  },
  {
   "cell_type": "code",
   "execution_count": 27,
   "metadata": {},
   "outputs": [
    {
     "name": "stdout",
     "output_type": "stream",
     "text": [
      "[1, 3, 9, 0, 9, 9, 3, 4]\n",
      "list[int]\n"
     ]
    }
   ],
   "source": [
    "def get_digits(number: int | float) -> list[int]:\n",
    "    return [int(i) for i in str(number) if i.isdigit()]\n",
    "\n",
    "print(get_digits(13.909934))\n",
    "\n",
    "annotations = get_digits.__annotations__\n",
    "\n",
    "print(annotations['return'])"
   ]
  },
  {
   "cell_type": "code",
   "execution_count": 40,
   "metadata": {},
   "outputs": [
    {
     "name": "stdout",
     "output_type": "stream",
     "text": [
      "{'name': 'Ruslan', 'top_grade': 86}\n"
     ]
    }
   ],
   "source": [
    "def top_grade(grades: dict[str, str | list[int]]) -> dict[str, str | int]:\n",
    "    max_grade = max(grades['grades'])\n",
    "    result = {'name': grades['name'], 'top_grade': max_grade}\n",
    "    return result\n",
    "\n",
    "\n",
    "\n",
    "print(top_grade({'name': 'Ruslan', 'grades': [19, 48, 86, 45, 32]}))\n",
    "\n"
   ]
  },
  {
   "cell_type": "code",
   "execution_count": 43,
   "metadata": {},
   "outputs": [
    {
     "name": "stdout",
     "output_type": "stream",
     "text": [
      "[5, 1, 2, 3, 4]\n",
      "[3, 4, 5, 1, 2]\n"
     ]
    }
   ],
   "source": [
    "def cyclic_shift(numbers: list[int | float], step: int) -> None:\n",
    "    length = len(numbers)\n",
    "    if length == 0 or step % length == 0:\n",
    "        return  # Если список пуст или сдвиг равен 0, ничего не делаем\n",
    "\n",
    "    step = step % length  # Обрабатываем случай, если step больше длины списка\n",
    "\n",
    "    if step > 0:\n",
    "        numbers[:] = numbers[-step:] + numbers[:-step]\n",
    "    elif step < 0:\n",
    "        numbers[:] = numbers[-step:] + numbers[:-step]\n",
    "    # Если step равен 0, ничего не делаем\n",
    "    \n",
    "    \n",
    "numbers = [1, 2, 3, 4, 5]\n",
    "cyclic_shift(numbers, 1)\n",
    "print(numbers)  # Output: [5, 1, 2, 3, 4]\n",
    "\n",
    "numbers = [1, 2, 3, 4, 5]\n",
    "cyclic_shift(numbers, -2)\n",
    "print(numbers)  # Output: [3, 4, 5, 1, 2]\n"
   ]
  },
  {
   "cell_type": "code",
   "execution_count": 45,
   "metadata": {},
   "outputs": [
    {
     "name": "stdout",
     "output_type": "stream",
     "text": [
      "{1: [5, 6, 7], 2: [8, 3, 2], 3: [4, 9, 8]}\n",
      "{1: [5.1, 6, 7.94]}\n",
      "dict[int, list[int | float]]\n"
     ]
    }
   ],
   "source": [
    "def matrix_to_dict(matrix: list[list[int | float]]) -> dict[int, list[int | float]]:\n",
    "    result = {i + 1: row for i, row in enumerate(matrix)}\n",
    "    return result\n",
    "\n",
    "\n",
    "matrix = [[5, 6, 7], [8, 3, 2], [4, 9, 8]]\n",
    "print(matrix_to_dict(matrix))  # Output: {1: [5, 6, 7], 2: [8, 3, 2], 3: [4, 9, 8]}\n",
    "\n",
    "matrix = [[5.1, 6, 7.94]]\n",
    "print(matrix_to_dict(matrix))  # Output: {1: [5.1, 6, 7.94]}\n",
    "\n",
    "annotations = matrix_to_dict.__annotations__\n",
    "print(annotations['return'])  # Output: dict[int, list[int | float]]\n",
    "\n"
   ]
  },
  {
   "cell_type": "code",
   "execution_count": null,
   "metadata": {},
   "outputs": [],
   "source": []
  }
 ],
 "metadata": {
  "kernelspec": {
   "display_name": ".venv",
   "language": "python",
   "name": "python3"
  },
  "language_info": {
   "codemirror_mode": {
    "name": "ipython",
    "version": 3
   },
   "file_extension": ".py",
   "mimetype": "text/x-python",
   "name": "python",
   "nbconvert_exporter": "python",
   "pygments_lexer": "ipython3",
   "version": "3.11.2"
  }
 },
 "nbformat": 4,
 "nbformat_minor": 2
}
